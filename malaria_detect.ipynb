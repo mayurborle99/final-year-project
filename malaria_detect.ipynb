
v4, epochs 500
#import libraries
import keras
from keras.preprocessing.image import ImageDataGenerator
from keras.optimizers import Adam
from keras.callbacks import ModelCheckpoint

# for accuracy and loss graph
import matplotlib.pyplot as plt
keras.__version__
'2.11.0'
train_data_path = r"G:\obs_studio\SAP_BTP\Malaria_own\Dataset\train" 
validation_data_path = r"G:\obs_studio\SAP_BTP\Malaria_own\Dataset\val"
# show augmented images
def plotImages(images_arr):
    fig, axes = plt.subplots(1, 5, figsize=(20, 20))
    axes = axes.flatten()
    for img, ax in zip(images_arr, axes):
        ax.imshow(img)
    plt.tight_layout()
    plt.show()
# this is the augmentation configuration we will use for training
# It generate more images using below parameters
training_datagen = ImageDataGenerator(rescale=1./255,
                                      rotation_range=40,
                                      width_shift_range=0.2,
                                      height_shift_range=0.2,
                                      shear_range=0.2,
                                      zoom_range=0.2,
                                      horizontal_flip=True,
                                      fill_mode='nearest')

# this is a generator that will read pictures found in
# at train_data_path, and indefinitely generate
# batches of augmented image data
training_data = training_datagen.flow_from_directory(train_data_path, # this is the target directory
                                      target_size=(150, 150), # all images will be resized to 150x150
                                      batch_size=32,
                                      class_mode='binary')  # since we use binary_crossentropy loss, we need binary labels
Found 416 images belonging to 2 classes.
training_data.class_indices
{'Parasite': 0, 'Uninfected': 1}
 
# this is the augmentation configuration we will use for validation:
# only rescaling
valid_datagen = ImageDataGenerator(rescale=1./255)

# this is a similar generator, for validation data
valid_data = valid_datagen.flow_from_directory(validation_data_path,
                                  target_size=(150,150),
                                  batch_size=32,
                                  class_mode='binary')
Found 72 images belonging to 2 classes.
# showing augmented images
images = [training_data[0][0][0] for i in range(5)]
plotImages(images)

# save best model using vall accuracy
model_path = 'G:\obs_studio\SAP_BTP\Malaria_own\malaria_model.h5'
checkpoint = ModelCheckpoint(model_path, monitor='val_accuracy', verbose=1, save_best_only=True, mode='max')
callbacks_list = [checkpoint]
#Building cnn model
cnn_model = keras.models.Sequential([
                                    keras.layers.Conv2D(filters=32, kernel_size=3, input_shape=[150, 150, 3]),
                                    keras.layers.MaxPooling2D(pool_size=(2,2)),
                                    keras.layers.Conv2D(filters=64, kernel_size=3),
                                    keras.layers.MaxPooling2D(pool_size=(2,2)),
                                    keras.layers.Conv2D(filters=128, kernel_size=3),
                                    keras.layers.MaxPooling2D(pool_size=(2,2)),
                                    keras.layers.Conv2D(filters=256, kernel_size=3),
                                    keras.layers.MaxPooling2D(pool_size=(2,2)),

                                    keras.layers.Dropout(0.5),
                                    keras.layers.Flatten(), # neural network beulding
                                    keras.layers.Dense(units=128, activation='relu'), # input layers
                                    keras.layers.Dropout(0.1),
                                    keras.layers.Dense(units=256, activation='relu'),
                                    keras.layers.Dropout(0.25),
                                    keras.layers.Dense(units=4, activation='softmax') # output layer
])


# compile cnn model
cnn_model.compile(optimizer = Adam(lr=0.0001), loss='sparse_categorical_crossentropy', metrics=['accuracy'])
C:\Users\swapn\AppData\Roaming\Python\Python310\site-packages\keras\optimizers\optimizer_v2\adam.py:117: UserWarning: The `lr` argument is deprecated, use `learning_rate` instead.
  super().__init__(name, **kwargs)
cnn_model.summary()
Model: "sequential"
_________________________________________________________________
 Layer (type)                Output Shape              Param #   
=================================================================
 conv2d (Conv2D)             (None, 148, 148, 32)      896       
                                                                 
 max_pooling2d (MaxPooling2D  (None, 74, 74, 32)       0         
 )                                                               
                                                                 
 conv2d_1 (Conv2D)           (None, 72, 72, 64)        18496     
                                                                 
 max_pooling2d_1 (MaxPooling  (None, 36, 36, 64)       0         
 2D)                                                             
                                                                 
 conv2d_2 (Conv2D)           (None, 34, 34, 128)       73856     
                                                                 
 max_pooling2d_2 (MaxPooling  (None, 17, 17, 128)      0         
 2D)                                                             
                                                                 
 conv2d_3 (Conv2D)           (None, 15, 15, 256)       295168    
                                                                 
 max_pooling2d_3 (MaxPooling  (None, 7, 7, 256)        0         
 2D)                                                             
                                                                 
 dropout (Dropout)           (None, 7, 7, 256)         0         
                                                                 
 flatten (Flatten)           (None, 12544)             0         
                                                                 
 dense (Dense)               (None, 128)               1605760   
                                                                 
 dropout_1 (Dropout)         (None, 128)               0         
                                                                 
 dense_1 (Dense)             (None, 256)               33024     
                                                                 
 dropout_2 (Dropout)         (None, 256)               0         
                                                                 
 dense_2 (Dense)             (None, 4)                 1028      
                                                                 
=================================================================
Total params: 2,028,228
Trainable params: 2,028,228
Non-trainable params: 0
_________________________________________________________________
# train cnn model
history = cnn_model.fit(training_data,
                          epochs=500,
                          verbose=1,
                          validation_data= valid_data,
                          callbacks=callbacks_list) # time start 16.06
Epoch 1/500
13/13 [==============================] - ETA: 0s - loss: 0.9747 - accuracy: 0.4543
Epoch 1: val_accuracy improved from -inf to 0.50000, saving model to G:\obs_studio\SAP_BTP\Malaria_own\malaria_model.h5
13/13 [==============================] - 8s 555ms/step - loss: 0.9747 - accuracy: 0.4543 - val_loss: 0.7718 - val_accuracy: 0.5000
Epoch 2/500
13/13 [==============================] - ETA: 0s - loss: 0.8085 - accuracy: 0.5361
Epoch 2: val_accuracy did not improve from 0.50000
13/13 [==============================] - 7s 531ms/step - loss: 0.8085 - accuracy: 0.5361 - val_loss: 0.7113 - val_accuracy: 0.5000
Epoch 3/500
13/13 [==============================] - ETA: 0s - loss: 0.7714 - accuracy: 0.5361
Epoch 3: val_accuracy did not improve from 0.50000
13/13 [==============================] - 7s 515ms/step - loss: 0.7714 - accuracy: 0.5361 - val_loss: 0.7054 - val_accuracy: 0.5000
Epoch 4/500
13/13 [==============================] - ETA: 0s - loss: 0.7702 - accuracy: 0.5240
Epoch 4: val_accuracy did not improve from 0.50000
13/13 [==============================] - 7s 527ms/step - loss: 0.7702 - accuracy: 0.5240 - val_loss: 0.6992 - val_accuracy: 0.5000
Epoch 5/500
13/13 [==============================] - ETA: 0s - loss: 0.7333 - accuracy: 0.5529
Epoch 5: val_accuracy improved from 0.50000 to 0.56944, saving model to G:\obs_studio\SAP_BTP\Malaria_own\malaria_model.h5
13/13 [==============================] - 7s 527ms/step - loss: 0.7333 - accuracy: 0.5529 - val_loss: 0.6974 - val_accuracy: 0.5694
Epoch 6/500
13/13 [==============================] - ETA: 0s - loss: 0.7296 - accuracy: 0.5481
Epoch 6: val_accuracy did not improve from 0.56944
13/13 [==============================] - 8s 579ms/step - loss: 0.7296 - accuracy: 0.5481 - val_loss: 0.7112 - val_accuracy: 0.5000
Epoch 7/500
13/13 [==============================] - ETA: 0s - loss: 0.7165 - accuracy: 0.5625
Epoch 7: val_accuracy did not improve from 0.56944
13/13 [==============================] - 7s 533ms/step - loss: 0.7165 - accuracy: 0.5625 - val_loss: 0.7126 - val_accuracy: 0.4722
Epoch 8/500
13/13 [==============================] - ETA: 0s - loss: 0.6822 - accuracy: 0.5745
Epoch 8: val_accuracy did not improve from 0.56944
13/13 [==============================] - 7s 536ms/step - loss: 0.6822 - accuracy: 0.5745 - val_loss: 0.7187 - val_accuracy: 0.4444
Epoch 9/500
13/13 [==============================] - ETA: 0s - loss: 0.6468 - accuracy: 0.6226
Epoch 9: val_accuracy did not improve from 0.56944
13/13 [==============================] - 7s 519ms/step - loss: 0.6468 - accuracy: 0.6226 - val_loss: 0.8001 - val_accuracy: 0.5000
Epoch 10/500
13/13 [==============================] - ETA: 0s - loss: 0.5868 - accuracy: 0.6923
Epoch 10: val_accuracy did not improve from 0.56944
13/13 [==============================] - 7s 528ms/step - loss: 0.5868 - accuracy: 0.6923 - val_loss: 0.7542 - val_accuracy: 0.5556
Epoch 11/500
13/13 [==============================] - ETA: 0s - loss: 0.5822 - accuracy: 0.6875
Epoch 11: val_accuracy did not improve from 0.56944
13/13 [==============================] - 7s 528ms/step - loss: 0.5822 - accuracy: 0.6875 - val_loss: 0.7781 - val_accuracy: 0.5417
Epoch 12/500
13/13 [==============================] - ETA: 0s - loss: 0.4828 - accuracy: 0.7524
Epoch 12: val_accuracy did not improve from 0.56944
13/13 [==============================] - 7s 518ms/step - loss: 0.4828 - accuracy: 0.7524 - val_loss: 1.0685 - val_accuracy: 0.5000
Epoch 13/500
13/13 [==============================] - ETA: 0s - loss: 0.5474 - accuracy: 0.7356
Epoch 13: val_accuracy improved from 0.56944 to 0.59722, saving model to G:\obs_studio\SAP_BTP\Malaria_own\malaria_model.h5
13/13 [==============================] - 7s 524ms/step - loss: 0.5474 - accuracy: 0.7356 - val_loss: 0.7234 - val_accuracy: 0.5972
Epoch 14/500
13/13 [==============================] - ETA: 0s - loss: 0.6121 - accuracy: 0.6779
Epoch 14: val_accuracy did not improve from 0.59722
13/13 [==============================] - 7s 523ms/step - loss: 0.6121 - accuracy: 0.6779 - val_loss: 0.8031 - val_accuracy: 0.5278
Epoch 15/500
13/13 [==============================] - ETA: 0s - loss: 0.5005 - accuracy: 0.7524
Epoch 15: val_accuracy did not improve from 0.59722
13/13 [==============================] - 7s 526ms/step - loss: 0.5005 - accuracy: 0.7524 - val_loss: 0.6946 - val_accuracy: 0.5972
Epoch 16/500
13/13 [==============================] - ETA: 0s - loss: 0.4999 - accuracy: 0.7644
Epoch 16: val_accuracy did not improve from 0.59722
13/13 [==============================] - 7s 519ms/step - loss: 0.4999 - accuracy: 0.7644 - val_loss: 0.7077 - val_accuracy: 0.5694
Epoch 17/500
13/13 [==============================] - ETA: 0s - loss: 0.5007 - accuracy: 0.7524
Epoch 17: val_accuracy did not improve from 0.59722
13/13 [==============================] - 7s 521ms/step - loss: 0.5007 - accuracy: 0.7524 - val_loss: 0.7476 - val_accuracy: 0.5972
Epoch 18/500
13/13 [==============================] - ETA: 0s - loss: 0.4786 - accuracy: 0.7476
Epoch 18: val_accuracy did not improve from 0.59722
13/13 [==============================] - 7s 516ms/step - loss: 0.4786 - accuracy: 0.7476 - val_loss: 0.7488 - val_accuracy: 0.5833
Epoch 19/500
13/13 [==============================] - ETA: 0s - loss: 0.4436 - accuracy: 0.7981
Epoch 19: val_accuracy improved from 0.59722 to 0.61111, saving model to G:\obs_studio\SAP_BTP\Malaria_own\malaria_model.h5
13/13 [==============================] - 7s 529ms/step - loss: 0.4436 - accuracy: 0.7981 - val_loss: 0.7617 - val_accuracy: 0.6111
Epoch 20/500
13/13 [==============================] - ETA: 0s - loss: 0.4596 - accuracy: 0.7644
Epoch 20: val_accuracy did not improve from 0.61111
13/13 [==============================] - 7s 524ms/step - loss: 0.4596 - accuracy: 0.7644 - val_loss: 0.7411 - val_accuracy: 0.6111
Epoch 21/500
13/13 [==============================] - ETA: 0s - loss: 0.4615 - accuracy: 0.7404
Epoch 21: val_accuracy did not improve from 0.61111
13/13 [==============================] - 7s 529ms/step - loss: 0.4615 - accuracy: 0.7404 - val_loss: 1.0393 - val_accuracy: 0.5278
Epoch 22/500
13/13 [==============================] - ETA: 0s - loss: 0.4684 - accuracy: 0.7572
Epoch 22: val_accuracy did not improve from 0.61111
13/13 [==============================] - 7s 538ms/step - loss: 0.4684 - accuracy: 0.7572 - val_loss: 0.8170 - val_accuracy: 0.5694
Epoch 23/500
13/13 [==============================] - ETA: 0s - loss: 0.4731 - accuracy: 0.7644
Epoch 23: val_accuracy improved from 0.61111 to 0.62500, saving model to G:\obs_studio\SAP_BTP\Malaria_own\malaria_model.h5
13/13 [==============================] - 7s 521ms/step - loss: 0.4731 - accuracy: 0.7644 - val_loss: 0.7400 - val_accuracy: 0.6250
Epoch 24/500
13/13 [==============================] - ETA: 0s - loss: 0.4532 - accuracy: 0.7644
Epoch 24: val_accuracy did not improve from 0.62500
13/13 [==============================] - 7s 528ms/step - loss: 0.4532 - accuracy: 0.7644 - val_loss: 0.9002 - val_accuracy: 0.5278
Epoch 25/500
13/13 [==============================] - ETA: 0s - loss: 0.4448 - accuracy: 0.7596
Epoch 25: val_accuracy improved from 0.62500 to 0.65278, saving model to G:\obs_studio\SAP_BTP\Malaria_own\malaria_model.h5
13/13 [==============================] - 7s 529ms/step - loss: 0.4448 - accuracy: 0.7596 - val_loss: 0.7748 - val_accuracy: 0.6528
Epoch 26/500
13/13 [==============================] - ETA: 0s - loss: 0.4118 - accuracy: 0.7909
Epoch 26: val_accuracy did not improve from 0.65278
13/13 [==============================] - 7s 522ms/step - loss: 0.4118 - accuracy: 0.7909 - val_loss: 0.9810 - val_accuracy: 0.5278
Epoch 27/500
13/13 [==============================] - ETA: 0s - loss: 0.4288 - accuracy: 0.7740
Epoch 27: val_accuracy did not improve from 0.65278
13/13 [==============================] - 7s 507ms/step - loss: 0.4288 - accuracy: 0.7740 - val_loss: 0.8624 - val_accuracy: 0.5833
Epoch 28/500
13/13 [==============================] - ETA: 0s - loss: 0.4214 - accuracy: 0.8029
Epoch 28: val_accuracy did not improve from 0.65278
13/13 [==============================] - 7s 525ms/step - loss: 0.4214 - accuracy: 0.8029 - val_loss: 0.7903 - val_accuracy: 0.5972
Epoch 29/500
13/13 [==============================] - ETA: 0s - loss: 0.4347 - accuracy: 0.7812
Epoch 29: val_accuracy did not improve from 0.65278
13/13 [==============================] - 7s 520ms/step - loss: 0.4347 - accuracy: 0.7812 - val_loss: 0.6581 - val_accuracy: 0.6528
Epoch 30/500
13/13 [==============================] - ETA: 0s - loss: 0.4331 - accuracy: 0.8053
Epoch 30: val_accuracy did not improve from 0.65278
13/13 [==============================] - 7s 525ms/step - loss: 0.4331 - accuracy: 0.8053 - val_loss: 0.9160 - val_accuracy: 0.5417
Epoch 31/500
13/13 [==============================] - ETA: 0s - loss: 0.4424 - accuracy: 0.7740
Epoch 31: val_accuracy did not improve from 0.65278
13/13 [==============================] - 7s 516ms/step - loss: 0.4424 - accuracy: 0.7740 - val_loss: 1.0153 - val_accuracy: 0.5278
Epoch 32/500
13/13 [==============================] - ETA: 0s - loss: 0.4522 - accuracy: 0.7596
Epoch 32: val_accuracy did not improve from 0.65278
13/13 [==============================] - 7s 521ms/step - loss: 0.4522 - accuracy: 0.7596 - val_loss: 0.9383 - val_accuracy: 0.5278
Epoch 33/500
13/13 [==============================] - ETA: 0s - loss: 0.4427 - accuracy: 0.7885
Epoch 33: val_accuracy improved from 0.65278 to 0.68056, saving model to G:\obs_studio\SAP_BTP\Malaria_own\malaria_model.h5
13/13 [==============================] - 7s 536ms/step - loss: 0.4427 - accuracy: 0.7885 - val_loss: 0.6558 - val_accuracy: 0.6806
Epoch 34/500
13/13 [==============================] - ETA: 0s - loss: 0.4465 - accuracy: 0.7909
Epoch 34: val_accuracy did not improve from 0.68056
13/13 [==============================] - 7s 522ms/step - loss: 0.4465 - accuracy: 0.7909 - val_loss: 0.7058 - val_accuracy: 0.6806
Epoch 35/500
13/13 [==============================] - ETA: 0s - loss: 0.4210 - accuracy: 0.8005
Epoch 35: val_accuracy did not improve from 0.68056
13/13 [==============================] - 7s 531ms/step - loss: 0.4210 - accuracy: 0.8005 - val_loss: 0.8957 - val_accuracy: 0.5556
Epoch 36/500
13/13 [==============================] - ETA: 0s - loss: 0.4226 - accuracy: 0.7668
Epoch 36: val_accuracy did not improve from 0.68056
13/13 [==============================] - 7s 509ms/step - loss: 0.4226 - accuracy: 0.7668 - val_loss: 0.7423 - val_accuracy: 0.6806
Epoch 37/500
13/13 [==============================] - ETA: 0s - loss: 0.4371 - accuracy: 0.7909
Epoch 37: val_accuracy improved from 0.68056 to 0.69444, saving model to G:\obs_studio\SAP_BTP\Malaria_own\malaria_model.h5
13/13 [==============================] - 7s 529ms/step - loss: 0.4371 - accuracy: 0.7909 - val_loss: 0.7266 - val_accuracy: 0.6944
Epoch 38/500
13/13 [==============================] - ETA: 0s - loss: 0.4259 - accuracy: 0.7909
Epoch 38: val_accuracy improved from 0.69444 to 0.72222, saving model to G:\obs_studio\SAP_BTP\Malaria_own\malaria_model.h5
13/13 [==============================] - 7s 516ms/step - loss: 0.4259 - accuracy: 0.7909 - val_loss: 0.6409 - val_accuracy: 0.7222
Epoch 39/500
13/13 [==============================] - ETA: 0s - loss: 0.4353 - accuracy: 0.7620
Epoch 39: val_accuracy did not improve from 0.72222
13/13 [==============================] - 7s 518ms/step - loss: 0.4353 - accuracy: 0.7620 - val_loss: 0.6147 - val_accuracy: 0.7083
Epoch 40/500
13/13 [==============================] - ETA: 0s - loss: 0.4508 - accuracy: 0.7716
Epoch 40: val_accuracy did not improve from 0.72222
13/13 [==============================] - 7s 541ms/step - loss: 0.4508 - accuracy: 0.7716 - val_loss: 0.6620 - val_accuracy: 0.7083
Epoch 41/500
13/13 [==============================] - ETA: 0s - loss: 0.4152 - accuracy: 0.7909
Epoch 41: val_accuracy did not improve from 0.72222
13/13 [==============================] - 7s 523ms/step - loss: 0.4152 - accuracy: 0.7909 - val_loss: 0.6970 - val_accuracy: 0.6944
Epoch 42/500
13/13 [==============================] - ETA: 0s - loss: 0.3949 - accuracy: 0.8077
Epoch 42: val_accuracy did not improve from 0.72222
13/13 [==============================] - 7s 516ms/step - loss: 0.3949 - accuracy: 0.8077 - val_loss: 0.7203 - val_accuracy: 0.7083
Epoch 43/500
13/13 [==============================] - ETA: 0s - loss: 0.3695 - accuracy: 0.8269
Epoch 43: val_accuracy did not improve from 0.72222
13/13 [==============================] - 7s 511ms/step - loss: 0.3695 - accuracy: 0.8269 - val_loss: 0.7495 - val_accuracy: 0.7083
Epoch 44/500
13/13 [==============================] - ETA: 0s - loss: 0.3856 - accuracy: 0.8053
Epoch 44: val_accuracy did not improve from 0.72222
13/13 [==============================] - 7s 526ms/step - loss: 0.3856 - accuracy: 0.8053 - val_loss: 0.5735 - val_accuracy: 0.7083
Epoch 45/500
13/13 [==============================] - ETA: 0s - loss: 0.3887 - accuracy: 0.8053
Epoch 45: val_accuracy improved from 0.72222 to 0.77778, saving model to G:\obs_studio\SAP_BTP\Malaria_own\malaria_model.h5
13/13 [==============================] - 7s 520ms/step - loss: 0.3887 - accuracy: 0.8053 - val_loss: 0.5625 - val_accuracy: 0.7778
Epoch 46/500
13/13 [==============================] - ETA: 0s - loss: 0.4313 - accuracy: 0.8101
Epoch 46: val_accuracy did not improve from 0.77778
13/13 [==============================] - 7s 536ms/step - loss: 0.4313 - accuracy: 0.8101 - val_loss: 0.5808 - val_accuracy: 0.7778
Epoch 47/500
13/13 [==============================] - ETA: 0s - loss: 0.3873 - accuracy: 0.8413
Epoch 47: val_accuracy improved from 0.77778 to 0.80556, saving model to G:\obs_studio\SAP_BTP\Malaria_own\malaria_model.h5
13/13 [==============================] - 7s 548ms/step - loss: 0.3873 - accuracy: 0.8413 - val_loss: 0.5559 - val_accuracy: 0.8056
Epoch 48/500
13/13 [==============================] - ETA: 0s - loss: 0.3449 - accuracy: 0.8558
Epoch 48: val_accuracy did not improve from 0.80556
13/13 [==============================] - 7s 543ms/step - loss: 0.3449 - accuracy: 0.8558 - val_loss: 0.7702 - val_accuracy: 0.6944
Epoch 49/500
13/13 [==============================] - ETA: 0s - loss: 0.3657 - accuracy: 0.8149
Epoch 49: val_accuracy did not improve from 0.80556
13/13 [==============================] - 7s 537ms/step - loss: 0.3657 - accuracy: 0.8149 - val_loss: 0.6165 - val_accuracy: 0.7500
Epoch 50/500
13/13 [==============================] - ETA: 0s - loss: 0.3660 - accuracy: 0.8317
Epoch 50: val_accuracy did not improve from 0.80556
13/13 [==============================] - 7s 524ms/step - loss: 0.3660 - accuracy: 0.8317 - val_loss: 0.6110 - val_accuracy: 0.7500
Epoch 51/500
13/13 [==============================] - ETA: 0s - loss: 0.3523 - accuracy: 0.8269
Epoch 51: val_accuracy improved from 0.80556 to 0.81944, saving model to G:\obs_studio\SAP_BTP\Malaria_own\malaria_model.h5
13/13 [==============================] - 7s 545ms/step - loss: 0.3523 - accuracy: 0.8269 - val_loss: 0.4948 - val_accuracy: 0.8194
Epoch 52/500
13/13 [==============================] - ETA: 0s - loss: 0.3297 - accuracy: 0.8726
Epoch 52: val_accuracy improved from 0.81944 to 0.84722, saving model to G:\obs_studio\SAP_BTP\Malaria_own\malaria_model.h5
13/13 [==============================] - 7s 536ms/step - loss: 0.3297 - accuracy: 0.8726 - val_loss: 0.4364 - val_accuracy: 0.8472
Epoch 53/500
13/13 [==============================] - ETA: 0s - loss: 0.3421 - accuracy: 0.8582
Epoch 53: val_accuracy did not improve from 0.84722
13/13 [==============================] - 7s 528ms/step - loss: 0.3421 - accuracy: 0.8582 - val_loss: 0.5648 - val_accuracy: 0.7778
Epoch 54/500
13/13 [==============================] - ETA: 0s - loss: 0.3320 - accuracy: 0.8606
Epoch 54: val_accuracy did not improve from 0.84722
13/13 [==============================] - 7s 503ms/step - loss: 0.3320 - accuracy: 0.8606 - val_loss: 0.4698 - val_accuracy: 0.8194
Epoch 55/500
13/13 [==============================] - ETA: 0s - loss: 0.3047 - accuracy: 0.8654
Epoch 55: val_accuracy did not improve from 0.84722
13/13 [==============================] - 7s 511ms/step - loss: 0.3047 - accuracy: 0.8654 - val_loss: 0.6934 - val_accuracy: 0.7639
Epoch 56/500
13/13 [==============================] - ETA: 0s - loss: 0.3425 - accuracy: 0.8558
Epoch 56: val_accuracy did not improve from 0.84722
13/13 [==============================] - 7s 500ms/step - loss: 0.3425 - accuracy: 0.8558 - val_loss: 0.7580 - val_accuracy: 0.7083
Epoch 57/500
13/13 [==============================] - ETA: 0s - loss: 0.3078 - accuracy: 0.8798
Epoch 57: val_accuracy did not improve from 0.84722
13/13 [==============================] - 7s 501ms/step - loss: 0.3078 - accuracy: 0.8798 - val_loss: 0.5733 - val_accuracy: 0.7917
Epoch 58/500
13/13 [==============================] - ETA: 0s - loss: 0.2746 - accuracy: 0.8798
Epoch 58: val_accuracy did not improve from 0.84722
13/13 [==============================] - 7s 497ms/step - loss: 0.2746 - accuracy: 0.8798 - val_loss: 0.6798 - val_accuracy: 0.7500
Epoch 59/500
13/13 [==============================] - ETA: 0s - loss: 0.2827 - accuracy: 0.8774
Epoch 59: val_accuracy did not improve from 0.84722
13/13 [==============================] - 7s 507ms/step - loss: 0.2827 - accuracy: 0.8774 - val_loss: 0.6778 - val_accuracy: 0.7639
Epoch 60/500
13/13 [==============================] - ETA: 0s - loss: 0.3216 - accuracy: 0.8558
Epoch 60: val_accuracy did not improve from 0.84722
13/13 [==============================] - 6s 494ms/step - loss: 0.3216 - accuracy: 0.8558 - val_loss: 0.5390 - val_accuracy: 0.8333
Epoch 61/500
13/13 [==============================] - ETA: 0s - loss: 0.2737 - accuracy: 0.8918
Epoch 61: val_accuracy improved from 0.84722 to 0.87500, saving model to G:\obs_studio\SAP_BTP\Malaria_own\malaria_model.h5
13/13 [==============================] - 7s 502ms/step - loss: 0.2737 - accuracy: 0.8918 - val_loss: 0.4532 - val_accuracy: 0.8750
Epoch 62/500
13/13 [==============================] - ETA: 0s - loss: 0.2972 - accuracy: 0.8798
Epoch 62: val_accuracy did not improve from 0.87500
13/13 [==============================] - 7s 505ms/step - loss: 0.2972 - accuracy: 0.8798 - val_loss: 0.3521 - val_accuracy: 0.8750
Epoch 63/500
13/13 [==============================] - ETA: 0s - loss: 0.2712 - accuracy: 0.8774
Epoch 63: val_accuracy did not improve from 0.87500
13/13 [==============================] - 7s 501ms/step - loss: 0.2712 - accuracy: 0.8774 - val_loss: 0.4464 - val_accuracy: 0.8750
Epoch 64/500
13/13 [==============================] - ETA: 0s - loss: 0.2622 - accuracy: 0.9014
Epoch 64: val_accuracy improved from 0.87500 to 0.88889, saving model to G:\obs_studio\SAP_BTP\Malaria_own\malaria_model.h5
13/13 [==============================] - 7s 525ms/step - loss: 0.2622 - accuracy: 0.9014 - val_loss: 0.3451 - val_accuracy: 0.8889
Epoch 65/500
13/13 [==============================] - ETA: 0s - loss: 0.2535 - accuracy: 0.8942
Epoch 65: val_accuracy did not improve from 0.88889
13/13 [==============================] - 7s 509ms/step - loss: 0.2535 - accuracy: 0.8942 - val_loss: 0.4018 - val_accuracy: 0.8750
Epoch 66/500
13/13 [==============================] - ETA: 0s - loss: 0.2441 - accuracy: 0.9135
Epoch 66: val_accuracy did not improve from 0.88889
13/13 [==============================] - 7s 522ms/step - loss: 0.2441 - accuracy: 0.9135 - val_loss: 0.6110 - val_accuracy: 0.8194
Epoch 67/500
13/13 [==============================] - ETA: 0s - loss: 0.2427 - accuracy: 0.8942
Epoch 67: val_accuracy did not improve from 0.88889
13/13 [==============================] - 7s 504ms/step - loss: 0.2427 - accuracy: 0.8942 - val_loss: 0.2727 - val_accuracy: 0.8750
Epoch 68/500
13/13 [==============================] - ETA: 0s - loss: 0.2732 - accuracy: 0.9111
Epoch 68: val_accuracy did not improve from 0.88889
13/13 [==============================] - 7s 507ms/step - loss: 0.2732 - accuracy: 0.9111 - val_loss: 0.4466 - val_accuracy: 0.8750
Epoch 69/500
13/13 [==============================] - ETA: 0s - loss: 0.2792 - accuracy: 0.8870
Epoch 69: val_accuracy improved from 0.88889 to 0.95833, saving model to G:\obs_studio\SAP_BTP\Malaria_own\malaria_model.h5
13/13 [==============================] - 7s 509ms/step - loss: 0.2792 - accuracy: 0.8870 - val_loss: 0.1908 - val_accuracy: 0.9583
Epoch 70/500
13/13 [==============================] - ETA: 0s - loss: 0.2543 - accuracy: 0.8990
Epoch 70: val_accuracy did not improve from 0.95833
13/13 [==============================] - 7s 507ms/step - loss: 0.2543 - accuracy: 0.8990 - val_loss: 0.2725 - val_accuracy: 0.8889
Epoch 71/500
13/13 [==============================] - ETA: 0s - loss: 0.2263 - accuracy: 0.9087
Epoch 71: val_accuracy did not improve from 0.95833
13/13 [==============================] - 7s 519ms/step - loss: 0.2263 - accuracy: 0.9087 - val_loss: 0.5032 - val_accuracy: 0.8472
Epoch 72/500
13/13 [==============================] - ETA: 0s - loss: 0.2700 - accuracy: 0.8870
Epoch 72: val_accuracy did not improve from 0.95833
13/13 [==============================] - 7s 516ms/step - loss: 0.2700 - accuracy: 0.8870 - val_loss: 0.3230 - val_accuracy: 0.8750
Epoch 73/500
13/13 [==============================] - ETA: 0s - loss: 0.2487 - accuracy: 0.9087
Epoch 73: val_accuracy did not improve from 0.95833
13/13 [==============================] - 7s 531ms/step - loss: 0.2487 - accuracy: 0.9087 - val_loss: 0.4571 - val_accuracy: 0.8611
Epoch 74/500
13/13 [==============================] - ETA: 0s - loss: 0.2228 - accuracy: 0.9062
Epoch 74: val_accuracy did not improve from 0.95833
13/13 [==============================] - 7s 527ms/step - loss: 0.2228 - accuracy: 0.9062 - val_loss: 0.3260 - val_accuracy: 0.8750
Epoch 75/500
13/13 [==============================] - ETA: 0s - loss: 0.2528 - accuracy: 0.8918
Epoch 75: val_accuracy did not improve from 0.95833
13/13 [==============================] - 7s 527ms/step - loss: 0.2528 - accuracy: 0.8918 - val_loss: 0.1639 - val_accuracy: 0.9583
Epoch 76/500
13/13 [==============================] - ETA: 0s - loss: 0.2143 - accuracy: 0.9014
Epoch 76: val_accuracy did not improve from 0.95833
13/13 [==============================] - 7s 516ms/step - loss: 0.2143 - accuracy: 0.9014 - val_loss: 0.2822 - val_accuracy: 0.8750
Epoch 77/500
13/13 [==============================] - ETA: 0s - loss: 0.2056 - accuracy: 0.9183
Epoch 77: val_accuracy did not improve from 0.95833
13/13 [==============================] - 7s 539ms/step - loss: 0.2056 - accuracy: 0.9183 - val_loss: 0.4477 - val_accuracy: 0.8750
Epoch 78/500
13/13 [==============================] - ETA: 0s - loss: 0.2156 - accuracy: 0.9183
Epoch 78: val_accuracy did not improve from 0.95833
13/13 [==============================] - 7s 507ms/step - loss: 0.2156 - accuracy: 0.9183 - val_loss: 0.2150 - val_accuracy: 0.9028
Epoch 79/500
13/13 [==============================] - ETA: 0s - loss: 0.2202 - accuracy: 0.9135
Epoch 79: val_accuracy did not improve from 0.95833
13/13 [==============================] - 7s 499ms/step - loss: 0.2202 - accuracy: 0.9135 - val_loss: 0.2629 - val_accuracy: 0.8889
Epoch 80/500
13/13 [==============================] - ETA: 0s - loss: 0.1987 - accuracy: 0.9159
Epoch 80: val_accuracy did not improve from 0.95833
13/13 [==============================] - 7s 496ms/step - loss: 0.1987 - accuracy: 0.9159 - val_loss: 0.2480 - val_accuracy: 0.8889
Epoch 81/500
13/13 [==============================] - ETA: 0s - loss: 0.1928 - accuracy: 0.9255
Epoch 81: val_accuracy did not improve from 0.95833
13/13 [==============================] - 7s 502ms/step - loss: 0.1928 - accuracy: 0.9255 - val_loss: 0.2417 - val_accuracy: 0.8889
Epoch 82/500
13/13 [==============================] - ETA: 0s - loss: 0.2209 - accuracy: 0.9135
Epoch 82: val_accuracy did not improve from 0.95833
13/13 [==============================] - 6s 495ms/step - loss: 0.2209 - accuracy: 0.9135 - val_loss: 0.1980 - val_accuracy: 0.9306
Epoch 83/500
13/13 [==============================] - ETA: 0s - loss: 0.2135 - accuracy: 0.9135
Epoch 83: val_accuracy did not improve from 0.95833
13/13 [==============================] - 7s 504ms/step - loss: 0.2135 - accuracy: 0.9135 - val_loss: 0.3002 - val_accuracy: 0.8889
Epoch 84/500
13/13 [==============================] - ETA: 0s - loss: 0.2028 - accuracy: 0.9183
Epoch 84: val_accuracy did not improve from 0.95833
13/13 [==============================] - 7s 498ms/step - loss: 0.2028 - accuracy: 0.9183 - val_loss: 0.2882 - val_accuracy: 0.8889
Epoch 85/500
13/13 [==============================] - ETA: 0s - loss: 0.2021 - accuracy: 0.9231
Epoch 85: val_accuracy did not improve from 0.95833
13/13 [==============================] - 7s 495ms/step - loss: 0.2021 - accuracy: 0.9231 - val_loss: 0.2232 - val_accuracy: 0.9028
Epoch 86/500
13/13 [==============================] - ETA: 0s - loss: 0.2392 - accuracy: 0.8990
Epoch 86: val_accuracy did not improve from 0.95833
13/13 [==============================] - 7s 500ms/step - loss: 0.2392 - accuracy: 0.8990 - val_loss: 0.3643 - val_accuracy: 0.8889
Epoch 87/500
13/13 [==============================] - ETA: 0s - loss: 0.2229 - accuracy: 0.9087
Epoch 87: val_accuracy did not improve from 0.95833
13/13 [==============================] - 7s 495ms/step - loss: 0.2229 - accuracy: 0.9087 - val_loss: 0.2481 - val_accuracy: 0.9028
Epoch 88/500
13/13 [==============================] - ETA: 0s - loss: 0.2153 - accuracy: 0.9207
Epoch 88: val_accuracy did not improve from 0.95833
13/13 [==============================] - 7s 522ms/step - loss: 0.2153 - accuracy: 0.9207 - val_loss: 0.1452 - val_accuracy: 0.9306
Epoch 89/500
13/13 [==============================] - ETA: 0s - loss: 0.2220 - accuracy: 0.9159
Epoch 89: val_accuracy did not improve from 0.95833
13/13 [==============================] - 7s 508ms/step - loss: 0.2220 - accuracy: 0.9159 - val_loss: 0.3366 - val_accuracy: 0.8750
Epoch 90/500
13/13 [==============================] - ETA: 0s - loss: 0.2502 - accuracy: 0.9014
Epoch 90: val_accuracy did not improve from 0.95833
13/13 [==============================] - 7s 548ms/step - loss: 0.2502 - accuracy: 0.9014 - val_loss: 0.1586 - val_accuracy: 0.9583
Epoch 91/500
13/13 [==============================] - ETA: 0s - loss: 0.2306 - accuracy: 0.9183
Epoch 91: val_accuracy did not improve from 0.95833
13/13 [==============================] - 9s 661ms/step - loss: 0.2306 - accuracy: 0.9183 - val_loss: 0.1289 - val_accuracy: 0.9583
Epoch 92/500
13/13 [==============================] - ETA: 0s - loss: 0.1948 - accuracy: 0.9207
Epoch 92: val_accuracy did not improve from 0.95833
13/13 [==============================] - 7s 530ms/step - loss: 0.1948 - accuracy: 0.9207 - val_loss: 0.1729 - val_accuracy: 0.9167
Epoch 93/500
13/13 [==============================] - ETA: 0s - loss: 0.1690 - accuracy: 0.9303
Epoch 93: val_accuracy did not improve from 0.95833
13/13 [==============================] - 9s 681ms/step - loss: 0.1690 - accuracy: 0.9303 - val_loss: 0.1722 - val_accuracy: 0.9028
Epoch 94/500
13/13 [==============================] - ETA: 0s - loss: 0.1991 - accuracy: 0.9303
Epoch 94: val_accuracy did not improve from 0.95833
13/13 [==============================] - 9s 645ms/step - loss: 0.1991 - accuracy: 0.9303 - val_loss: 0.1372 - val_accuracy: 0.9444
Epoch 95/500
13/13 [==============================] - ETA: 0s - loss: 0.1966 - accuracy: 0.9255
Epoch 95: val_accuracy did not improve from 0.95833
13/13 [==============================] - 8s 619ms/step - loss: 0.1966 - accuracy: 0.9255 - val_loss: 0.1825 - val_accuracy: 0.8889
Epoch 96/500
13/13 [==============================] - ETA: 0s - loss: 0.2124 - accuracy: 0.9062
Epoch 96: val_accuracy did not improve from 0.95833
13/13 [==============================] - 7s 535ms/step - loss: 0.2124 - accuracy: 0.9062 - val_loss: 0.3064 - val_accuracy: 0.8889
Epoch 97/500
13/13 [==============================] - ETA: 0s - loss: 0.2398 - accuracy: 0.9159
Epoch 97: val_accuracy improved from 0.95833 to 0.97222, saving model to G:\obs_studio\SAP_BTP\Malaria_own\malaria_model.h5
13/13 [==============================] - 7s 521ms/step - loss: 0.2398 - accuracy: 0.9159 - val_loss: 0.1089 - val_accuracy: 0.9722
Epoch 98/500
13/13 [==============================] - ETA: 0s - loss: 0.1841 - accuracy: 0.9279
Epoch 98: val_accuracy did not improve from 0.97222
13/13 [==============================] - 7s 510ms/step - loss: 0.1841 - accuracy: 0.9279 - val_loss: 0.1689 - val_accuracy: 0.9028
Epoch 99/500
13/13 [==============================] - ETA: 0s - loss: 0.1686 - accuracy: 0.9303
Epoch 99: val_accuracy did not improve from 0.97222
13/13 [==============================] - 7s 507ms/step - loss: 0.1686 - accuracy: 0.9303 - val_loss: 0.1200 - val_accuracy: 0.9444
Epoch 100/500
13/13 [==============================] - ETA: 0s - loss: 0.1968 - accuracy: 0.9231
Epoch 100: val_accuracy did not improve from 0.97222
13/13 [==============================] - 7s 505ms/step - loss: 0.1968 - accuracy: 0.9231 - val_loss: 0.1756 - val_accuracy: 0.9028
Epoch 101/500
13/13 [==============================] - ETA: 0s - loss: 0.1847 - accuracy: 0.9255
Epoch 101: val_accuracy did not improve from 0.97222
13/13 [==============================] - 7s 502ms/step - loss: 0.1847 - accuracy: 0.9255 - val_loss: 0.1480 - val_accuracy: 0.9306
Epoch 102/500
13/13 [==============================] - ETA: 0s - loss: 0.1897 - accuracy: 0.9351
Epoch 102: val_accuracy did not improve from 0.97222
13/13 [==============================] - 7s 508ms/step - loss: 0.1897 - accuracy: 0.9351 - val_loss: 0.2338 - val_accuracy: 0.8889
Epoch 103/500
13/13 [==============================] - ETA: 0s - loss: 0.1854 - accuracy: 0.9351
Epoch 103: val_accuracy did not improve from 0.97222
13/13 [==============================] - 7s 500ms/step - loss: 0.1854 - accuracy: 0.9351 - val_loss: 0.1216 - val_accuracy: 0.9167
Epoch 104/500
13/13 [==============================] - ETA: 0s - loss: 0.1748 - accuracy: 0.9351
Epoch 104: val_accuracy did not improve from 0.97222
13/13 [==============================] - 7s 518ms/step - loss: 0.1748 - accuracy: 0.9351 - val_loss: 0.1792 - val_accuracy: 0.9167
Epoch 105/500
13/13 [==============================] - ETA: 0s - loss: 0.1505 - accuracy: 0.9471
Epoch 105: val_accuracy did not improve from 0.97222
13/13 [==============================] - 7s 500ms/step - loss: 0.1505 - accuracy: 0.9471 - val_loss: 0.1617 - val_accuracy: 0.9167
Epoch 106/500
13/13 [==============================] - ETA: 0s - loss: 0.1789 - accuracy: 0.9207
Epoch 106: val_accuracy did not improve from 0.97222
13/13 [==============================] - 7s 503ms/step - loss: 0.1789 - accuracy: 0.9207 - val_loss: 0.1162 - val_accuracy: 0.9306
Epoch 107/500
13/13 [==============================] - ETA: 0s - loss: 0.1902 - accuracy: 0.9207
Epoch 107: val_accuracy did not improve from 0.97222
13/13 [==============================] - 7s 500ms/step - loss: 0.1902 - accuracy: 0.9207 - val_loss: 0.1683 - val_accuracy: 0.9028
Epoch 108/500
13/13 [==============================] - ETA: 0s - loss: 0.1640 - accuracy: 0.9255
Epoch 108: val_accuracy did not improve from 0.97222
13/13 [==============================] - 7s 512ms/step - loss: 0.1640 - accuracy: 0.9255 - val_loss: 0.1189 - val_accuracy: 0.9444
Epoch 109/500
13/13 [==============================] - ETA: 0s - loss: 0.1469 - accuracy: 0.9519
Epoch 109: val_accuracy did not improve from 0.97222
13/13 [==============================] - 6s 495ms/step - loss: 0.1469 - accuracy: 0.9519 - val_loss: 0.1811 - val_accuracy: 0.9167
Epoch 110/500
13/13 [==============================] - ETA: 0s - loss: 0.1742 - accuracy: 0.9327
Epoch 110: val_accuracy did not improve from 0.97222
13/13 [==============================] - 7s 501ms/step - loss: 0.1742 - accuracy: 0.9327 - val_loss: 0.1186 - val_accuracy: 0.9306
Epoch 111/500
13/13 [==============================] - ETA: 0s - loss: 0.1872 - accuracy: 0.9255
Epoch 111: val_accuracy did not improve from 0.97222
13/13 [==============================] - 6s 494ms/step - loss: 0.1872 - accuracy: 0.9255 - val_loss: 0.2989 - val_accuracy: 0.8889
Epoch 112/500
13/13 [==============================] - ETA: 0s - loss: 0.1429 - accuracy: 0.9447
Epoch 112: val_accuracy did not improve from 0.97222
13/13 [==============================] - 7s 497ms/step - loss: 0.1429 - accuracy: 0.9447 - val_loss: 0.1728 - val_accuracy: 0.9028
Epoch 113/500
13/13 [==============================] - ETA: 0s - loss: 0.1966 - accuracy: 0.9327
Epoch 113: val_accuracy improved from 0.97222 to 0.98611, saving model to G:\obs_studio\SAP_BTP\Malaria_own\malaria_model.h5
13/13 [==============================] - 7s 503ms/step - loss: 0.1966 - accuracy: 0.9327 - val_loss: 0.0913 - val_accuracy: 0.9861
Epoch 114/500
13/13 [==============================] - ETA: 0s - loss: 0.1753 - accuracy: 0.9327
Epoch 114: val_accuracy did not improve from 0.98611
13/13 [==============================] - 6s 491ms/step - loss: 0.1753 - accuracy: 0.9327 - val_loss: 0.1172 - val_accuracy: 0.9583
Epoch 115/500
13/13 [==============================] - ETA: 0s - loss: 0.1589 - accuracy: 0.9303
Epoch 115: val_accuracy did not improve from 0.98611
13/13 [==============================] - 7s 509ms/step - loss: 0.1589 - accuracy: 0.9303 - val_loss: 0.1274 - val_accuracy: 0.9444
Epoch 116/500
13/13 [==============================] - ETA: 0s - loss: 0.2017 - accuracy: 0.9183
Epoch 116: val_accuracy did not improve from 0.98611
13/13 [==============================] - 7s 502ms/step - loss: 0.2017 - accuracy: 0.9183 - val_loss: 0.1591 - val_accuracy: 0.9444
Epoch 117/500
13/13 [==============================] - ETA: 0s - loss: 0.1687 - accuracy: 0.9351
Epoch 117: val_accuracy did not improve from 0.98611
13/13 [==============================] - 7s 498ms/step - loss: 0.1687 - accuracy: 0.9351 - val_loss: 0.1449 - val_accuracy: 0.9167
Epoch 118/500
13/13 [==============================] - ETA: 0s - loss: 0.1180 - accuracy: 0.9615
Epoch 118: val_accuracy did not improve from 0.98611
13/13 [==============================] - 7s 497ms/step - loss: 0.1180 - accuracy: 0.9615 - val_loss: 0.0845 - val_accuracy: 0.9722
Epoch 119/500
13/13 [==============================] - ETA: 0s - loss: 0.1877 - accuracy: 0.9255
Epoch 119: val_accuracy did not improve from 0.98611
13/13 [==============================] - 7s 509ms/step - loss: 0.1877 - accuracy: 0.9255 - val_loss: 0.2465 - val_accuracy: 0.9028
Epoch 120/500
13/13 [==============================] - ETA: 0s - loss: 0.1891 - accuracy: 0.9327
Epoch 120: val_accuracy did not improve from 0.98611
13/13 [==============================] - 7s 499ms/step - loss: 0.1891 - accuracy: 0.9327 - val_loss: 0.0882 - val_accuracy: 0.9722
Epoch 121/500
13/13 [==============================] - ETA: 0s - loss: 0.1838 - accuracy: 0.9303
Epoch 121: val_accuracy did not improve from 0.98611
13/13 [==============================] - 7s 508ms/step - loss: 0.1838 - accuracy: 0.9303 - val_loss: 0.1976 - val_accuracy: 0.8889
Epoch 122/500
13/13 [==============================] - ETA: 0s - loss: 0.1272 - accuracy: 0.9495
Epoch 122: val_accuracy did not improve from 0.98611
13/13 [==============================] - 7s 499ms/step - loss: 0.1272 - accuracy: 0.9495 - val_loss: 0.1653 - val_accuracy: 0.9028
Epoch 123/500
13/13 [==============================] - ETA: 0s - loss: 0.1425 - accuracy: 0.9423
Epoch 123: val_accuracy did not improve from 0.98611
13/13 [==============================] - 7s 503ms/step - loss: 0.1425 - accuracy: 0.9423 - val_loss: 0.0817 - val_accuracy: 0.9722
Epoch 124/500
13/13 [==============================] - ETA: 0s - loss: 0.1176 - accuracy: 0.9495
Epoch 124: val_accuracy did not improve from 0.98611
13/13 [==============================] - 7s 506ms/step - loss: 0.1176 - accuracy: 0.9495 - val_loss: 0.1430 - val_accuracy: 0.9167
Epoch 125/500
13/13 [==============================] - ETA: 0s - loss: 0.1786 - accuracy: 0.9399
Epoch 125: val_accuracy did not improve from 0.98611
13/13 [==============================] - 7s 507ms/step - loss: 0.1786 - accuracy: 0.9399 - val_loss: 0.0721 - val_accuracy: 0.9861
Epoch 126/500
13/13 [==============================] - ETA: 0s - loss: 0.1496 - accuracy: 0.9399
Epoch 126: val_accuracy did not improve from 0.98611
13/13 [==============================] - 7s 505ms/step - loss: 0.1496 - accuracy: 0.9399 - val_loss: 0.0686 - val_accuracy: 0.9861
Epoch 127/500
13/13 [==============================] - ETA: 0s - loss: 0.1277 - accuracy: 0.9399
Epoch 127: val_accuracy did not improve from 0.98611
13/13 [==============================] - 7s 496ms/step - loss: 0.1277 - accuracy: 0.9399 - val_loss: 0.0645 - val_accuracy: 0.9861
Epoch 128/500
13/13 [==============================] - ETA: 0s - loss: 0.1303 - accuracy: 0.9543
Epoch 128: val_accuracy did not improve from 0.98611
13/13 [==============================] - 7s 525ms/step - loss: 0.1303 - accuracy: 0.9543 - val_loss: 0.1064 - val_accuracy: 0.9306
Epoch 129/500
13/13 [==============================] - ETA: 0s - loss: 0.1241 - accuracy: 0.9495
Epoch 129: val_accuracy did not improve from 0.98611
13/13 [==============================] - 7s 559ms/step - loss: 0.1241 - accuracy: 0.9495 - val_loss: 0.0660 - val_accuracy: 0.9861
Epoch 130/500
13/13 [==============================] - ETA: 0s - loss: 0.1312 - accuracy: 0.9567
Epoch 130: val_accuracy did not improve from 0.98611
13/13 [==============================] - 7s 553ms/step - loss: 0.1312 - accuracy: 0.9567 - val_loss: 0.0768 - val_accuracy: 0.9722
Epoch 131/500
13/13 [==============================] - ETA: 0s - loss: 0.1678 - accuracy: 0.9399
Epoch 131: val_accuracy did not improve from 0.98611
13/13 [==============================] - 7s 559ms/step - loss: 0.1678 - accuracy: 0.9399 - val_loss: 0.0633 - val_accuracy: 0.9722
Epoch 132/500
13/13 [==============================] - ETA: 0s - loss: 0.1332 - accuracy: 0.9399
Epoch 132: val_accuracy did not improve from 0.98611
13/13 [==============================] - 7s 505ms/step - loss: 0.1332 - accuracy: 0.9399 - val_loss: 0.0863 - val_accuracy: 0.9583
Epoch 133/500
13/13 [==============================] - ETA: 0s - loss: 0.1075 - accuracy: 0.9495
Epoch 133: val_accuracy did not improve from 0.98611
13/13 [==============================] - 7s 523ms/step - loss: 0.1075 - accuracy: 0.9495 - val_loss: 0.0533 - val_accuracy: 0.9722
Epoch 134/500
13/13 [==============================] - ETA: 0s - loss: 0.1328 - accuracy: 0.9471
Epoch 134: val_accuracy improved from 0.98611 to 1.00000, saving model to G:\obs_studio\SAP_BTP\Malaria_own\malaria_model.h5
13/13 [==============================] - 7s 522ms/step - loss: 0.1328 - accuracy: 0.9471 - val_loss: 0.0374 - val_accuracy: 1.0000
Epoch 135/500
13/13 [==============================] - ETA: 0s - loss: 0.1595 - accuracy: 0.9375
Epoch 135: val_accuracy did not improve from 1.00000
13/13 [==============================] - 7s 524ms/step - loss: 0.1595 - accuracy: 0.9375 - val_loss: 0.0663 - val_accuracy: 0.9861
Epoch 136/500
13/13 [==============================] - ETA: 0s - loss: 0.1365 - accuracy: 0.9447
Epoch 136: val_accuracy did not improve from 1.00000
13/13 [==============================] - 7s 512ms/step - loss: 0.1365 - accuracy: 0.9447 - val_loss: 0.1049 - val_accuracy: 0.9583
Epoch 137/500
13/13 [==============================] - ETA: 0s - loss: 0.1669 - accuracy: 0.9375
Epoch 137: val_accuracy did not improve from 1.00000
13/13 [==============================] - 7s 523ms/step - loss: 0.1669 - accuracy: 0.9375 - val_loss: 0.0593 - val_accuracy: 0.9861
Epoch 138/500
13/13 [==============================] - ETA: 0s - loss: 0.1304 - accuracy: 0.9471
Epoch 138: val_accuracy did not improve from 1.00000
13/13 [==============================] - 7s 506ms/step - loss: 0.1304 - accuracy: 0.9471 - val_loss: 0.0594 - val_accuracy: 0.9861
Epoch 139/500
13/13 [==============================] - ETA: 0s - loss: 0.1537 - accuracy: 0.9471
Epoch 139: val_accuracy did not improve from 1.00000
13/13 [==============================] - 7s 517ms/step - loss: 0.1537 - accuracy: 0.9471 - val_loss: 0.1021 - val_accuracy: 0.9444
Epoch 140/500
13/13 [==============================] - ETA: 0s - loss: 0.1839 - accuracy: 0.9327
Epoch 140: val_accuracy did not improve from 1.00000
13/13 [==============================] - 7s 503ms/step - loss: 0.1839 - accuracy: 0.9327 - val_loss: 0.0654 - val_accuracy: 0.9861
Epoch 141/500
13/13 [==============================] - ETA: 0s - loss: 0.1198 - accuracy: 0.9519
Epoch 141: val_accuracy did not improve from 1.00000
13/13 [==============================] - 7s 512ms/step - loss: 0.1198 - accuracy: 0.9519 - val_loss: 0.1282 - val_accuracy: 0.9167
Epoch 142/500
13/13 [==============================] - ETA: 0s - loss: 0.1683 - accuracy: 0.9351
Epoch 142: val_accuracy did not improve from 1.00000
13/13 [==============================] - 7s 516ms/step - loss: 0.1683 - accuracy: 0.9351 - val_loss: 0.0762 - val_accuracy: 0.9861
Epoch 143/500
13/13 [==============================] - ETA: 0s - loss: 0.1646 - accuracy: 0.9303
Epoch 143: val_accuracy did not improve from 1.00000
13/13 [==============================] - 7s 506ms/step - loss: 0.1646 - accuracy: 0.9303 - val_loss: 0.0557 - val_accuracy: 0.9861
Epoch 144/500
13/13 [==============================] - ETA: 0s - loss: 0.1385 - accuracy: 0.9543
Epoch 144: val_accuracy did not improve from 1.00000
13/13 [==============================] - 7s 518ms/step - loss: 0.1385 - accuracy: 0.9543 - val_loss: 0.0553 - val_accuracy: 0.9722
Epoch 145/500
13/13 [==============================] - ETA: 0s - loss: 0.2022 - accuracy: 0.9159
Epoch 145: val_accuracy did not improve from 1.00000
13/13 [==============================] - 7s 511ms/step - loss: 0.2022 - accuracy: 0.9159 - val_loss: 0.1010 - val_accuracy: 0.9722
Epoch 146/500
13/13 [==============================] - ETA: 0s - loss: 0.1510 - accuracy: 0.9303
Epoch 146: val_accuracy did not improve from 1.00000
13/13 [==============================] - 7s 524ms/step - loss: 0.1510 - accuracy: 0.9303 - val_loss: 0.0565 - val_accuracy: 1.0000
Epoch 147/500
13/13 [==============================] - ETA: 0s - loss: 0.1395 - accuracy: 0.9447
Epoch 147: val_accuracy did not improve from 1.00000
13/13 [==============================] - 7s 505ms/step - loss: 0.1395 - accuracy: 0.9447 - val_loss: 0.0513 - val_accuracy: 0.9861
Epoch 148/500
13/13 [==============================] - ETA: 0s - loss: 0.1090 - accuracy: 0.9495
Epoch 148: val_accuracy did not improve from 1.00000
13/13 [==============================] - 7s 514ms/step - loss: 0.1090 - accuracy: 0.9495 - val_loss: 0.0821 - val_accuracy: 0.9583
Epoch 149/500
13/13 [==============================] - ETA: 0s - loss: 0.1230 - accuracy: 0.9519
Epoch 149: val_accuracy did not improve from 1.00000
13/13 [==============================] - 7s 511ms/step - loss: 0.1230 - accuracy: 0.9519 - val_loss: 0.0499 - val_accuracy: 0.9861
Epoch 150/500
13/13 [==============================] - ETA: 0s - loss: 0.1407 - accuracy: 0.9591
Epoch 150: val_accuracy did not improve from 1.00000
13/13 [==============================] - 7s 506ms/step - loss: 0.1407 - accuracy: 0.9591 - val_loss: 0.0365 - val_accuracy: 0.9861
Epoch 151/500
13/13 [==============================] - ETA: 0s - loss: 0.1292 - accuracy: 0.9423
Epoch 151: val_accuracy did not improve from 1.00000
13/13 [==============================] - 7s 517ms/step - loss: 0.1292 - accuracy: 0.9423 - val_loss: 0.0858 - val_accuracy: 0.9722
Epoch 152/500
13/13 [==============================] - ETA: 0s - loss: 0.1105 - accuracy: 0.9543
Epoch 152: val_accuracy did not improve from 1.00000
13/13 [==============================] - 7s 505ms/step - loss: 0.1105 - accuracy: 0.9543 - val_loss: 0.0437 - val_accuracy: 0.9861
Epoch 153/500
13/13 [==============================] - ETA: 0s - loss: 0.1238 - accuracy: 0.9543
Epoch 153: val_accuracy did not improve from 1.00000
13/13 [==============================] - 7s 513ms/step - loss: 0.1238 - accuracy: 0.9543 - val_loss: 0.0363 - val_accuracy: 1.0000
Epoch 154/500
13/13 [==============================] - ETA: 0s - loss: 0.1208 - accuracy: 0.9615
Epoch 154: val_accuracy did not improve from 1.00000
13/13 [==============================] - 7s 505ms/step - loss: 0.1208 - accuracy: 0.9615 - val_loss: 0.0340 - val_accuracy: 1.0000
Epoch 155/500
13/13 [==============================] - ETA: 0s - loss: 0.1214 - accuracy: 0.9519
Epoch 155: val_accuracy did not improve from 1.00000
13/13 [==============================] - 7s 515ms/step - loss: 0.1214 - accuracy: 0.9519 - val_loss: 0.0427 - val_accuracy: 1.0000
Epoch 156/500
13/13 [==============================] - ETA: 0s - loss: 0.1324 - accuracy: 0.9375
Epoch 156: val_accuracy did not improve from 1.00000
13/13 [==============================] - 7s 504ms/step - loss: 0.1324 - accuracy: 0.9375 - val_loss: 0.0350 - val_accuracy: 1.0000
Epoch 157/500
13/13 [==============================] - ETA: 0s - loss: 0.1072 - accuracy: 0.9519
Epoch 157: val_accuracy did not improve from 1.00000
13/13 [==============================] - 7s 516ms/step - loss: 0.1072 - accuracy: 0.9519 - val_loss: 0.0448 - val_accuracy: 0.9861
Epoch 158/500
13/13 [==============================] - ETA: 0s - loss: 0.1138 - accuracy: 0.9495
Epoch 158: val_accuracy did not improve from 1.00000
13/13 [==============================] - 7s 504ms/step - loss: 0.1138 - accuracy: 0.9495 - val_loss: 0.0669 - val_accuracy: 0.9722
Epoch 159/500
13/13 [==============================] - ETA: 0s - loss: 0.1361 - accuracy: 0.9471
Epoch 159: val_accuracy did not improve from 1.00000
13/13 [==============================] - 7s 511ms/step - loss: 0.1361 - accuracy: 0.9471 - val_loss: 0.0339 - val_accuracy: 1.0000
Epoch 160/500
13/13 [==============================] - ETA: 0s - loss: 0.1609 - accuracy: 0.9375
Epoch 160: val_accuracy did not improve from 1.00000
13/13 [==============================] - 7s 510ms/step - loss: 0.1609 - accuracy: 0.9375 - val_loss: 0.0478 - val_accuracy: 0.9861
Epoch 161/500
13/13 [==============================] - ETA: 0s - loss: 0.1194 - accuracy: 0.9519
Epoch 161: val_accuracy did not improve from 1.00000
13/13 [==============================] - 7s 507ms/step - loss: 0.1194 - accuracy: 0.9519 - val_loss: 0.0323 - val_accuracy: 1.0000
Epoch 162/500
13/13 [==============================] - ETA: 0s - loss: 0.1409 - accuracy: 0.9471
Epoch 162: val_accuracy did not improve from 1.00000
13/13 [==============================] - 7s 554ms/step - loss: 0.1409 - accuracy: 0.9471 - val_loss: 0.0369 - val_accuracy: 1.0000
Epoch 163/500
13/13 [==============================] - ETA: 0s - loss: 0.0939 - accuracy: 0.9663
Epoch 163: val_accuracy did not improve from 1.00000
13/13 [==============================] - 7s 550ms/step - loss: 0.0939 - accuracy: 0.9663 - val_loss: 0.1046 - val_accuracy: 0.9583
Epoch 164/500
13/13 [==============================] - ETA: 0s - loss: 0.1558 - accuracy: 0.9423
Epoch 164: val_accuracy did not improve from 1.00000
13/13 [==============================] - 7s 514ms/step - loss: 0.1558 - accuracy: 0.9423 - val_loss: 0.0428 - val_accuracy: 0.9861
Epoch 165/500
13/13 [==============================] - ETA: 0s - loss: 0.0943 - accuracy: 0.9663
Epoch 165: val_accuracy did not improve from 1.00000
13/13 [==============================] - 7s 496ms/step - loss: 0.0943 - accuracy: 0.9663 - val_loss: 0.0426 - val_accuracy: 0.9861
Epoch 166/500
13/13 [==============================] - ETA: 0s - loss: 0.1362 - accuracy: 0.9471
Epoch 166: val_accuracy did not improve from 1.00000
13/13 [==============================] - 7s 502ms/step - loss: 0.1362 - accuracy: 0.9471 - val_loss: 0.0488 - val_accuracy: 0.9861
Epoch 167/500
13/13 [==============================] - ETA: 0s - loss: 0.1195 - accuracy: 0.9591
Epoch 167: val_accuracy did not improve from 1.00000
13/13 [==============================] - 7s 503ms/step - loss: 0.1195 - accuracy: 0.9591 - val_loss: 0.0951 - val_accuracy: 0.9444
Epoch 168/500
13/13 [==============================] - ETA: 0s - loss: 0.1130 - accuracy: 0.9663
Epoch 168: val_accuracy did not improve from 1.00000
13/13 [==============================] - 7s 505ms/step - loss: 0.1130 - accuracy: 0.9663 - val_loss: 0.0349 - val_accuracy: 1.0000
Epoch 169/500
13/13 [==============================] - ETA: 0s - loss: 0.1021 - accuracy: 0.9567
Epoch 169: val_accuracy did not improve from 1.00000
13/13 [==============================] - 6s 495ms/step - loss: 0.1021 - accuracy: 0.9567 - val_loss: 0.0455 - val_accuracy: 0.9861
Epoch 170/500
13/13 [==============================] - ETA: 0s - loss: 0.1059 - accuracy: 0.9543
Epoch 170: val_accuracy did not improve from 1.00000
13/13 [==============================] - 7s 507ms/step - loss: 0.1059 - accuracy: 0.9543 - val_loss: 0.0369 - val_accuracy: 0.9861
Epoch 171/500
13/13 [==============================] - ETA: 0s - loss: 0.1307 - accuracy: 0.9471
Epoch 171: val_accuracy did not improve from 1.00000
13/13 [==============================] - 7s 500ms/step - loss: 0.1307 - accuracy: 0.9471 - val_loss: 0.0332 - val_accuracy: 0.9861
Epoch 172/500
13/13 [==============================] - ETA: 0s - loss: 0.1376 - accuracy: 0.9495
Epoch 172: val_accuracy did not improve from 1.00000
13/13 [==============================] - 7s 503ms/step - loss: 0.1376 - accuracy: 0.9495 - val_loss: 0.0463 - val_accuracy: 1.0000
Epoch 173/500
13/13 [==============================] - ETA: 0s - loss: 0.1312 - accuracy: 0.9495
Epoch 173: val_accuracy did not improve from 1.00000
13/13 [==============================] - 7s 507ms/step - loss: 0.1312 - accuracy: 0.9495 - val_loss: 0.0291 - val_accuracy: 1.0000
Epoch 174/500
13/13 [==============================] - ETA: 0s - loss: 0.1256 - accuracy: 0.9543
Epoch 174: val_accuracy did not improve from 1.00000
13/13 [==============================] - 7s 501ms/step - loss: 0.1256 - accuracy: 0.9543 - val_loss: 0.0428 - val_accuracy: 0.9861
Epoch 175/500
13/13 [==============================] - ETA: 0s - loss: 0.1380 - accuracy: 0.9471
Epoch 175: val_accuracy did not improve from 1.00000
13/13 [==============================] - 7s 508ms/step - loss: 0.1380 - accuracy: 0.9471 - val_loss: 0.0294 - val_accuracy: 1.0000
Epoch 176/500
13/13 [==============================] - ETA: 0s - loss: 0.1203 - accuracy: 0.9615
Epoch 176: val_accuracy did not improve from 1.00000
13/13 [==============================] - 7s 500ms/step - loss: 0.1203 - accuracy: 0.9615 - val_loss: 0.0422 - val_accuracy: 0.9861
Epoch 177/500
13/13 [==============================] - ETA: 0s - loss: 0.1238 - accuracy: 0.9399
Epoch 177: val_accuracy did not improve from 1.00000
13/13 [==============================] - 7s 500ms/step - loss: 0.1238 - accuracy: 0.9399 - val_loss: 0.0370 - val_accuracy: 1.0000
Epoch 178/500
13/13 [==============================] - ETA: 0s - loss: 0.1032 - accuracy: 0.9615
Epoch 178: val_accuracy did not improve from 1.00000
13/13 [==============================] - 7s 495ms/step - loss: 0.1032 - accuracy: 0.9615 - val_loss: 0.0245 - val_accuracy: 1.0000
Epoch 179/500
13/13 [==============================] - ETA: 0s - loss: 0.1103 - accuracy: 0.9567
Epoch 179: val_accuracy did not improve from 1.00000
13/13 [==============================] - 7s 503ms/step - loss: 0.1103 - accuracy: 0.9567 - val_loss: 0.0426 - val_accuracy: 0.9861
Epoch 180/500
13/13 [==============================] - ETA: 0s - loss: 0.1042 - accuracy: 0.9712
Epoch 180: val_accuracy did not improve from 1.00000
13/13 [==============================] - 7s 502ms/step - loss: 0.1042 - accuracy: 0.9712 - val_loss: 0.0243 - val_accuracy: 1.0000
Epoch 181/500
13/13 [==============================] - ETA: 0s - loss: 0.1165 - accuracy: 0.9471
Epoch 181: val_accuracy did not improve from 1.00000
13/13 [==============================] - 7s 502ms/step - loss: 0.1165 - accuracy: 0.9471 - val_loss: 0.0343 - val_accuracy: 1.0000
Epoch 182/500
13/13 [==============================] - ETA: 0s - loss: 0.1192 - accuracy: 0.9543
Epoch 182: val_accuracy did not improve from 1.00000
13/13 [==============================] - 7s 495ms/step - loss: 0.1192 - accuracy: 0.9543 - val_loss: 0.0413 - val_accuracy: 0.9861
Epoch 183/500
13/13 [==============================] - ETA: 0s - loss: 0.1244 - accuracy: 0.9519
Epoch 183: val_accuracy did not improve from 1.00000
13/13 [==============================] - 7s 510ms/step - loss: 0.1244 - accuracy: 0.9519 - val_loss: 0.0450 - val_accuracy: 0.9861
Epoch 184/500
13/13 [==============================] - ETA: 0s - loss: 0.1321 - accuracy: 0.9519
Epoch 184: val_accuracy did not improve from 1.00000
13/13 [==============================] - 7s 503ms/step - loss: 0.1321 - accuracy: 0.9519 - val_loss: 0.0257 - val_accuracy: 1.0000
Epoch 185/500
13/13 [==============================] - ETA: 0s - loss: 0.0948 - accuracy: 0.9688
Epoch 185: val_accuracy did not improve from 1.00000
13/13 [==============================] - 7s 497ms/step - loss: 0.0948 - accuracy: 0.9688 - val_loss: 0.0279 - val_accuracy: 1.0000
Epoch 186/500
13/13 [==============================] - ETA: 0s - loss: 0.0823 - accuracy: 0.9760
Epoch 186: val_accuracy did not improve from 1.00000
13/13 [==============================] - 7s 505ms/step - loss: 0.0823 - accuracy: 0.9760 - val_loss: 0.0371 - val_accuracy: 0.9861
Epoch 187/500
13/13 [==============================] - ETA: 0s - loss: 0.1174 - accuracy: 0.9639
Epoch 187: val_accuracy did not improve from 1.00000
13/13 [==============================] - 7s 504ms/step - loss: 0.1174 - accuracy: 0.9639 - val_loss: 0.0501 - val_accuracy: 0.9722
Epoch 188/500
13/13 [==============================] - ETA: 0s - loss: 0.0998 - accuracy: 0.9591
Epoch 188: val_accuracy did not improve from 1.00000
13/13 [==============================] - 7s 500ms/step - loss: 0.0998 - accuracy: 0.9591 - val_loss: 0.0364 - val_accuracy: 0.9861
Epoch 189/500
13/13 [==============================] - ETA: 0s - loss: 0.1014 - accuracy: 0.9495
Epoch 189: val_accuracy did not improve from 1.00000
13/13 [==============================] - 7s 497ms/step - loss: 0.1014 - accuracy: 0.9495 - val_loss: 0.0268 - val_accuracy: 0.9861
Epoch 190/500
13/13 [==============================] - ETA: 0s - loss: 0.0991 - accuracy: 0.9639
Epoch 190: val_accuracy did not improve from 1.00000
13/13 [==============================] - 7s 506ms/step - loss: 0.0991 - accuracy: 0.9639 - val_loss: 0.0300 - val_accuracy: 0.9861
Epoch 191/500
13/13 [==============================] - ETA: 0s - loss: 0.1241 - accuracy: 0.9543
Epoch 191: val_accuracy did not improve from 1.00000
13/13 [==============================] - 7s 500ms/step - loss: 0.1241 - accuracy: 0.9543 - val_loss: 0.0244 - val_accuracy: 1.0000
Epoch 192/500
13/13 [==============================] - ETA: 0s - loss: 0.1249 - accuracy: 0.9519
Epoch 192: val_accuracy did not improve from 1.00000
13/13 [==============================] - 7s 511ms/step - loss: 0.1249 - accuracy: 0.9519 - val_loss: 0.0300 - val_accuracy: 1.0000
Epoch 193/500
13/13 [==============================] - ETA: 0s - loss: 0.1019 - accuracy: 0.9663
Epoch 193: val_accuracy did not improve from 1.00000
13/13 [==============================] - 6s 493ms/step - loss: 0.1019 - accuracy: 0.9663 - val_loss: 0.0320 - val_accuracy: 0.9861
Epoch 194/500
13/13 [==============================] - ETA: 0s - loss: 0.1059 - accuracy: 0.9591
Epoch 194: val_accuracy did not improve from 1.00000
13/13 [==============================] - 7s 506ms/step - loss: 0.1059 - accuracy: 0.9591 - val_loss: 0.0287 - val_accuracy: 1.0000
Epoch 195/500
13/13 [==============================] - ETA: 0s - loss: 0.1008 - accuracy: 0.9567
Epoch 195: val_accuracy did not improve from 1.00000
13/13 [==============================] - 7s 508ms/step - loss: 0.1008 - accuracy: 0.9567 - val_loss: 0.0324 - val_accuracy: 0.9861
Epoch 196/500
13/13 [==============================] - ETA: 0s - loss: 0.0863 - accuracy: 0.9591
Epoch 196: val_accuracy did not improve from 1.00000
13/13 [==============================] - 7s 507ms/step - loss: 0.0863 - accuracy: 0.9591 - val_loss: 0.0172 - val_accuracy: 1.0000
Epoch 197/500
13/13 [==============================] - ETA: 0s - loss: 0.0979 - accuracy: 0.9639
Epoch 197: val_accuracy did not improve from 1.00000
13/13 [==============================] - 7s 504ms/step - loss: 0.0979 - accuracy: 0.9639 - val_loss: 0.0205 - val_accuracy: 1.0000
Epoch 198/500
13/13 [==============================] - ETA: 0s - loss: 0.1466 - accuracy: 0.9567
Epoch 198: val_accuracy did not improve from 1.00000
13/13 [==============================] - 7s 503ms/step - loss: 0.1466 - accuracy: 0.9567 - val_loss: 0.0310 - val_accuracy: 0.9861
Epoch 199/500
13/13 [==============================] - ETA: 0s - loss: 0.1061 - accuracy: 0.9615
Epoch 199: val_accuracy did not improve from 1.00000
13/13 [==============================] - 7s 504ms/step - loss: 0.1061 - accuracy: 0.9615 - val_loss: 0.0355 - val_accuracy: 1.0000
Epoch 200/500
13/13 [==============================] - ETA: 0s - loss: 0.0724 - accuracy: 0.9688
Epoch 200: val_accuracy did not improve from 1.00000
13/13 [==============================] - 7s 501ms/step - loss: 0.0724 - accuracy: 0.9688 - val_loss: 0.0196 - val_accuracy: 1.0000
Epoch 201/500
13/13 [==============================] - ETA: 0s - loss: 0.0886 - accuracy: 0.9639
Epoch 201: val_accuracy did not improve from 1.00000
13/13 [==============================] - 7s 527ms/step - loss: 0.0886 - accuracy: 0.9639 - val_loss: 0.0217 - val_accuracy: 1.0000
Epoch 202/500
13/13 [==============================] - ETA: 0s - loss: 0.1078 - accuracy: 0.9591
Epoch 202: val_accuracy did not improve from 1.00000
13/13 [==============================] - 7s 503ms/step - loss: 0.1078 - accuracy: 0.9591 - val_loss: 0.0222 - val_accuracy: 1.0000
Epoch 203/500
13/13 [==============================] - ETA: 0s - loss: 0.1124 - accuracy: 0.9543
Epoch 203: val_accuracy did not improve from 1.00000
13/13 [==============================] - 13s 1s/step - loss: 0.1124 - accuracy: 0.9543 - val_loss: 0.0180 - val_accuracy: 1.0000
Epoch 204/500
13/13 [==============================] - ETA: 0s - loss: 0.0936 - accuracy: 0.9663
Epoch 204: val_accuracy did not improve from 1.00000
13/13 [==============================] - 9s 684ms/step - loss: 0.0936 - accuracy: 0.9663 - val_loss: 0.0392 - val_accuracy: 1.0000
Epoch 205/500
13/13 [==============================] - ETA: 0s - loss: 0.1216 - accuracy: 0.9543
Epoch 205: val_accuracy did not improve from 1.00000
13/13 [==============================] - 9s 675ms/step - loss: 0.1216 - accuracy: 0.9543 - val_loss: 0.0279 - val_accuracy: 1.0000
Epoch 206/500
13/13 [==============================] - ETA: 0s - loss: 0.1272 - accuracy: 0.9567
Epoch 206: val_accuracy did not improve from 1.00000
13/13 [==============================] - 9s 681ms/step - loss: 0.1272 - accuracy: 0.9567 - val_loss: 0.0167 - val_accuracy: 1.0000
Epoch 207/500
13/13 [==============================] - ETA: 0s - loss: 0.1080 - accuracy: 0.9591
Epoch 207: val_accuracy did not improve from 1.00000
13/13 [==============================] - 9s 684ms/step - loss: 0.1080 - accuracy: 0.9591 - val_loss: 0.0215 - val_accuracy: 0.9861
Epoch 208/500
13/13 [==============================] - ETA: 0s - loss: 0.1180 - accuracy: 0.9567
Epoch 208: val_accuracy did not improve from 1.00000
13/13 [==============================] - 9s 695ms/step - loss: 0.1180 - accuracy: 0.9567 - val_loss: 0.0358 - val_accuracy: 0.9861
Epoch 209/500
13/13 [==============================] - ETA: 0s - loss: 0.1110 - accuracy: 0.9519
Epoch 209: val_accuracy did not improve from 1.00000
13/13 [==============================] - 9s 679ms/step - loss: 0.1110 - accuracy: 0.9519 - val_loss: 0.0315 - val_accuracy: 1.0000
Epoch 210/500
13/13 [==============================] - ETA: 0s - loss: 0.1102 - accuracy: 0.9519
Epoch 210: val_accuracy did not improve from 1.00000
13/13 [==============================] - 9s 682ms/step - loss: 0.1102 - accuracy: 0.9519 - val_loss: 0.0232 - val_accuracy: 0.9861
Epoch 211/500
13/13 [==============================] - ETA: 0s - loss: 0.1374 - accuracy: 0.9423
Epoch 211: val_accuracy did not improve from 1.00000
13/13 [==============================] - 9s 684ms/step - loss: 0.1374 - accuracy: 0.9423 - val_loss: 0.0261 - val_accuracy: 1.0000
Epoch 212/500
13/13 [==============================] - ETA: 0s - loss: 0.0914 - accuracy: 0.9639
Epoch 212: val_accuracy did not improve from 1.00000
13/13 [==============================] - 9s 682ms/step - loss: 0.0914 - accuracy: 0.9639 - val_loss: 0.0204 - val_accuracy: 1.0000
Epoch 213/500
13/13 [==============================] - ETA: 0s - loss: 0.0721 - accuracy: 0.9736
Epoch 213: val_accuracy did not improve from 1.00000
13/13 [==============================] - 9s 682ms/step - loss: 0.0721 - accuracy: 0.9736 - val_loss: 0.0176 - val_accuracy: 1.0000
Epoch 214/500
13/13 [==============================] - ETA: 0s - loss: 0.1113 - accuracy: 0.9591
Epoch 214: val_accuracy did not improve from 1.00000
13/13 [==============================] - 9s 689ms/step - loss: 0.1113 - accuracy: 0.9591 - val_loss: 0.0304 - val_accuracy: 0.9861
Epoch 215/500
13/13 [==============================] - ETA: 0s - loss: 0.0886 - accuracy: 0.9567
Epoch 215: val_accuracy did not improve from 1.00000
13/13 [==============================] - 9s 695ms/step - loss: 0.0886 - accuracy: 0.9567 - val_loss: 0.0305 - val_accuracy: 0.9861
Epoch 216/500
13/13 [==============================] - ETA: 0s - loss: 0.1045 - accuracy: 0.9663
Epoch 216: val_accuracy did not improve from 1.00000
13/13 [==============================] - 9s 678ms/step - loss: 0.1045 - accuracy: 0.9663 - val_loss: 0.0525 - val_accuracy: 0.9861
Epoch 217/500
13/13 [==============================] - ETA: 0s - loss: 0.1043 - accuracy: 0.9639
Epoch 217: val_accuracy did not improve from 1.00000
13/13 [==============================] - 9s 690ms/step - loss: 0.1043 - accuracy: 0.9639 - val_loss: 0.0522 - val_accuracy: 0.9861
Epoch 218/500
13/13 [==============================] - ETA: 0s - loss: 0.0741 - accuracy: 0.9784
Epoch 218: val_accuracy did not improve from 1.00000
13/13 [==============================] - 9s 698ms/step - loss: 0.0741 - accuracy: 0.9784 - val_loss: 0.0230 - val_accuracy: 1.0000
Epoch 219/500
13/13 [==============================] - ETA: 0s - loss: 0.1011 - accuracy: 0.9591
Epoch 219: val_accuracy did not improve from 1.00000
13/13 [==============================] - 9s 688ms/step - loss: 0.1011 - accuracy: 0.9591 - val_loss: 0.0241 - val_accuracy: 1.0000
Epoch 220/500
13/13 [==============================] - ETA: 0s - loss: 0.1122 - accuracy: 0.9591
Epoch 220: val_accuracy did not improve from 1.00000
13/13 [==============================] - 9s 689ms/step - loss: 0.1122 - accuracy: 0.9591 - val_loss: 0.0504 - val_accuracy: 1.0000
Epoch 221/500
13/13 [==============================] - ETA: 0s - loss: 0.0665 - accuracy: 0.9808
Epoch 221: val_accuracy did not improve from 1.00000
13/13 [==============================] - 9s 685ms/step - loss: 0.0665 - accuracy: 0.9808 - val_loss: 0.0232 - val_accuracy: 1.0000
Epoch 222/500
13/13 [==============================] - ETA: 0s - loss: 0.0811 - accuracy: 0.9784
Epoch 222: val_accuracy did not improve from 1.00000
13/13 [==============================] - 9s 683ms/step - loss: 0.0811 - accuracy: 0.9784 - val_loss: 0.0158 - val_accuracy: 1.0000
Epoch 223/500
13/13 [==============================] - ETA: 0s - loss: 0.0815 - accuracy: 0.9663
Epoch 223: val_accuracy did not improve from 1.00000
13/13 [==============================] - 9s 678ms/step - loss: 0.0815 - accuracy: 0.9663 - val_loss: 0.0200 - val_accuracy: 0.9861
Epoch 224/500
13/13 [==============================] - ETA: 0s - loss: 0.0848 - accuracy: 0.9712
Epoch 224: val_accuracy did not improve from 1.00000
13/13 [==============================] - 10s 730ms/step - loss: 0.0848 - accuracy: 0.9712 - val_loss: 0.0138 - val_accuracy: 1.0000
Epoch 225/500
13/13 [==============================] - ETA: 0s - loss: 0.0714 - accuracy: 0.9760
Epoch 225: val_accuracy did not improve from 1.00000
13/13 [==============================] - 9s 696ms/step - loss: 0.0714 - accuracy: 0.9760 - val_loss: 0.0309 - val_accuracy: 0.9861
Epoch 226/500
13/13 [==============================] - ETA: 0s - loss: 0.0716 - accuracy: 0.9736
Epoch 226: val_accuracy did not improve from 1.00000
13/13 [==============================] - 9s 685ms/step - loss: 0.0716 - accuracy: 0.9736 - val_loss: 0.0147 - val_accuracy: 1.0000
Epoch 227/500
13/13 [==============================] - ETA: 0s - loss: 0.0980 - accuracy: 0.9663
Epoch 227: val_accuracy did not improve from 1.00000
13/13 [==============================] - 9s 683ms/step - loss: 0.0980 - accuracy: 0.9663 - val_loss: 0.0199 - val_accuracy: 0.9861
Epoch 228/500
13/13 [==============================] - ETA: 0s - loss: 0.1049 - accuracy: 0.9639
Epoch 228: val_accuracy did not improve from 1.00000
13/13 [==============================] - 9s 695ms/step - loss: 0.1049 - accuracy: 0.9639 - val_loss: 0.0166 - val_accuracy: 1.0000
Epoch 229/500
13/13 [==============================] - ETA: 0s - loss: 0.1166 - accuracy: 0.9375
Epoch 229: val_accuracy did not improve from 1.00000
13/13 [==============================] - 9s 691ms/step - loss: 0.1166 - accuracy: 0.9375 - val_loss: 0.0206 - val_accuracy: 1.0000
Epoch 230/500
13/13 [==============================] - ETA: 0s - loss: 0.1341 - accuracy: 0.9567
Epoch 230: val_accuracy did not improve from 1.00000
13/13 [==============================] - 9s 689ms/step - loss: 0.1341 - accuracy: 0.9567 - val_loss: 0.0249 - val_accuracy: 0.9861
Epoch 231/500
13/13 [==============================] - ETA: 0s - loss: 0.0904 - accuracy: 0.9591
Epoch 231: val_accuracy did not improve from 1.00000
13/13 [==============================] - 9s 693ms/step - loss: 0.0904 - accuracy: 0.9591 - val_loss: 0.0273 - val_accuracy: 1.0000
Epoch 232/500
13/13 [==============================] - ETA: 0s - loss: 0.0603 - accuracy: 0.9808
Epoch 232: val_accuracy did not improve from 1.00000
13/13 [==============================] - 9s 725ms/step - loss: 0.0603 - accuracy: 0.9808 - val_loss: 0.0211 - val_accuracy: 1.0000
Epoch 233/500
13/13 [==============================] - ETA: 0s - loss: 0.1152 - accuracy: 0.9591
Epoch 233: val_accuracy did not improve from 1.00000
13/13 [==============================] - 9s 687ms/step - loss: 0.1152 - accuracy: 0.9591 - val_loss: 0.0421 - val_accuracy: 1.0000
Epoch 234/500
13/13 [==============================] - ETA: 0s - loss: 0.1012 - accuracy: 0.9663
Epoch 234: val_accuracy did not improve from 1.00000
13/13 [==============================] - 9s 699ms/step - loss: 0.1012 - accuracy: 0.9663 - val_loss: 0.0167 - val_accuracy: 1.0000
Epoch 235/500
13/13 [==============================] - ETA: 0s - loss: 0.0814 - accuracy: 0.9736
Epoch 235: val_accuracy did not improve from 1.00000
13/13 [==============================] - 9s 709ms/step - loss: 0.0814 - accuracy: 0.9736 - val_loss: 0.0148 - val_accuracy: 1.0000
Epoch 236/500
13/13 [==============================] - ETA: 0s - loss: 0.0989 - accuracy: 0.9736
Epoch 236: val_accuracy did not improve from 1.00000
13/13 [==============================] - 9s 709ms/step - loss: 0.0989 - accuracy: 0.9736 - val_loss: 0.0175 - val_accuracy: 1.0000
Epoch 237/500
13/13 [==============================] - ETA: 0s - loss: 0.0892 - accuracy: 0.9639
Epoch 237: val_accuracy did not improve from 1.00000
13/13 [==============================] - 9s 688ms/step - loss: 0.0892 - accuracy: 0.9639 - val_loss: 0.0222 - val_accuracy: 0.9861
Epoch 238/500
13/13 [==============================] - ETA: 0s - loss: 0.1127 - accuracy: 0.9591
Epoch 238: val_accuracy did not improve from 1.00000
13/13 [==============================] - 9s 697ms/step - loss: 0.1127 - accuracy: 0.9591 - val_loss: 0.0169 - val_accuracy: 1.0000
Epoch 239/500
13/13 [==============================] - ETA: 0s - loss: 0.0951 - accuracy: 0.9615
Epoch 239: val_accuracy did not improve from 1.00000
13/13 [==============================] - 9s 709ms/step - loss: 0.0951 - accuracy: 0.9615 - val_loss: 0.0143 - val_accuracy: 1.0000
Epoch 240/500
13/13 [==============================] - ETA: 0s - loss: 0.0696 - accuracy: 0.9760
Epoch 240: val_accuracy did not improve from 1.00000
13/13 [==============================] - 9s 673ms/step - loss: 0.0696 - accuracy: 0.9760 - val_loss: 0.0357 - val_accuracy: 0.9861
Epoch 241/500
13/13 [==============================] - ETA: 0s - loss: 0.0889 - accuracy: 0.9663
Epoch 241: val_accuracy did not improve from 1.00000
13/13 [==============================] - 9s 686ms/step - loss: 0.0889 - accuracy: 0.9663 - val_loss: 0.0552 - val_accuracy: 0.9722
Epoch 242/500
13/13 [==============================] - ETA: 0s - loss: 0.1154 - accuracy: 0.9639
Epoch 242: val_accuracy did not improve from 1.00000
13/13 [==============================] - 9s 690ms/step - loss: 0.1154 - accuracy: 0.9639 - val_loss: 0.0102 - val_accuracy: 1.0000
Epoch 243/500
13/13 [==============================] - ETA: 0s - loss: 0.1272 - accuracy: 0.9615
Epoch 243: val_accuracy did not improve from 1.00000
13/13 [==============================] - 9s 696ms/step - loss: 0.1272 - accuracy: 0.9615 - val_loss: 0.0601 - val_accuracy: 0.9861
Epoch 244/500
13/13 [==============================] - ETA: 0s - loss: 0.1359 - accuracy: 0.9447
Epoch 244: val_accuracy did not improve from 1.00000
13/13 [==============================] - 9s 690ms/step - loss: 0.1359 - accuracy: 0.9447 - val_loss: 0.0089 - val_accuracy: 1.0000
Epoch 245/500
13/13 [==============================] - ETA: 0s - loss: 0.1073 - accuracy: 0.9591
Epoch 245: val_accuracy did not improve from 1.00000
13/13 [==============================] - 9s 689ms/step - loss: 0.1073 - accuracy: 0.9591 - val_loss: 0.0112 - val_accuracy: 1.0000
Epoch 246/500
13/13 [==============================] - ETA: 0s - loss: 0.0790 - accuracy: 0.9663
Epoch 246: val_accuracy did not improve from 1.00000
13/13 [==============================] - 10s 729ms/step - loss: 0.0790 - accuracy: 0.9663 - val_loss: 0.0086 - val_accuracy: 1.0000
Epoch 247/500
13/13 [==============================] - ETA: 0s - loss: 0.0937 - accuracy: 0.9663
Epoch 247: val_accuracy did not improve from 1.00000
13/13 [==============================] - 9s 713ms/step - loss: 0.0937 - accuracy: 0.9663 - val_loss: 0.0222 - val_accuracy: 1.0000
Epoch 248/500
13/13 [==============================] - ETA: 0s - loss: 0.0917 - accuracy: 0.9591
Epoch 248: val_accuracy did not improve from 1.00000
13/13 [==============================] - 9s 691ms/step - loss: 0.0917 - accuracy: 0.9591 - val_loss: 0.0140 - val_accuracy: 1.0000
Epoch 249/500
13/13 [==============================] - ETA: 0s - loss: 0.0889 - accuracy: 0.9639
Epoch 249: val_accuracy did not improve from 1.00000
13/13 [==============================] - 9s 700ms/step - loss: 0.0889 - accuracy: 0.9639 - val_loss: 0.0201 - val_accuracy: 1.0000
Epoch 250/500
13/13 [==============================] - ETA: 0s - loss: 0.0963 - accuracy: 0.9639
Epoch 250: val_accuracy did not improve from 1.00000
13/13 [==============================] - 9s 683ms/step - loss: 0.0963 - accuracy: 0.9639 - val_loss: 0.0202 - val_accuracy: 1.0000
Epoch 251/500
13/13 [==============================] - ETA: 0s - loss: 0.0913 - accuracy: 0.9639
Epoch 251: val_accuracy did not improve from 1.00000
13/13 [==============================] - 9s 687ms/step - loss: 0.0913 - accuracy: 0.9639 - val_loss: 0.0179 - val_accuracy: 1.0000
Epoch 252/500
13/13 [==============================] - ETA: 0s - loss: 0.1052 - accuracy: 0.9519
Epoch 252: val_accuracy did not improve from 1.00000
13/13 [==============================] - 9s 690ms/step - loss: 0.1052 - accuracy: 0.9519 - val_loss: 0.0118 - val_accuracy: 1.0000
Epoch 253/500
13/13 [==============================] - ETA: 0s - loss: 0.0907 - accuracy: 0.9615
Epoch 253: val_accuracy did not improve from 1.00000
13/13 [==============================] - 9s 704ms/step - loss: 0.0907 - accuracy: 0.9615 - val_loss: 0.0167 - val_accuracy: 1.0000
Epoch 254/500
13/13 [==============================] - ETA: 0s - loss: 0.0909 - accuracy: 0.9567
Epoch 254: val_accuracy did not improve from 1.00000
13/13 [==============================] - 9s 677ms/step - loss: 0.0909 - accuracy: 0.9567 - val_loss: 0.0747 - val_accuracy: 0.9722
Epoch 255/500
13/13 [==============================] - ETA: 0s - loss: 0.1464 - accuracy: 0.9351
Epoch 255: val_accuracy did not improve from 1.00000
13/13 [==============================] - 9s 686ms/step - loss: 0.1464 - accuracy: 0.9351 - val_loss: 0.0330 - val_accuracy: 1.0000
Epoch 256/500
13/13 [==============================] - ETA: 0s - loss: 0.1031 - accuracy: 0.9615
Epoch 256: val_accuracy did not improve from 1.00000
13/13 [==============================] - 9s 704ms/step - loss: 0.1031 - accuracy: 0.9615 - val_loss: 0.0399 - val_accuracy: 1.0000
Epoch 257/500
13/13 [==============================] - ETA: 0s - loss: 0.1039 - accuracy: 0.9688
Epoch 257: val_accuracy did not improve from 1.00000
13/13 [==============================] - 9s 698ms/step - loss: 0.1039 - accuracy: 0.9688 - val_loss: 0.0243 - val_accuracy: 1.0000
Epoch 258/500
13/13 [==============================] - ETA: 0s - loss: 0.1099 - accuracy: 0.9495
Epoch 258: val_accuracy did not improve from 1.00000
13/13 [==============================] - 9s 688ms/step - loss: 0.1099 - accuracy: 0.9495 - val_loss: 0.0197 - val_accuracy: 1.0000
Epoch 259/500
13/13 [==============================] - ETA: 0s - loss: 0.0580 - accuracy: 0.9832
Epoch 259: val_accuracy did not improve from 1.00000
13/13 [==============================] - 9s 692ms/step - loss: 0.0580 - accuracy: 0.9832 - val_loss: 0.0464 - val_accuracy: 0.9861
Epoch 260/500
13/13 [==============================] - ETA: 0s - loss: 0.0756 - accuracy: 0.9712
Epoch 260: val_accuracy did not improve from 1.00000
13/13 [==============================] - 9s 701ms/step - loss: 0.0756 - accuracy: 0.9712 - val_loss: 0.0190 - val_accuracy: 1.0000
Epoch 261/500
13/13 [==============================] - ETA: 0s - loss: 0.0717 - accuracy: 0.9760
Epoch 261: val_accuracy did not improve from 1.00000
13/13 [==============================] - 9s 691ms/step - loss: 0.0717 - accuracy: 0.9760 - val_loss: 0.0211 - val_accuracy: 1.0000
Epoch 262/500
13/13 [==============================] - ETA: 0s - loss: 0.0874 - accuracy: 0.9543
Epoch 262: val_accuracy did not improve from 1.00000
13/13 [==============================] - 9s 698ms/step - loss: 0.0874 - accuracy: 0.9543 - val_loss: 0.0180 - val_accuracy: 1.0000
Epoch 263/500
13/13 [==============================] - ETA: 0s - loss: 0.0695 - accuracy: 0.9688
Epoch 263: val_accuracy did not improve from 1.00000
13/13 [==============================] - 9s 687ms/step - loss: 0.0695 - accuracy: 0.9688 - val_loss: 0.0207 - val_accuracy: 1.0000
Epoch 264/500
13/13 [==============================] - ETA: 0s - loss: 0.0825 - accuracy: 0.9688
Epoch 264: val_accuracy did not improve from 1.00000
13/13 [==============================] - 9s 688ms/step - loss: 0.0825 - accuracy: 0.9688 - val_loss: 0.0267 - val_accuracy: 1.0000
Epoch 265/500
13/13 [==============================] - ETA: 0s - loss: 0.0704 - accuracy: 0.9736
Epoch 265: val_accuracy did not improve from 1.00000
13/13 [==============================] - 9s 682ms/step - loss: 0.0704 - accuracy: 0.9736 - val_loss: 0.0184 - val_accuracy: 1.0000
Epoch 266/500
13/13 [==============================] - ETA: 0s - loss: 0.0719 - accuracy: 0.9712
Epoch 266: val_accuracy did not improve from 1.00000
13/13 [==============================] - 9s 698ms/step - loss: 0.0719 - accuracy: 0.9712 - val_loss: 0.0134 - val_accuracy: 1.0000
Epoch 267/500
13/13 [==============================] - ETA: 0s - loss: 0.0869 - accuracy: 0.9639
Epoch 267: val_accuracy did not improve from 1.00000
13/13 [==============================] - 9s 690ms/step - loss: 0.0869 - accuracy: 0.9639 - val_loss: 0.0288 - val_accuracy: 1.0000
Epoch 268/500
13/13 [==============================] - ETA: 0s - loss: 0.0661 - accuracy: 0.9832
Epoch 268: val_accuracy did not improve from 1.00000
13/13 [==============================] - 9s 684ms/step - loss: 0.0661 - accuracy: 0.9832 - val_loss: 0.0178 - val_accuracy: 1.0000
Epoch 269/500
13/13 [==============================] - ETA: 0s - loss: 0.1000 - accuracy: 0.9543
Epoch 269: val_accuracy did not improve from 1.00000
13/13 [==============================] - 9s 672ms/step - loss: 0.1000 - accuracy: 0.9543 - val_loss: 0.0141 - val_accuracy: 1.0000
Epoch 270/500
13/13 [==============================] - ETA: 0s - loss: 0.1006 - accuracy: 0.9615
Epoch 270: val_accuracy did not improve from 1.00000
13/13 [==============================] - 9s 696ms/step - loss: 0.1006 - accuracy: 0.9615 - val_loss: 0.0183 - val_accuracy: 1.0000
Epoch 271/500
13/13 [==============================] - ETA: 0s - loss: 0.1154 - accuracy: 0.9567
Epoch 271: val_accuracy did not improve from 1.00000
13/13 [==============================] - 9s 695ms/step - loss: 0.1154 - accuracy: 0.9567 - val_loss: 0.0264 - val_accuracy: 0.9861
Epoch 272/500
13/13 [==============================] - ETA: 0s - loss: 0.1026 - accuracy: 0.9639
Epoch 272: val_accuracy did not improve from 1.00000
13/13 [==============================] - 9s 672ms/step - loss: 0.1026 - accuracy: 0.9639 - val_loss: 0.0597 - val_accuracy: 1.0000
Epoch 273/500
13/13 [==============================] - ETA: 0s - loss: 0.0871 - accuracy: 0.9591
Epoch 273: val_accuracy did not improve from 1.00000
13/13 [==============================] - 9s 686ms/step - loss: 0.0871 - accuracy: 0.9591 - val_loss: 0.0172 - val_accuracy: 1.0000
Epoch 274/500
13/13 [==============================] - ETA: 0s - loss: 0.0673 - accuracy: 0.9760
Epoch 274: val_accuracy did not improve from 1.00000
13/13 [==============================] - 9s 683ms/step - loss: 0.0673 - accuracy: 0.9760 - val_loss: 0.0165 - val_accuracy: 0.9861
Epoch 275/500
13/13 [==============================] - ETA: 0s - loss: 0.0808 - accuracy: 0.9663
Epoch 275: val_accuracy did not improve from 1.00000
13/13 [==============================] - 9s 679ms/step - loss: 0.0808 - accuracy: 0.9663 - val_loss: 0.0166 - val_accuracy: 1.0000
Epoch 276/500
13/13 [==============================] - ETA: 0s - loss: 0.0748 - accuracy: 0.9663
Epoch 276: val_accuracy did not improve from 1.00000
13/13 [==============================] - 9s 681ms/step - loss: 0.0748 - accuracy: 0.9663 - val_loss: 0.0523 - val_accuracy: 1.0000
Epoch 277/500
13/13 [==============================] - ETA: 0s - loss: 0.0776 - accuracy: 0.9615
Epoch 277: val_accuracy did not improve from 1.00000
13/13 [==============================] - 9s 688ms/step - loss: 0.0776 - accuracy: 0.9615 - val_loss: 0.0149 - val_accuracy: 1.0000
Epoch 278/500
13/13 [==============================] - ETA: 0s - loss: 0.0842 - accuracy: 0.9639
Epoch 278: val_accuracy did not improve from 1.00000
13/13 [==============================] - 9s 686ms/step - loss: 0.0842 - accuracy: 0.9639 - val_loss: 0.0129 - val_accuracy: 1.0000
Epoch 279/500
13/13 [==============================] - ETA: 0s - loss: 0.0895 - accuracy: 0.9591
Epoch 279: val_accuracy did not improve from 1.00000
13/13 [==============================] - 9s 679ms/step - loss: 0.0895 - accuracy: 0.9591 - val_loss: 0.0108 - val_accuracy: 1.0000
Epoch 280/500
13/13 [==============================] - ETA: 0s - loss: 0.0700 - accuracy: 0.9663
Epoch 280: val_accuracy did not improve from 1.00000
13/13 [==============================] - 9s 701ms/step - loss: 0.0700 - accuracy: 0.9663 - val_loss: 0.0204 - val_accuracy: 1.0000
Epoch 281/500
13/13 [==============================] - ETA: 0s - loss: 0.0717 - accuracy: 0.9712
Epoch 281: val_accuracy did not improve from 1.00000
13/13 [==============================] - 9s 681ms/step - loss: 0.0717 - accuracy: 0.9712 - val_loss: 0.0135 - val_accuracy: 1.0000
Epoch 282/500
13/13 [==============================] - ETA: 0s - loss: 0.0656 - accuracy: 0.9663
Epoch 282: val_accuracy did not improve from 1.00000
13/13 [==============================] - 9s 680ms/step - loss: 0.0656 - accuracy: 0.9663 - val_loss: 0.0081 - val_accuracy: 1.0000
Epoch 283/500
13/13 [==============================] - ETA: 0s - loss: 0.0965 - accuracy: 0.9615
Epoch 283: val_accuracy did not improve from 1.00000
13/13 [==============================] - 9s 689ms/step - loss: 0.0965 - accuracy: 0.9615 - val_loss: 0.0171 - val_accuracy: 1.0000
Epoch 284/500
13/13 [==============================] - ETA: 0s - loss: 0.0728 - accuracy: 0.9663
Epoch 284: val_accuracy did not improve from 1.00000
13/13 [==============================] - 9s 691ms/step - loss: 0.0728 - accuracy: 0.9663 - val_loss: 0.0118 - val_accuracy: 1.0000
Epoch 285/500
13/13 [==============================] - ETA: 0s - loss: 0.0945 - accuracy: 0.9663
Epoch 285: val_accuracy did not improve from 1.00000
13/13 [==============================] - 9s 690ms/step - loss: 0.0945 - accuracy: 0.9663 - val_loss: 0.0125 - val_accuracy: 1.0000
Epoch 286/500
13/13 [==============================] - ETA: 0s - loss: 0.1014 - accuracy: 0.9639
Epoch 286: val_accuracy did not improve from 1.00000
13/13 [==============================] - 9s 695ms/step - loss: 0.1014 - accuracy: 0.9639 - val_loss: 0.0087 - val_accuracy: 1.0000
Epoch 287/500
13/13 [==============================] - ETA: 0s - loss: 0.0721 - accuracy: 0.9736
Epoch 287: val_accuracy did not improve from 1.00000
13/13 [==============================] - 9s 691ms/step - loss: 0.0721 - accuracy: 0.9736 - val_loss: 0.0235 - val_accuracy: 0.9861
Epoch 288/500
13/13 [==============================] - ETA: 0s - loss: 0.0816 - accuracy: 0.9688
Epoch 288: val_accuracy did not improve from 1.00000
13/13 [==============================] - 9s 677ms/step - loss: 0.0816 - accuracy: 0.9688 - val_loss: 0.0188 - val_accuracy: 1.0000
Epoch 289/500
13/13 [==============================] - ETA: 0s - loss: 0.0799 - accuracy: 0.9663
Epoch 289: val_accuracy did not improve from 1.00000
13/13 [==============================] - 9s 687ms/step - loss: 0.0799 - accuracy: 0.9663 - val_loss: 0.0219 - val_accuracy: 0.9861
Epoch 290/500
13/13 [==============================] - ETA: 0s - loss: 0.0763 - accuracy: 0.9712
Epoch 290: val_accuracy did not improve from 1.00000
13/13 [==============================] - 9s 695ms/step - loss: 0.0763 - accuracy: 0.9712 - val_loss: 0.0170 - val_accuracy: 1.0000
Epoch 291/500
13/13 [==============================] - ETA: 0s - loss: 0.0574 - accuracy: 0.9736
Epoch 291: val_accuracy did not improve from 1.00000
13/13 [==============================] - 9s 679ms/step - loss: 0.0574 - accuracy: 0.9736 - val_loss: 0.0085 - val_accuracy: 1.0000
Epoch 292/500
13/13 [==============================] - ETA: 0s - loss: 0.0885 - accuracy: 0.9663
Epoch 292: val_accuracy did not improve from 1.00000
13/13 [==============================] - 9s 686ms/step - loss: 0.0885 - accuracy: 0.9663 - val_loss: 0.0098 - val_accuracy: 1.0000
Epoch 293/500
13/13 [==============================] - ETA: 0s - loss: 0.0902 - accuracy: 0.9736
Epoch 293: val_accuracy did not improve from 1.00000
13/13 [==============================] - 9s 677ms/step - loss: 0.0902 - accuracy: 0.9736 - val_loss: 0.0239 - val_accuracy: 1.0000
Epoch 294/500
13/13 [==============================] - ETA: 0s - loss: 0.0910 - accuracy: 0.9663
Epoch 294: val_accuracy did not improve from 1.00000
13/13 [==============================] - 9s 699ms/step - loss: 0.0910 - accuracy: 0.9663 - val_loss: 0.0141 - val_accuracy: 1.0000
Epoch 295/500
13/13 [==============================] - ETA: 0s - loss: 0.0941 - accuracy: 0.9688
Epoch 295: val_accuracy did not improve from 1.00000
13/13 [==============================] - 9s 689ms/step - loss: 0.0941 - accuracy: 0.9688 - val_loss: 0.0224 - val_accuracy: 0.9861
Epoch 296/500
13/13 [==============================] - ETA: 0s - loss: 0.0847 - accuracy: 0.9663
Epoch 296: val_accuracy did not improve from 1.00000
13/13 [==============================] - 9s 695ms/step - loss: 0.0847 - accuracy: 0.9663 - val_loss: 0.0076 - val_accuracy: 1.0000
Epoch 297/500
13/13 [==============================] - ETA: 0s - loss: 0.0841 - accuracy: 0.9712
Epoch 297: val_accuracy did not improve from 1.00000
13/13 [==============================] - 9s 700ms/step - loss: 0.0841 - accuracy: 0.9712 - val_loss: 0.0196 - val_accuracy: 1.0000
Epoch 298/500
13/13 [==============================] - ETA: 0s - loss: 0.1154 - accuracy: 0.9567
Epoch 298: val_accuracy did not improve from 1.00000
13/13 [==============================] - 9s 684ms/step - loss: 0.1154 - accuracy: 0.9567 - val_loss: 0.0125 - val_accuracy: 1.0000
Epoch 299/500
13/13 [==============================] - ETA: 0s - loss: 0.1161 - accuracy: 0.9447
Epoch 299: val_accuracy did not improve from 1.00000
13/13 [==============================] - 9s 685ms/step - loss: 0.1161 - accuracy: 0.9447 - val_loss: 0.0120 - val_accuracy: 1.0000
Epoch 300/500
13/13 [==============================] - ETA: 0s - loss: 0.1103 - accuracy: 0.9663
Epoch 300: val_accuracy did not improve from 1.00000
13/13 [==============================] - 9s 684ms/step - loss: 0.1103 - accuracy: 0.9663 - val_loss: 0.0500 - val_accuracy: 0.9861
Epoch 301/500
13/13 [==============================] - ETA: 0s - loss: 0.0704 - accuracy: 0.9712
Epoch 301: val_accuracy did not improve from 1.00000
13/13 [==============================] - 9s 675ms/step - loss: 0.0704 - accuracy: 0.9712 - val_loss: 0.0114 - val_accuracy: 1.0000
Epoch 302/500
13/13 [==============================] - ETA: 0s - loss: 0.0630 - accuracy: 0.9760
Epoch 302: val_accuracy did not improve from 1.00000
13/13 [==============================] - 9s 686ms/step - loss: 0.0630 - accuracy: 0.9760 - val_loss: 0.0110 - val_accuracy: 1.0000
Epoch 303/500
13/13 [==============================] - ETA: 0s - loss: 0.0407 - accuracy: 0.9904
Epoch 303: val_accuracy did not improve from 1.00000
13/13 [==============================] - 9s 672ms/step - loss: 0.0407 - accuracy: 0.9904 - val_loss: 0.0092 - val_accuracy: 1.0000
Epoch 304/500
13/13 [==============================] - ETA: 0s - loss: 0.0688 - accuracy: 0.9712
Epoch 304: val_accuracy did not improve from 1.00000
13/13 [==============================] - 9s 697ms/step - loss: 0.0688 - accuracy: 0.9712 - val_loss: 0.0093 - val_accuracy: 1.0000
Epoch 305/500
13/13 [==============================] - ETA: 0s - loss: 0.1002 - accuracy: 0.9712
Epoch 305: val_accuracy did not improve from 1.00000
13/13 [==============================] - 9s 683ms/step - loss: 0.1002 - accuracy: 0.9712 - val_loss: 0.0109 - val_accuracy: 1.0000
Epoch 306/500
13/13 [==============================] - ETA: 0s - loss: 0.0563 - accuracy: 0.9808
Epoch 306: val_accuracy did not improve from 1.00000
13/13 [==============================] - 9s 676ms/step - loss: 0.0563 - accuracy: 0.9808 - val_loss: 0.0242 - val_accuracy: 0.9861
Epoch 307/500
13/13 [==============================] - ETA: 0s - loss: 0.0673 - accuracy: 0.9784
Epoch 307: val_accuracy did not improve from 1.00000
13/13 [==============================] - 9s 690ms/step - loss: 0.0673 - accuracy: 0.9784 - val_loss: 0.0220 - val_accuracy: 0.9861
Epoch 308/500
13/13 [==============================] - ETA: 0s - loss: 0.0782 - accuracy: 0.9736
Epoch 308: val_accuracy did not improve from 1.00000
13/13 [==============================] - 9s 694ms/step - loss: 0.0782 - accuracy: 0.9736 - val_loss: 0.0107 - val_accuracy: 1.0000
Epoch 309/500
13/13 [==============================] - ETA: 0s - loss: 0.0688 - accuracy: 0.9760
Epoch 309: val_accuracy did not improve from 1.00000
13/13 [==============================] - 9s 696ms/step - loss: 0.0688 - accuracy: 0.9760 - val_loss: 0.0214 - val_accuracy: 1.0000
Epoch 310/500
13/13 [==============================] - ETA: 0s - loss: 0.0606 - accuracy: 0.9832
Epoch 310: val_accuracy did not improve from 1.00000
13/13 [==============================] - 9s 691ms/step - loss: 0.0606 - accuracy: 0.9832 - val_loss: 0.0043 - val_accuracy: 1.0000
Epoch 311/500
13/13 [==============================] - ETA: 0s - loss: 0.0534 - accuracy: 0.9808
Epoch 311: val_accuracy did not improve from 1.00000
13/13 [==============================] - 9s 690ms/step - loss: 0.0534 - accuracy: 0.9808 - val_loss: 0.0089 - val_accuracy: 1.0000
Epoch 312/500
13/13 [==============================] - ETA: 0s - loss: 0.0688 - accuracy: 0.9688
Epoch 312: val_accuracy did not improve from 1.00000
13/13 [==============================] - 9s 696ms/step - loss: 0.0688 - accuracy: 0.9688 - val_loss: 0.0107 - val_accuracy: 1.0000
Epoch 313/500
13/13 [==============================] - ETA: 0s - loss: 0.0525 - accuracy: 0.9760
Epoch 313: val_accuracy did not improve from 1.00000
13/13 [==============================] - 9s 679ms/step - loss: 0.0525 - accuracy: 0.9760 - val_loss: 0.0109 - val_accuracy: 1.0000
Epoch 314/500
13/13 [==============================] - ETA: 0s - loss: 0.0869 - accuracy: 0.9591
Epoch 314: val_accuracy did not improve from 1.00000
13/13 [==============================] - 9s 689ms/step - loss: 0.0869 - accuracy: 0.9591 - val_loss: 0.0081 - val_accuracy: 1.0000
Epoch 315/500
13/13 [==============================] - ETA: 0s - loss: 0.0678 - accuracy: 0.9784
Epoch 315: val_accuracy did not improve from 1.00000
13/13 [==============================] - 9s 701ms/step - loss: 0.0678 - accuracy: 0.9784 - val_loss: 0.0053 - val_accuracy: 1.0000
Epoch 316/500
13/13 [==============================] - ETA: 0s - loss: 0.1007 - accuracy: 0.9663
Epoch 316: val_accuracy did not improve from 1.00000
13/13 [==============================] - 9s 695ms/step - loss: 0.1007 - accuracy: 0.9663 - val_loss: 0.0206 - val_accuracy: 1.0000
Epoch 317/500
13/13 [==============================] - ETA: 0s - loss: 0.0866 - accuracy: 0.9591
Epoch 317: val_accuracy did not improve from 1.00000
13/13 [==============================] - 9s 700ms/step - loss: 0.0866 - accuracy: 0.9591 - val_loss: 0.0381 - val_accuracy: 0.9861
Epoch 318/500
13/13 [==============================] - ETA: 0s - loss: 0.0853 - accuracy: 0.9712
Epoch 318: val_accuracy did not improve from 1.00000
13/13 [==============================] - 9s 706ms/step - loss: 0.0853 - accuracy: 0.9712 - val_loss: 0.0286 - val_accuracy: 1.0000
Epoch 319/500
13/13 [==============================] - ETA: 0s - loss: 0.0825 - accuracy: 0.9736
Epoch 319: val_accuracy did not improve from 1.00000
13/13 [==============================] - 9s 694ms/step - loss: 0.0825 - accuracy: 0.9736 - val_loss: 0.0083 - val_accuracy: 1.0000
Epoch 320/500
13/13 [==============================] - ETA: 0s - loss: 0.0644 - accuracy: 0.9784
Epoch 320: val_accuracy did not improve from 1.00000
13/13 [==============================] - 10s 736ms/step - loss: 0.0644 - accuracy: 0.9784 - val_loss: 0.0311 - val_accuracy: 0.9861
Epoch 321/500
13/13 [==============================] - ETA: 0s - loss: 0.1222 - accuracy: 0.9615
Epoch 321: val_accuracy did not improve from 1.00000
13/13 [==============================] - 10s 720ms/step - loss: 0.1222 - accuracy: 0.9615 - val_loss: 0.0278 - val_accuracy: 1.0000
Epoch 322/500
13/13 [==============================] - ETA: 0s - loss: 0.1125 - accuracy: 0.9639
Epoch 322: val_accuracy did not improve from 1.00000
13/13 [==============================] - 9s 707ms/step - loss: 0.1125 - accuracy: 0.9639 - val_loss: 0.0080 - val_accuracy: 1.0000
Epoch 323/500
13/13 [==============================] - ETA: 0s - loss: 0.0473 - accuracy: 0.9832
Epoch 323: val_accuracy did not improve from 1.00000
13/13 [==============================] - 9s 715ms/step - loss: 0.0473 - accuracy: 0.9832 - val_loss: 0.0095 - val_accuracy: 1.0000
Epoch 324/500
13/13 [==============================] - ETA: 0s - loss: 0.0818 - accuracy: 0.9736
Epoch 324: val_accuracy did not improve from 1.00000
13/13 [==============================] - 9s 671ms/step - loss: 0.0818 - accuracy: 0.9736 - val_loss: 0.0170 - val_accuracy: 1.0000
Epoch 325/500
13/13 [==============================] - ETA: 0s - loss: 0.0477 - accuracy: 0.9856
Epoch 325: val_accuracy did not improve from 1.00000
13/13 [==============================] - 9s 699ms/step - loss: 0.0477 - accuracy: 0.9856 - val_loss: 0.0067 - val_accuracy: 1.0000
Epoch 326/500
13/13 [==============================] - ETA: 0s - loss: 0.1385 - accuracy: 0.9519
Epoch 326: val_accuracy did not improve from 1.00000
13/13 [==============================] - 9s 698ms/step - loss: 0.1385 - accuracy: 0.9519 - val_loss: 0.0086 - val_accuracy: 1.0000
Epoch 327/500
13/13 [==============================] - ETA: 0s - loss: 0.0771 - accuracy: 0.9736
Epoch 327: val_accuracy did not improve from 1.00000
13/13 [==============================] - 9s 694ms/step - loss: 0.0771 - accuracy: 0.9736 - val_loss: 0.0079 - val_accuracy: 1.0000
Epoch 328/500
13/13 [==============================] - ETA: 0s - loss: 0.0901 - accuracy: 0.9736
Epoch 328: val_accuracy did not improve from 1.00000
13/13 [==============================] - 9s 685ms/step - loss: 0.0901 - accuracy: 0.9736 - val_loss: 0.0133 - val_accuracy: 1.0000
Epoch 329/500
13/13 [==============================] - ETA: 0s - loss: 0.0925 - accuracy: 0.9712
Epoch 329: val_accuracy did not improve from 1.00000
13/13 [==============================] - 9s 687ms/step - loss: 0.0925 - accuracy: 0.9712 - val_loss: 0.0280 - val_accuracy: 0.9861
Epoch 330/500
13/13 [==============================] - ETA: 0s - loss: 0.1066 - accuracy: 0.9639
Epoch 330: val_accuracy did not improve from 1.00000
13/13 [==============================] - 9s 690ms/step - loss: 0.1066 - accuracy: 0.9639 - val_loss: 0.0188 - val_accuracy: 1.0000
Epoch 331/500
13/13 [==============================] - ETA: 0s - loss: 0.1066 - accuracy: 0.9615
Epoch 331: val_accuracy did not improve from 1.00000
13/13 [==============================] - 9s 689ms/step - loss: 0.1066 - accuracy: 0.9615 - val_loss: 0.0184 - val_accuracy: 1.0000
Epoch 332/500
13/13 [==============================] - ETA: 0s - loss: 0.0948 - accuracy: 0.9615
Epoch 332: val_accuracy did not improve from 1.00000
13/13 [==============================] - 9s 687ms/step - loss: 0.0948 - accuracy: 0.9615 - val_loss: 0.0104 - val_accuracy: 1.0000
Epoch 333/500
13/13 [==============================] - ETA: 0s - loss: 0.0603 - accuracy: 0.9808
Epoch 333: val_accuracy did not improve from 1.00000
13/13 [==============================] - 9s 686ms/step - loss: 0.0603 - accuracy: 0.9808 - val_loss: 0.0064 - val_accuracy: 1.0000
Epoch 334/500
13/13 [==============================] - ETA: 0s - loss: 0.0809 - accuracy: 0.9639
Epoch 334: val_accuracy did not improve from 1.00000
13/13 [==============================] - 9s 695ms/step - loss: 0.0809 - accuracy: 0.9639 - val_loss: 0.0097 - val_accuracy: 1.0000
Epoch 335/500
13/13 [==============================] - ETA: 0s - loss: 0.0664 - accuracy: 0.9784
Epoch 335: val_accuracy did not improve from 1.00000
13/13 [==============================] - 9s 678ms/step - loss: 0.0664 - accuracy: 0.9784 - val_loss: 0.0492 - val_accuracy: 0.9861
Epoch 336/500
13/13 [==============================] - ETA: 0s - loss: 0.1202 - accuracy: 0.9639
Epoch 336: val_accuracy did not improve from 1.00000
13/13 [==============================] - 9s 681ms/step - loss: 0.1202 - accuracy: 0.9639 - val_loss: 0.0342 - val_accuracy: 0.9861
Epoch 337/500
13/13 [==============================] - ETA: 0s - loss: 0.0583 - accuracy: 0.9784
Epoch 337: val_accuracy did not improve from 1.00000
13/13 [==============================] - 9s 696ms/step - loss: 0.0583 - accuracy: 0.9784 - val_loss: 0.0234 - val_accuracy: 0.9861
Epoch 338/500
13/13 [==============================] - ETA: 0s - loss: 0.0861 - accuracy: 0.9688
Epoch 338: val_accuracy did not improve from 1.00000
13/13 [==============================] - 9s 683ms/step - loss: 0.0861 - accuracy: 0.9688 - val_loss: 0.0149 - val_accuracy: 1.0000
Epoch 339/500
13/13 [==============================] - ETA: 0s - loss: 0.0646 - accuracy: 0.9736
Epoch 339: val_accuracy did not improve from 1.00000
13/13 [==============================] - 9s 687ms/step - loss: 0.0646 - accuracy: 0.9736 - val_loss: 0.0101 - val_accuracy: 1.0000
Epoch 340/500
13/13 [==============================] - ETA: 0s - loss: 0.1140 - accuracy: 0.9663
Epoch 340: val_accuracy did not improve from 1.00000
13/13 [==============================] - 9s 696ms/step - loss: 0.1140 - accuracy: 0.9663 - val_loss: 0.0195 - val_accuracy: 1.0000
Epoch 341/500
13/13 [==============================] - ETA: 0s - loss: 0.0980 - accuracy: 0.9519
Epoch 341: val_accuracy did not improve from 1.00000
13/13 [==============================] - 9s 697ms/step - loss: 0.0980 - accuracy: 0.9519 - val_loss: 0.0086 - val_accuracy: 1.0000
Epoch 342/500
13/13 [==============================] - ETA: 0s - loss: 0.1212 - accuracy: 0.9567
Epoch 342: val_accuracy did not improve from 1.00000
13/13 [==============================] - 9s 684ms/step - loss: 0.1212 - accuracy: 0.9567 - val_loss: 0.0045 - val_accuracy: 1.0000
Epoch 343/500
13/13 [==============================] - ETA: 0s - loss: 0.0755 - accuracy: 0.9663
Epoch 343: val_accuracy did not improve from 1.00000
13/13 [==============================] - 9s 706ms/step - loss: 0.0755 - accuracy: 0.9663 - val_loss: 0.0244 - val_accuracy: 1.0000
Epoch 344/500
13/13 [==============================] - ETA: 0s - loss: 0.0846 - accuracy: 0.9639
Epoch 344: val_accuracy did not improve from 1.00000
13/13 [==============================] - 9s 694ms/step - loss: 0.0846 - accuracy: 0.9639 - val_loss: 0.0172 - val_accuracy: 1.0000
Epoch 345/500
13/13 [==============================] - ETA: 0s - loss: 0.0770 - accuracy: 0.9688
Epoch 345: val_accuracy did not improve from 1.00000
13/13 [==============================] - 9s 702ms/step - loss: 0.0770 - accuracy: 0.9688 - val_loss: 0.0171 - val_accuracy: 1.0000
Epoch 346/500
13/13 [==============================] - ETA: 0s - loss: 0.0703 - accuracy: 0.9663
Epoch 346: val_accuracy did not improve from 1.00000
13/13 [==============================] - 9s 703ms/step - loss: 0.0703 - accuracy: 0.9663 - val_loss: 0.0142 - val_accuracy: 1.0000
Epoch 347/500
13/13 [==============================] - ETA: 0s - loss: 0.0534 - accuracy: 0.9784
Epoch 347: val_accuracy did not improve from 1.00000
13/13 [==============================] - 9s 693ms/step - loss: 0.0534 - accuracy: 0.9784 - val_loss: 0.0048 - val_accuracy: 1.0000
Epoch 348/500
13/13 [==============================] - ETA: 0s - loss: 0.0656 - accuracy: 0.9688
Epoch 348: val_accuracy did not improve from 1.00000
13/13 [==============================] - 9s 717ms/step - loss: 0.0656 - accuracy: 0.9688 - val_loss: 0.0126 - val_accuracy: 1.0000
Epoch 349/500
13/13 [==============================] - ETA: 0s - loss: 0.0642 - accuracy: 0.9663
Epoch 349: val_accuracy did not improve from 1.00000
13/13 [==============================] - 9s 688ms/step - loss: 0.0642 - accuracy: 0.9663 - val_loss: 0.0088 - val_accuracy: 1.0000
Epoch 350/500
13/13 [==============================] - ETA: 0s - loss: 0.0837 - accuracy: 0.9543
Epoch 350: val_accuracy did not improve from 1.00000
13/13 [==============================] - 9s 691ms/step - loss: 0.0837 - accuracy: 0.9543 - val_loss: 0.0050 - val_accuracy: 1.0000
Epoch 351/500
13/13 [==============================] - ETA: 0s - loss: 0.1170 - accuracy: 0.9567
Epoch 351: val_accuracy did not improve from 1.00000
13/13 [==============================] - 9s 695ms/step - loss: 0.1170 - accuracy: 0.9567 - val_loss: 0.0402 - val_accuracy: 0.9861
Epoch 352/500
13/13 [==============================] - ETA: 0s - loss: 0.0888 - accuracy: 0.9639
Epoch 352: val_accuracy did not improve from 1.00000
13/13 [==============================] - 9s 703ms/step - loss: 0.0888 - accuracy: 0.9639 - val_loss: 0.0116 - val_accuracy: 1.0000
Epoch 353/500
13/13 [==============================] - ETA: 0s - loss: 0.0923 - accuracy: 0.9615
Epoch 353: val_accuracy did not improve from 1.00000
13/13 [==============================] - 9s 697ms/step - loss: 0.0923 - accuracy: 0.9615 - val_loss: 0.0062 - val_accuracy: 1.0000
Epoch 354/500
13/13 [==============================] - ETA: 0s - loss: 0.0820 - accuracy: 0.9736
Epoch 354: val_accuracy did not improve from 1.00000
13/13 [==============================] - 9s 700ms/step - loss: 0.0820 - accuracy: 0.9736 - val_loss: 0.0251 - val_accuracy: 0.9861
Epoch 355/500
13/13 [==============================] - ETA: 0s - loss: 0.0932 - accuracy: 0.9712
Epoch 355: val_accuracy did not improve from 1.00000
13/13 [==============================] - 10s 770ms/step - loss: 0.0932 - accuracy: 0.9712 - val_loss: 0.0131 - val_accuracy: 1.0000
Epoch 356/500
13/13 [==============================] - ETA: 0s - loss: 0.0673 - accuracy: 0.9760
Epoch 356: val_accuracy did not improve from 1.00000
13/13 [==============================] - 10s 750ms/step - loss: 0.0673 - accuracy: 0.9760 - val_loss: 0.0198 - val_accuracy: 1.0000
Epoch 357/500
13/13 [==============================] - ETA: 0s - loss: 0.0785 - accuracy: 0.9639
Epoch 357: val_accuracy did not improve from 1.00000
13/13 [==============================] - 9s 697ms/step - loss: 0.0785 - accuracy: 0.9639 - val_loss: 0.0045 - val_accuracy: 1.0000
Epoch 358/500
13/13 [==============================] - ETA: 0s - loss: 0.0726 - accuracy: 0.9760
Epoch 358: val_accuracy did not improve from 1.00000
13/13 [==============================] - 9s 712ms/step - loss: 0.0726 - accuracy: 0.9760 - val_loss: 0.0103 - val_accuracy: 1.0000
Epoch 359/500
13/13 [==============================] - ETA: 0s - loss: 0.0509 - accuracy: 0.9904
Epoch 359: val_accuracy did not improve from 1.00000
13/13 [==============================] - 9s 705ms/step - loss: 0.0509 - accuracy: 0.9904 - val_loss: 0.0050 - val_accuracy: 1.0000
Epoch 360/500
13/13 [==============================] - ETA: 0s - loss: 0.0611 - accuracy: 0.9784
Epoch 360: val_accuracy did not improve from 1.00000
13/13 [==============================] - 9s 695ms/step - loss: 0.0611 - accuracy: 0.9784 - val_loss: 0.0097 - val_accuracy: 1.0000
Epoch 361/500
13/13 [==============================] - ETA: 0s - loss: 0.0742 - accuracy: 0.9712
Epoch 361: val_accuracy did not improve from 1.00000
13/13 [==============================] - 9s 680ms/step - loss: 0.0742 - accuracy: 0.9712 - val_loss: 0.0073 - val_accuracy: 1.0000
Epoch 362/500
13/13 [==============================] - ETA: 0s - loss: 0.0542 - accuracy: 0.9880
Epoch 362: val_accuracy did not improve from 1.00000
13/13 [==============================] - 9s 711ms/step - loss: 0.0542 - accuracy: 0.9880 - val_loss: 0.0085 - val_accuracy: 1.0000
Epoch 363/500
13/13 [==============================] - ETA: 0s - loss: 0.0716 - accuracy: 0.9712
Epoch 363: val_accuracy did not improve from 1.00000
13/13 [==============================] - 9s 705ms/step - loss: 0.0716 - accuracy: 0.9712 - val_loss: 0.0157 - val_accuracy: 1.0000
Epoch 364/500
13/13 [==============================] - ETA: 0s - loss: 0.0757 - accuracy: 0.9760
Epoch 364: val_accuracy did not improve from 1.00000
13/13 [==============================] - 9s 701ms/step - loss: 0.0757 - accuracy: 0.9760 - val_loss: 0.0396 - val_accuracy: 0.9861
Epoch 365/500
13/13 [==============================] - ETA: 0s - loss: 0.0753 - accuracy: 0.9688
Epoch 365: val_accuracy did not improve from 1.00000
13/13 [==============================] - 9s 695ms/step - loss: 0.0753 - accuracy: 0.9688 - val_loss: 0.0100 - val_accuracy: 1.0000
Epoch 366/500
13/13 [==============================] - ETA: 0s - loss: 0.0796 - accuracy: 0.9688
Epoch 366: val_accuracy did not improve from 1.00000
13/13 [==============================] - 9s 715ms/step - loss: 0.0796 - accuracy: 0.9688 - val_loss: 0.0089 - val_accuracy: 1.0000
Epoch 367/500
13/13 [==============================] - ETA: 0s - loss: 0.0777 - accuracy: 0.9736
Epoch 367: val_accuracy did not improve from 1.00000
13/13 [==============================] - 9s 688ms/step - loss: 0.0777 - accuracy: 0.9736 - val_loss: 0.0149 - val_accuracy: 1.0000
Epoch 368/500
13/13 [==============================] - ETA: 0s - loss: 0.0735 - accuracy: 0.9760
Epoch 368: val_accuracy did not improve from 1.00000
13/13 [==============================] - 9s 706ms/step - loss: 0.0735 - accuracy: 0.9760 - val_loss: 0.0129 - val_accuracy: 1.0000
Epoch 369/500
13/13 [==============================] - ETA: 0s - loss: 0.0455 - accuracy: 0.9808
Epoch 369: val_accuracy did not improve from 1.00000
13/13 [==============================] - 9s 697ms/step - loss: 0.0455 - accuracy: 0.9808 - val_loss: 0.0019 - val_accuracy: 1.0000
Epoch 370/500
13/13 [==============================] - ETA: 0s - loss: 0.0904 - accuracy: 0.9760
Epoch 370: val_accuracy did not improve from 1.00000
13/13 [==============================] - 9s 711ms/step - loss: 0.0904 - accuracy: 0.9760 - val_loss: 0.0218 - val_accuracy: 1.0000
Epoch 371/500
13/13 [==============================] - ETA: 0s - loss: 0.0635 - accuracy: 0.9808
Epoch 371: val_accuracy did not improve from 1.00000
13/13 [==============================] - 9s 705ms/step - loss: 0.0635 - accuracy: 0.9808 - val_loss: 0.0057 - val_accuracy: 1.0000
Epoch 372/500
13/13 [==============================] - ETA: 0s - loss: 0.0790 - accuracy: 0.9784
Epoch 372: val_accuracy did not improve from 1.00000
13/13 [==============================] - 9s 697ms/step - loss: 0.0790 - accuracy: 0.9784 - val_loss: 0.0075 - val_accuracy: 1.0000
Epoch 373/500
13/13 [==============================] - ETA: 0s - loss: 0.0590 - accuracy: 0.9832
Epoch 373: val_accuracy did not improve from 1.00000
13/13 [==============================] - 9s 700ms/step - loss: 0.0590 - accuracy: 0.9832 - val_loss: 0.0093 - val_accuracy: 1.0000
Epoch 374/500
13/13 [==============================] - ETA: 0s - loss: 0.0719 - accuracy: 0.9712
Epoch 374: val_accuracy did not improve from 1.00000
13/13 [==============================] - 9s 681ms/step - loss: 0.0719 - accuracy: 0.9712 - val_loss: 0.0167 - val_accuracy: 1.0000
Epoch 375/500
13/13 [==============================] - ETA: 0s - loss: 0.0671 - accuracy: 0.9736
Epoch 375: val_accuracy did not improve from 1.00000
13/13 [==============================] - 9s 721ms/step - loss: 0.0671 - accuracy: 0.9736 - val_loss: 0.0040 - val_accuracy: 1.0000
Epoch 376/500
13/13 [==============================] - ETA: 0s - loss: 0.0616 - accuracy: 0.9832
Epoch 376: val_accuracy did not improve from 1.00000
13/13 [==============================] - 9s 704ms/step - loss: 0.0616 - accuracy: 0.9832 - val_loss: 0.0023 - val_accuracy: 1.0000
Epoch 377/500
13/13 [==============================] - ETA: 0s - loss: 0.0544 - accuracy: 0.9832
Epoch 377: val_accuracy did not improve from 1.00000
13/13 [==============================] - 9s 700ms/step - loss: 0.0544 - accuracy: 0.9832 - val_loss: 0.0071 - val_accuracy: 1.0000
Epoch 378/500
13/13 [==============================] - ETA: 0s - loss: 0.0801 - accuracy: 0.9639
Epoch 378: val_accuracy did not improve from 1.00000
13/13 [==============================] - 9s 683ms/step - loss: 0.0801 - accuracy: 0.9639 - val_loss: 0.0189 - val_accuracy: 1.0000
Epoch 379/500
13/13 [==============================] - ETA: 0s - loss: 0.0526 - accuracy: 0.9856
Epoch 379: val_accuracy did not improve from 1.00000
13/13 [==============================] - 9s 695ms/step - loss: 0.0526 - accuracy: 0.9856 - val_loss: 0.0354 - val_accuracy: 0.9861
Epoch 380/500
13/13 [==============================] - ETA: 0s - loss: 0.0638 - accuracy: 0.9808
Epoch 380: val_accuracy did not improve from 1.00000
13/13 [==============================] - 10s 734ms/step - loss: 0.0638 - accuracy: 0.9808 - val_loss: 0.0266 - val_accuracy: 0.9861
Epoch 381/500
13/13 [==============================] - ETA: 0s - loss: 0.0776 - accuracy: 0.9663
Epoch 381: val_accuracy did not improve from 1.00000
13/13 [==============================] - 9s 702ms/step - loss: 0.0776 - accuracy: 0.9663 - val_loss: 0.0154 - val_accuracy: 0.9861
Epoch 382/500
13/13 [==============================] - ETA: 0s - loss: 0.0725 - accuracy: 0.9760
Epoch 382: val_accuracy did not improve from 1.00000
13/13 [==============================] - 9s 694ms/step - loss: 0.0725 - accuracy: 0.9760 - val_loss: 0.0074 - val_accuracy: 1.0000
Epoch 383/500
13/13 [==============================] - ETA: 0s - loss: 0.0497 - accuracy: 0.9808
Epoch 383: val_accuracy did not improve from 1.00000
13/13 [==============================] - 9s 697ms/step - loss: 0.0497 - accuracy: 0.9808 - val_loss: 0.0035 - val_accuracy: 1.0000
Epoch 384/500
13/13 [==============================] - ETA: 0s - loss: 0.0729 - accuracy: 0.9736
Epoch 384: val_accuracy did not improve from 1.00000
13/13 [==============================] - 9s 704ms/step - loss: 0.0729 - accuracy: 0.9736 - val_loss: 0.0120 - val_accuracy: 1.0000
Epoch 385/500
13/13 [==============================] - ETA: 0s - loss: 0.0497 - accuracy: 0.9832
Epoch 385: val_accuracy did not improve from 1.00000
13/13 [==============================] - 9s 716ms/step - loss: 0.0497 - accuracy: 0.9832 - val_loss: 0.0070 - val_accuracy: 1.0000
Epoch 386/500
13/13 [==============================] - ETA: 0s - loss: 0.1298 - accuracy: 0.9615
Epoch 386: val_accuracy did not improve from 1.00000
13/13 [==============================] - 9s 706ms/step - loss: 0.1298 - accuracy: 0.9615 - val_loss: 0.0124 - val_accuracy: 1.0000
Epoch 387/500
13/13 [==============================] - ETA: 0s - loss: 0.0798 - accuracy: 0.9688
Epoch 387: val_accuracy did not improve from 1.00000
13/13 [==============================] - 9s 717ms/step - loss: 0.0798 - accuracy: 0.9688 - val_loss: 0.0108 - val_accuracy: 1.0000
Epoch 388/500
13/13 [==============================] - ETA: 0s - loss: 0.0565 - accuracy: 0.9784
Epoch 388: val_accuracy did not improve from 1.00000
13/13 [==============================] - 9s 720ms/step - loss: 0.0565 - accuracy: 0.9784 - val_loss: 0.0079 - val_accuracy: 1.0000
Epoch 389/500
13/13 [==============================] - ETA: 0s - loss: 0.0675 - accuracy: 0.9688
Epoch 389: val_accuracy did not improve from 1.00000
13/13 [==============================] - 9s 710ms/step - loss: 0.0675 - accuracy: 0.9688 - val_loss: 0.0137 - val_accuracy: 1.0000
Epoch 390/500
13/13 [==============================] - ETA: 0s - loss: 0.0634 - accuracy: 0.9760
Epoch 390: val_accuracy did not improve from 1.00000
13/13 [==============================] - 9s 708ms/step - loss: 0.0634 - accuracy: 0.9760 - val_loss: 0.0234 - val_accuracy: 0.9861
Epoch 391/500
13/13 [==============================] - ETA: 0s - loss: 0.0523 - accuracy: 0.9856
Epoch 391: val_accuracy did not improve from 1.00000
13/13 [==============================] - 9s 713ms/step - loss: 0.0523 - accuracy: 0.9856 - val_loss: 0.0072 - val_accuracy: 1.0000
Epoch 392/500
13/13 [==============================] - ETA: 0s - loss: 0.0809 - accuracy: 0.9712
Epoch 392: val_accuracy did not improve from 1.00000
13/13 [==============================] - 9s 695ms/step - loss: 0.0809 - accuracy: 0.9712 - val_loss: 0.0107 - val_accuracy: 1.0000
Epoch 393/500
13/13 [==============================] - ETA: 0s - loss: 0.0421 - accuracy: 0.9904
Epoch 393: val_accuracy did not improve from 1.00000
13/13 [==============================] - 9s 686ms/step - loss: 0.0421 - accuracy: 0.9904 - val_loss: 0.0091 - val_accuracy: 1.0000
Epoch 394/500
13/13 [==============================] - ETA: 0s - loss: 0.0586 - accuracy: 0.9808
Epoch 394: val_accuracy did not improve from 1.00000
13/13 [==============================] - 9s 707ms/step - loss: 0.0586 - accuracy: 0.9808 - val_loss: 0.0289 - val_accuracy: 1.0000
Epoch 395/500
13/13 [==============================] - ETA: 0s - loss: 0.0653 - accuracy: 0.9688
Epoch 395: val_accuracy did not improve from 1.00000
13/13 [==============================] - 9s 695ms/step - loss: 0.0653 - accuracy: 0.9688 - val_loss: 0.0049 - val_accuracy: 1.0000
Epoch 396/500
13/13 [==============================] - ETA: 0s - loss: 0.0382 - accuracy: 0.9856
Epoch 396: val_accuracy did not improve from 1.00000
13/13 [==============================] - 9s 673ms/step - loss: 0.0382 - accuracy: 0.9856 - val_loss: 0.0055 - val_accuracy: 1.0000
Epoch 397/500
13/13 [==============================] - ETA: 0s - loss: 0.0611 - accuracy: 0.9784
Epoch 397: val_accuracy did not improve from 1.00000
13/13 [==============================] - 9s 713ms/step - loss: 0.0611 - accuracy: 0.9784 - val_loss: 0.0027 - val_accuracy: 1.0000
Epoch 398/500
13/13 [==============================] - ETA: 0s - loss: 0.0888 - accuracy: 0.9639
Epoch 398: val_accuracy did not improve from 1.00000
13/13 [==============================] - 9s 702ms/step - loss: 0.0888 - accuracy: 0.9639 - val_loss: 0.0078 - val_accuracy: 1.0000
Epoch 399/500
13/13 [==============================] - ETA: 0s - loss: 0.0753 - accuracy: 0.9712
Epoch 399: val_accuracy did not improve from 1.00000
13/13 [==============================] - 9s 676ms/step - loss: 0.0753 - accuracy: 0.9712 - val_loss: 0.0153 - val_accuracy: 1.0000
Epoch 400/500
13/13 [==============================] - ETA: 0s - loss: 0.0886 - accuracy: 0.9543
Epoch 400: val_accuracy did not improve from 1.00000
13/13 [==============================] - 9s 688ms/step - loss: 0.0886 - accuracy: 0.9543 - val_loss: 0.0074 - val_accuracy: 1.0000
Epoch 401/500
13/13 [==============================] - ETA: 0s - loss: 0.0433 - accuracy: 0.9784
Epoch 401: val_accuracy did not improve from 1.00000
13/13 [==============================] - 9s 698ms/step - loss: 0.0433 - accuracy: 0.9784 - val_loss: 0.0040 - val_accuracy: 1.0000
Epoch 402/500
13/13 [==============================] - ETA: 0s - loss: 0.0857 - accuracy: 0.9639
Epoch 402: val_accuracy did not improve from 1.00000
13/13 [==============================] - 9s 690ms/step - loss: 0.0857 - accuracy: 0.9639 - val_loss: 0.0068 - val_accuracy: 1.0000
Epoch 403/500
13/13 [==============================] - ETA: 0s - loss: 0.0800 - accuracy: 0.9688
Epoch 403: val_accuracy did not improve from 1.00000
13/13 [==============================] - 9s 696ms/step - loss: 0.0800 - accuracy: 0.9688 - val_loss: 0.0056 - val_accuracy: 1.0000
Epoch 404/500
13/13 [==============================] - ETA: 0s - loss: 0.0821 - accuracy: 0.9712
Epoch 404: val_accuracy did not improve from 1.00000
13/13 [==============================] - 9s 714ms/step - loss: 0.0821 - accuracy: 0.9712 - val_loss: 0.0115 - val_accuracy: 1.0000
Epoch 405/500
13/13 [==============================] - ETA: 0s - loss: 0.0589 - accuracy: 0.9784
Epoch 405: val_accuracy did not improve from 1.00000
13/13 [==============================] - 9s 699ms/step - loss: 0.0589 - accuracy: 0.9784 - val_loss: 0.0037 - val_accuracy: 1.0000
Epoch 406/500
13/13 [==============================] - ETA: 0s - loss: 0.0765 - accuracy: 0.9688
Epoch 406: val_accuracy did not improve from 1.00000
13/13 [==============================] - 9s 694ms/step - loss: 0.0765 - accuracy: 0.9688 - val_loss: 0.0513 - val_accuracy: 0.9861
Epoch 407/500
13/13 [==============================] - ETA: 0s - loss: 0.0981 - accuracy: 0.9663
Epoch 407: val_accuracy did not improve from 1.00000
13/13 [==============================] - 9s 685ms/step - loss: 0.0981 - accuracy: 0.9663 - val_loss: 0.0136 - val_accuracy: 1.0000
Epoch 408/500
13/13 [==============================] - ETA: 0s - loss: 0.0535 - accuracy: 0.9808
Epoch 408: val_accuracy did not improve from 1.00000
13/13 [==============================] - 9s 702ms/step - loss: 0.0535 - accuracy: 0.9808 - val_loss: 0.0103 - val_accuracy: 1.0000
Epoch 409/500
13/13 [==============================] - ETA: 0s - loss: 0.0744 - accuracy: 0.9688
Epoch 409: val_accuracy did not improve from 1.00000
13/13 [==============================] - 9s 702ms/step - loss: 0.0744 - accuracy: 0.9688 - val_loss: 0.0073 - val_accuracy: 1.0000
Epoch 410/500
13/13 [==============================] - ETA: 0s - loss: 0.0858 - accuracy: 0.9591
Epoch 410: val_accuracy did not improve from 1.00000
13/13 [==============================] - 9s 674ms/step - loss: 0.0858 - accuracy: 0.9591 - val_loss: 0.0069 - val_accuracy: 1.0000
Epoch 411/500
13/13 [==============================] - ETA: 0s - loss: 0.0654 - accuracy: 0.9760
Epoch 411: val_accuracy did not improve from 1.00000
13/13 [==============================] - 9s 683ms/step - loss: 0.0654 - accuracy: 0.9760 - val_loss: 0.0082 - val_accuracy: 1.0000
Epoch 412/500
13/13 [==============================] - ETA: 0s - loss: 0.0440 - accuracy: 0.9832
Epoch 412: val_accuracy did not improve from 1.00000
13/13 [==============================] - 9s 682ms/step - loss: 0.0440 - accuracy: 0.9832 - val_loss: 0.0079 - val_accuracy: 1.0000
Epoch 413/500
13/13 [==============================] - ETA: 0s - loss: 0.0518 - accuracy: 0.9736
Epoch 413: val_accuracy did not improve from 1.00000
13/13 [==============================] - 9s 690ms/step - loss: 0.0518 - accuracy: 0.9736 - val_loss: 0.0092 - val_accuracy: 1.0000
Epoch 414/500
13/13 [==============================] - ETA: 0s - loss: 0.0397 - accuracy: 0.9952
Epoch 414: val_accuracy did not improve from 1.00000
13/13 [==============================] - 9s 677ms/step - loss: 0.0397 - accuracy: 0.9952 - val_loss: 0.0088 - val_accuracy: 1.0000
Epoch 415/500
13/13 [==============================] - ETA: 0s - loss: 0.0584 - accuracy: 0.9808
Epoch 415: val_accuracy did not improve from 1.00000
13/13 [==============================] - 9s 698ms/step - loss: 0.0584 - accuracy: 0.9808 - val_loss: 0.0125 - val_accuracy: 0.9861
Epoch 416/500
13/13 [==============================] - ETA: 0s - loss: 0.0612 - accuracy: 0.9760
Epoch 416: val_accuracy did not improve from 1.00000
13/13 [==============================] - 9s 684ms/step - loss: 0.0612 - accuracy: 0.9760 - val_loss: 0.0039 - val_accuracy: 1.0000
Epoch 417/500
13/13 [==============================] - ETA: 0s - loss: 0.0556 - accuracy: 0.9784
Epoch 417: val_accuracy did not improve from 1.00000
13/13 [==============================] - 9s 687ms/step - loss: 0.0556 - accuracy: 0.9784 - val_loss: 0.0029 - val_accuracy: 1.0000
Epoch 418/500
13/13 [==============================] - ETA: 0s - loss: 0.0808 - accuracy: 0.9663
Epoch 418: val_accuracy did not improve from 1.00000
13/13 [==============================] - 9s 687ms/step - loss: 0.0808 - accuracy: 0.9663 - val_loss: 0.0096 - val_accuracy: 1.0000
Epoch 419/500
13/13 [==============================] - ETA: 0s - loss: 0.0584 - accuracy: 0.9832
Epoch 419: val_accuracy did not improve from 1.00000
13/13 [==============================] - 9s 683ms/step - loss: 0.0584 - accuracy: 0.9832 - val_loss: 0.0253 - val_accuracy: 1.0000
Epoch 420/500
13/13 [==============================] - ETA: 0s - loss: 0.0903 - accuracy: 0.9591
Epoch 420: val_accuracy did not improve from 1.00000
13/13 [==============================] - 9s 688ms/step - loss: 0.0903 - accuracy: 0.9591 - val_loss: 0.0080 - val_accuracy: 1.0000
Epoch 421/500
13/13 [==============================] - ETA: 0s - loss: 0.1114 - accuracy: 0.9615
Epoch 421: val_accuracy did not improve from 1.00000
13/13 [==============================] - 9s 683ms/step - loss: 0.1114 - accuracy: 0.9615 - val_loss: 0.0549 - val_accuracy: 0.9861
Epoch 422/500
13/13 [==============================] - ETA: 0s - loss: 0.0686 - accuracy: 0.9832
Epoch 422: val_accuracy did not improve from 1.00000
13/13 [==============================] - 9s 693ms/step - loss: 0.0686 - accuracy: 0.9832 - val_loss: 0.0094 - val_accuracy: 1.0000
Epoch 423/500
13/13 [==============================] - ETA: 0s - loss: 0.0717 - accuracy: 0.9663
Epoch 423: val_accuracy did not improve from 1.00000
13/13 [==============================] - 9s 692ms/step - loss: 0.0717 - accuracy: 0.9663 - val_loss: 0.0048 - val_accuracy: 1.0000
Epoch 424/500
13/13 [==============================] - ETA: 0s - loss: 0.0911 - accuracy: 0.9712
Epoch 424: val_accuracy did not improve from 1.00000
13/13 [==============================] - 10s 724ms/step - loss: 0.0911 - accuracy: 0.9712 - val_loss: 0.0108 - val_accuracy: 1.0000
Epoch 425/500
13/13 [==============================] - ETA: 0s - loss: 0.0916 - accuracy: 0.9615
Epoch 425: val_accuracy did not improve from 1.00000
13/13 [==============================] - 9s 699ms/step - loss: 0.0916 - accuracy: 0.9615 - val_loss: 0.0146 - val_accuracy: 0.9861
Epoch 426/500
13/13 [==============================] - ETA: 0s - loss: 0.0550 - accuracy: 0.9808
Epoch 426: val_accuracy did not improve from 1.00000
13/13 [==============================] - 9s 709ms/step - loss: 0.0550 - accuracy: 0.9808 - val_loss: 0.0212 - val_accuracy: 1.0000
Epoch 427/500
13/13 [==============================] - ETA: 0s - loss: 0.0627 - accuracy: 0.9760
Epoch 427: val_accuracy did not improve from 1.00000
13/13 [==============================] - 9s 714ms/step - loss: 0.0627 - accuracy: 0.9760 - val_loss: 0.0103 - val_accuracy: 1.0000
Epoch 428/500
13/13 [==============================] - ETA: 0s - loss: 0.0532 - accuracy: 0.9736
Epoch 428: val_accuracy did not improve from 1.00000
13/13 [==============================] - 9s 695ms/step - loss: 0.0532 - accuracy: 0.9736 - val_loss: 0.0039 - val_accuracy: 1.0000
Epoch 429/500
13/13 [==============================] - ETA: 0s - loss: 0.0512 - accuracy: 0.9832
Epoch 429: val_accuracy did not improve from 1.00000
13/13 [==============================] - 9s 697ms/step - loss: 0.0512 - accuracy: 0.9832 - val_loss: 0.0067 - val_accuracy: 1.0000
Epoch 430/500
13/13 [==============================] - ETA: 0s - loss: 0.0756 - accuracy: 0.9712
Epoch 430: val_accuracy did not improve from 1.00000
13/13 [==============================] - 9s 689ms/step - loss: 0.0756 - accuracy: 0.9712 - val_loss: 0.0215 - val_accuracy: 0.9861
Epoch 431/500
13/13 [==============================] - ETA: 0s - loss: 0.0986 - accuracy: 0.9712
Epoch 431: val_accuracy did not improve from 1.00000
13/13 [==============================] - 9s 705ms/step - loss: 0.0986 - accuracy: 0.9712 - val_loss: 0.0090 - val_accuracy: 1.0000
Epoch 432/500
13/13 [==============================] - ETA: 0s - loss: 0.0698 - accuracy: 0.9736
Epoch 432: val_accuracy did not improve from 1.00000
13/13 [==============================] - 9s 688ms/step - loss: 0.0698 - accuracy: 0.9736 - val_loss: 0.0098 - val_accuracy: 1.0000
Epoch 433/500
13/13 [==============================] - ETA: 0s - loss: 0.0498 - accuracy: 0.9832
Epoch 433: val_accuracy did not improve from 1.00000
13/13 [==============================] - 9s 697ms/step - loss: 0.0498 - accuracy: 0.9832 - val_loss: 0.0097 - val_accuracy: 1.0000
Epoch 434/500
13/13 [==============================] - ETA: 0s - loss: 0.0566 - accuracy: 0.9808
Epoch 434: val_accuracy did not improve from 1.00000
13/13 [==============================] - 9s 705ms/step - loss: 0.0566 - accuracy: 0.9808 - val_loss: 0.0065 - val_accuracy: 1.0000
Epoch 435/500
13/13 [==============================] - ETA: 0s - loss: 0.0586 - accuracy: 0.9760
Epoch 435: val_accuracy did not improve from 1.00000
13/13 [==============================] - 9s 700ms/step - loss: 0.0586 - accuracy: 0.9760 - val_loss: 0.0047 - val_accuracy: 1.0000
Epoch 436/500
13/13 [==============================] - ETA: 0s - loss: 0.0702 - accuracy: 0.9712
Epoch 436: val_accuracy did not improve from 1.00000
13/13 [==============================] - 9s 708ms/step - loss: 0.0702 - accuracy: 0.9712 - val_loss: 0.0096 - val_accuracy: 1.0000
Epoch 437/500
13/13 [==============================] - ETA: 0s - loss: 0.0445 - accuracy: 0.9832
Epoch 437: val_accuracy did not improve from 1.00000
13/13 [==============================] - 9s 699ms/step - loss: 0.0445 - accuracy: 0.9832 - val_loss: 0.0040 - val_accuracy: 1.0000
Epoch 438/500
13/13 [==============================] - ETA: 0s - loss: 0.0469 - accuracy: 0.9808
Epoch 438: val_accuracy did not improve from 1.00000
13/13 [==============================] - 9s 704ms/step - loss: 0.0469 - accuracy: 0.9808 - val_loss: 0.0016 - val_accuracy: 1.0000
Epoch 439/500
13/13 [==============================] - ETA: 0s - loss: 0.0696 - accuracy: 0.9736
Epoch 439: val_accuracy did not improve from 1.00000
13/13 [==============================] - 9s 688ms/step - loss: 0.0696 - accuracy: 0.9736 - val_loss: 0.0075 - val_accuracy: 1.0000
Epoch 440/500
13/13 [==============================] - ETA: 0s - loss: 0.0506 - accuracy: 0.9784
Epoch 440: val_accuracy did not improve from 1.00000
13/13 [==============================] - 9s 702ms/step - loss: 0.0506 - accuracy: 0.9784 - val_loss: 0.0090 - val_accuracy: 1.0000
Epoch 441/500
13/13 [==============================] - ETA: 0s - loss: 0.0946 - accuracy: 0.9591
Epoch 441: val_accuracy did not improve from 1.00000
13/13 [==============================] - 9s 697ms/step - loss: 0.0946 - accuracy: 0.9591 - val_loss: 0.0076 - val_accuracy: 1.0000
Epoch 442/500
13/13 [==============================] - ETA: 0s - loss: 0.0459 - accuracy: 0.9808
Epoch 442: val_accuracy did not improve from 1.00000
13/13 [==============================] - 9s 722ms/step - loss: 0.0459 - accuracy: 0.9808 - val_loss: 0.0155 - val_accuracy: 1.0000
Epoch 443/500
13/13 [==============================] - ETA: 0s - loss: 0.0408 - accuracy: 0.9784
Epoch 443: val_accuracy did not improve from 1.00000
13/13 [==============================] - 9s 709ms/step - loss: 0.0408 - accuracy: 0.9784 - val_loss: 0.0107 - val_accuracy: 1.0000
Epoch 444/500
13/13 [==============================] - ETA: 0s - loss: 0.0511 - accuracy: 0.9832
Epoch 444: val_accuracy did not improve from 1.00000
13/13 [==============================] - 10s 737ms/step - loss: 0.0511 - accuracy: 0.9832 - val_loss: 0.0091 - val_accuracy: 1.0000
Epoch 445/500
13/13 [==============================] - ETA: 0s - loss: 0.0522 - accuracy: 0.9808
Epoch 445: val_accuracy did not improve from 1.00000
13/13 [==============================] - 10s 732ms/step - loss: 0.0522 - accuracy: 0.9808 - val_loss: 0.0035 - val_accuracy: 1.0000
Epoch 446/500
13/13 [==============================] - ETA: 0s - loss: 0.0490 - accuracy: 0.9736
Epoch 446: val_accuracy did not improve from 1.00000
13/13 [==============================] - 9s 697ms/step - loss: 0.0490 - accuracy: 0.9736 - val_loss: 0.0044 - val_accuracy: 1.0000
Epoch 447/500
13/13 [==============================] - ETA: 0s - loss: 0.0336 - accuracy: 0.9904
Epoch 447: val_accuracy did not improve from 1.00000
13/13 [==============================] - 9s 687ms/step - loss: 0.0336 - accuracy: 0.9904 - val_loss: 0.0045 - val_accuracy: 1.0000
Epoch 448/500
13/13 [==============================] - ETA: 0s - loss: 0.0585 - accuracy: 0.9760
Epoch 448: val_accuracy did not improve from 1.00000
13/13 [==============================] - 9s 717ms/step - loss: 0.0585 - accuracy: 0.9760 - val_loss: 0.0045 - val_accuracy: 1.0000
Epoch 449/500
13/13 [==============================] - ETA: 0s - loss: 0.0812 - accuracy: 0.9760
Epoch 449: val_accuracy did not improve from 1.00000
13/13 [==============================] - 10s 733ms/step - loss: 0.0812 - accuracy: 0.9760 - val_loss: 0.0294 - val_accuracy: 0.9861
Epoch 450/500
13/13 [==============================] - ETA: 0s - loss: 0.0625 - accuracy: 0.9832
Epoch 450: val_accuracy did not improve from 1.00000
13/13 [==============================] - 9s 693ms/step - loss: 0.0625 - accuracy: 0.9832 - val_loss: 0.0061 - val_accuracy: 1.0000
Epoch 451/500
13/13 [==============================] - ETA: 0s - loss: 0.0568 - accuracy: 0.9856
Epoch 451: val_accuracy did not improve from 1.00000
13/13 [==============================] - 9s 708ms/step - loss: 0.0568 - accuracy: 0.9856 - val_loss: 0.0082 - val_accuracy: 1.0000
Epoch 452/500
13/13 [==============================] - ETA: 0s - loss: 0.0540 - accuracy: 0.9808
Epoch 452: val_accuracy did not improve from 1.00000
13/13 [==============================] - 10s 735ms/step - loss: 0.0540 - accuracy: 0.9808 - val_loss: 0.0050 - val_accuracy: 1.0000
Epoch 453/500
13/13 [==============================] - ETA: 0s - loss: 0.0634 - accuracy: 0.9615
Epoch 453: val_accuracy did not improve from 1.00000
13/13 [==============================] - 9s 704ms/step - loss: 0.0634 - accuracy: 0.9615 - val_loss: 0.0081 - val_accuracy: 1.0000
Epoch 454/500
13/13 [==============================] - ETA: 0s - loss: 0.0710 - accuracy: 0.9712
Epoch 454: val_accuracy did not improve from 1.00000
13/13 [==============================] - 9s 694ms/step - loss: 0.0710 - accuracy: 0.9712 - val_loss: 0.0050 - val_accuracy: 1.0000
Epoch 455/500
13/13 [==============================] - ETA: 0s - loss: 0.0726 - accuracy: 0.9760
Epoch 455: val_accuracy did not improve from 1.00000
13/13 [==============================] - 9s 702ms/step - loss: 0.0726 - accuracy: 0.9760 - val_loss: 0.0113 - val_accuracy: 1.0000
Epoch 456/500
13/13 [==============================] - ETA: 0s - loss: 0.0513 - accuracy: 0.9832
Epoch 456: val_accuracy did not improve from 1.00000
13/13 [==============================] - 9s 713ms/step - loss: 0.0513 - accuracy: 0.9832 - val_loss: 0.0038 - val_accuracy: 1.0000
Epoch 457/500
13/13 [==============================] - ETA: 0s - loss: 0.0563 - accuracy: 0.9856
Epoch 457: val_accuracy did not improve from 1.00000
13/13 [==============================] - 9s 697ms/step - loss: 0.0563 - accuracy: 0.9856 - val_loss: 0.0076 - val_accuracy: 1.0000
Epoch 458/500
13/13 [==============================] - ETA: 0s - loss: 0.0804 - accuracy: 0.9736
Epoch 458: val_accuracy did not improve from 1.00000
13/13 [==============================] - 9s 702ms/step - loss: 0.0804 - accuracy: 0.9736 - val_loss: 0.0064 - val_accuracy: 1.0000
Epoch 459/500
13/13 [==============================] - ETA: 0s - loss: 0.0425 - accuracy: 0.9856
Epoch 459: val_accuracy did not improve from 1.00000
13/13 [==============================] - 9s 708ms/step - loss: 0.0425 - accuracy: 0.9856 - val_loss: 0.0030 - val_accuracy: 1.0000
Epoch 460/500
13/13 [==============================] - ETA: 0s - loss: 0.0886 - accuracy: 0.9663
Epoch 460: val_accuracy did not improve from 1.00000
13/13 [==============================] - 9s 717ms/step - loss: 0.0886 - accuracy: 0.9663 - val_loss: 0.0240 - val_accuracy: 0.9861
Epoch 461/500
13/13 [==============================] - ETA: 0s - loss: 0.0704 - accuracy: 0.9736
Epoch 461: val_accuracy did not improve from 1.00000
13/13 [==============================] - 10s 718ms/step - loss: 0.0704 - accuracy: 0.9736 - val_loss: 0.0133 - val_accuracy: 1.0000
Epoch 462/500
13/13 [==============================] - ETA: 0s - loss: 0.0668 - accuracy: 0.9712
Epoch 462: val_accuracy did not improve from 1.00000
13/13 [==============================] - 9s 700ms/step - loss: 0.0668 - accuracy: 0.9712 - val_loss: 0.0158 - val_accuracy: 1.0000
Epoch 463/500
13/13 [==============================] - ETA: 0s - loss: 0.0655 - accuracy: 0.9808
Epoch 463: val_accuracy did not improve from 1.00000
13/13 [==============================] - 9s 713ms/step - loss: 0.0655 - accuracy: 0.9808 - val_loss: 0.0287 - val_accuracy: 0.9861
Epoch 464/500
13/13 [==============================] - ETA: 0s - loss: 0.0716 - accuracy: 0.9663
Epoch 464: val_accuracy did not improve from 1.00000
13/13 [==============================] - 9s 695ms/step - loss: 0.0716 - accuracy: 0.9663 - val_loss: 0.0156 - val_accuracy: 0.9861
Epoch 465/500
13/13 [==============================] - ETA: 0s - loss: 0.0787 - accuracy: 0.9712
Epoch 465: val_accuracy did not improve from 1.00000
13/13 [==============================] - 9s 707ms/step - loss: 0.0787 - accuracy: 0.9712 - val_loss: 0.0269 - val_accuracy: 0.9861
Epoch 466/500
13/13 [==============================] - ETA: 0s - loss: 0.0924 - accuracy: 0.9712
Epoch 466: val_accuracy did not improve from 1.00000
13/13 [==============================] - 9s 697ms/step - loss: 0.0924 - accuracy: 0.9712 - val_loss: 0.0095 - val_accuracy: 1.0000
Epoch 467/500
13/13 [==============================] - ETA: 0s - loss: 0.0725 - accuracy: 0.9639
Epoch 467: val_accuracy did not improve from 1.00000
13/13 [==============================] - 9s 697ms/step - loss: 0.0725 - accuracy: 0.9639 - val_loss: 0.0079 - val_accuracy: 1.0000
Epoch 468/500
13/13 [==============================] - ETA: 0s - loss: 0.0473 - accuracy: 0.9808
Epoch 468: val_accuracy did not improve from 1.00000
13/13 [==============================] - 9s 674ms/step - loss: 0.0473 - accuracy: 0.9808 - val_loss: 0.0085 - val_accuracy: 1.0000
Epoch 469/500
13/13 [==============================] - ETA: 0s - loss: 0.0941 - accuracy: 0.9639
Epoch 469: val_accuracy did not improve from 1.00000
13/13 [==============================] - 9s 699ms/step - loss: 0.0941 - accuracy: 0.9639 - val_loss: 0.0135 - val_accuracy: 1.0000
Epoch 470/500
13/13 [==============================] - ETA: 0s - loss: 0.1011 - accuracy: 0.9639
Epoch 470: val_accuracy did not improve from 1.00000
13/13 [==============================] - 9s 686ms/step - loss: 0.1011 - accuracy: 0.9639 - val_loss: 0.0093 - val_accuracy: 1.0000
Epoch 471/500
13/13 [==============================] - ETA: 0s - loss: 0.0870 - accuracy: 0.9688
Epoch 471: val_accuracy did not improve from 1.00000
13/13 [==============================] - 9s 694ms/step - loss: 0.0870 - accuracy: 0.9688 - val_loss: 0.0075 - val_accuracy: 1.0000
Epoch 472/500
13/13 [==============================] - ETA: 0s - loss: 0.0473 - accuracy: 0.9856
Epoch 472: val_accuracy did not improve from 1.00000
13/13 [==============================] - 9s 680ms/step - loss: 0.0473 - accuracy: 0.9856 - val_loss: 0.0071 - val_accuracy: 1.0000
Epoch 473/500
13/13 [==============================] - ETA: 0s - loss: 0.0574 - accuracy: 0.9784
Epoch 473: val_accuracy did not improve from 1.00000
13/13 [==============================] - 9s 717ms/step - loss: 0.0574 - accuracy: 0.9784 - val_loss: 0.0266 - val_accuracy: 0.9861
Epoch 474/500
13/13 [==============================] - ETA: 0s - loss: 0.1064 - accuracy: 0.9567
Epoch 474: val_accuracy did not improve from 1.00000
13/13 [==============================] - 9s 694ms/step - loss: 0.1064 - accuracy: 0.9567 - val_loss: 0.0148 - val_accuracy: 1.0000
Epoch 475/500
13/13 [==============================] - ETA: 0s - loss: 0.0655 - accuracy: 0.9808
Epoch 475: val_accuracy did not improve from 1.00000
13/13 [==============================] - 9s 691ms/step - loss: 0.0655 - accuracy: 0.9808 - val_loss: 0.0186 - val_accuracy: 0.9861
Epoch 476/500
13/13 [==============================] - ETA: 0s - loss: 0.0963 - accuracy: 0.9736
Epoch 476: val_accuracy did not improve from 1.00000
13/13 [==============================] - 9s 698ms/step - loss: 0.0963 - accuracy: 0.9736 - val_loss: 0.0075 - val_accuracy: 1.0000
Epoch 477/500
13/13 [==============================] - ETA: 0s - loss: 0.0600 - accuracy: 0.9712
Epoch 477: val_accuracy did not improve from 1.00000
13/13 [==============================] - 9s 696ms/step - loss: 0.0600 - accuracy: 0.9712 - val_loss: 0.0092 - val_accuracy: 1.0000
Epoch 478/500
13/13 [==============================] - ETA: 0s - loss: 0.0902 - accuracy: 0.9688
Epoch 478: val_accuracy did not improve from 1.00000
13/13 [==============================] - 9s 708ms/step - loss: 0.0902 - accuracy: 0.9688 - val_loss: 0.0165 - val_accuracy: 1.0000
Epoch 479/500
13/13 [==============================] - ETA: 0s - loss: 0.0595 - accuracy: 0.9736
Epoch 479: val_accuracy did not improve from 1.00000
13/13 [==============================] - 9s 695ms/step - loss: 0.0595 - accuracy: 0.9736 - val_loss: 0.0067 - val_accuracy: 1.0000
Epoch 480/500
13/13 [==============================] - ETA: 0s - loss: 0.0628 - accuracy: 0.9736
Epoch 480: val_accuracy did not improve from 1.00000
13/13 [==============================] - 9s 680ms/step - loss: 0.0628 - accuracy: 0.9736 - val_loss: 0.0112 - val_accuracy: 1.0000
Epoch 481/500
13/13 [==============================] - ETA: 0s - loss: 0.0589 - accuracy: 0.9808
Epoch 481: val_accuracy did not improve from 1.00000
13/13 [==============================] - 9s 689ms/step - loss: 0.0589 - accuracy: 0.9808 - val_loss: 0.0092 - val_accuracy: 1.0000
Epoch 482/500
13/13 [==============================] - ETA: 0s - loss: 0.0561 - accuracy: 0.9784
Epoch 482: val_accuracy did not improve from 1.00000
13/13 [==============================] - 9s 692ms/step - loss: 0.0561 - accuracy: 0.9784 - val_loss: 0.0152 - val_accuracy: 0.9861
Epoch 483/500
13/13 [==============================] - ETA: 0s - loss: 0.0590 - accuracy: 0.9736
Epoch 483: val_accuracy did not improve from 1.00000
13/13 [==============================] - 9s 671ms/step - loss: 0.0590 - accuracy: 0.9736 - val_loss: 0.0125 - val_accuracy: 1.0000
Epoch 484/500
13/13 [==============================] - ETA: 0s - loss: 0.1135 - accuracy: 0.9447
Epoch 484: val_accuracy did not improve from 1.00000
13/13 [==============================] - 9s 687ms/step - loss: 0.1135 - accuracy: 0.9447 - val_loss: 0.0229 - val_accuracy: 1.0000
Epoch 485/500
13/13 [==============================] - ETA: 0s - loss: 0.0720 - accuracy: 0.9736
Epoch 485: val_accuracy did not improve from 1.00000
13/13 [==============================] - 9s 702ms/step - loss: 0.0720 - accuracy: 0.9736 - val_loss: 0.0116 - val_accuracy: 1.0000
Epoch 486/500
13/13 [==============================] - ETA: 0s - loss: 0.0672 - accuracy: 0.9784
Epoch 486: val_accuracy did not improve from 1.00000
13/13 [==============================] - 9s 691ms/step - loss: 0.0672 - accuracy: 0.9784 - val_loss: 0.0073 - val_accuracy: 1.0000
Epoch 487/500
13/13 [==============================] - ETA: 0s - loss: 0.0516 - accuracy: 0.9808
Epoch 487: val_accuracy did not improve from 1.00000
13/13 [==============================] - 9s 699ms/step - loss: 0.0516 - accuracy: 0.9808 - val_loss: 0.0068 - val_accuracy: 1.0000
Epoch 488/500
13/13 [==============================] - ETA: 0s - loss: 0.0725 - accuracy: 0.9688
Epoch 488: val_accuracy did not improve from 1.00000
13/13 [==============================] - 9s 706ms/step - loss: 0.0725 - accuracy: 0.9688 - val_loss: 0.0132 - val_accuracy: 1.0000
Epoch 489/500
13/13 [==============================] - ETA: 0s - loss: 0.0506 - accuracy: 0.9784
Epoch 489: val_accuracy did not improve from 1.00000
13/13 [==============================] - 9s 695ms/step - loss: 0.0506 - accuracy: 0.9784 - val_loss: 0.0088 - val_accuracy: 1.0000
Epoch 490/500
13/13 [==============================] - ETA: 0s - loss: 0.0587 - accuracy: 0.9784
Epoch 490: val_accuracy did not improve from 1.00000
13/13 [==============================] - 9s 696ms/step - loss: 0.0587 - accuracy: 0.9784 - val_loss: 0.0065 - val_accuracy: 1.0000
Epoch 491/500
13/13 [==============================] - ETA: 0s - loss: 0.0742 - accuracy: 0.9784
Epoch 491: val_accuracy did not improve from 1.00000
13/13 [==============================] - 10s 728ms/step - loss: 0.0742 - accuracy: 0.9784 - val_loss: 0.0060 - val_accuracy: 1.0000
Epoch 492/500
13/13 [==============================] - ETA: 0s - loss: 0.0395 - accuracy: 0.9928
Epoch 492: val_accuracy did not improve from 1.00000
13/13 [==============================] - 9s 711ms/step - loss: 0.0395 - accuracy: 0.9928 - val_loss: 0.0056 - val_accuracy: 1.0000
Epoch 493/500
13/13 [==============================] - ETA: 0s - loss: 0.0402 - accuracy: 0.9856
Epoch 493: val_accuracy did not improve from 1.00000
13/13 [==============================] - 9s 687ms/step - loss: 0.0402 - accuracy: 0.9856 - val_loss: 0.0062 - val_accuracy: 1.0000
Epoch 494/500
13/13 [==============================] - ETA: 0s - loss: 0.0388 - accuracy: 0.9832
Epoch 494: val_accuracy did not improve from 1.00000
13/13 [==============================] - 9s 689ms/step - loss: 0.0388 - accuracy: 0.9832 - val_loss: 0.0167 - val_accuracy: 0.9861
Epoch 495/500
13/13 [==============================] - ETA: 0s - loss: 0.0694 - accuracy: 0.9688
Epoch 495: val_accuracy did not improve from 1.00000
13/13 [==============================] - 9s 686ms/step - loss: 0.0694 - accuracy: 0.9688 - val_loss: 0.0181 - val_accuracy: 1.0000
Epoch 496/500
13/13 [==============================] - ETA: 0s - loss: 0.0548 - accuracy: 0.9808
Epoch 496: val_accuracy did not improve from 1.00000
13/13 [==============================] - 9s 690ms/step - loss: 0.0548 - accuracy: 0.9808 - val_loss: 0.0056 - val_accuracy: 1.0000
Epoch 497/500
13/13 [==============================] - ETA: 0s - loss: 0.0326 - accuracy: 0.9856
Epoch 497: val_accuracy did not improve from 1.00000
13/13 [==============================] - 9s 677ms/step - loss: 0.0326 - accuracy: 0.9856 - val_loss: 0.0051 - val_accuracy: 1.0000
Epoch 498/500
13/13 [==============================] - ETA: 0s - loss: 0.0525 - accuracy: 0.9736
Epoch 498: val_accuracy did not improve from 1.00000
13/13 [==============================] - 9s 678ms/step - loss: 0.0525 - accuracy: 0.9736 - val_loss: 0.0053 - val_accuracy: 1.0000
Epoch 499/500
13/13 [==============================] - ETA: 0s - loss: 0.0677 - accuracy: 0.9712
Epoch 499: val_accuracy did not improve from 1.00000
13/13 [==============================] - 9s 685ms/step - loss: 0.0677 - accuracy: 0.9712 - val_loss: 0.0056 - val_accuracy: 1.0000
Epoch 500/500
13/13 [==============================] - ETA: 0s - loss: 0.0622 - accuracy: 0.9832
Epoch 500: val_accuracy did not improve from 1.00000
13/13 [==============================] - 9s 673ms/step - loss: 0.0622 - accuracy: 0.9832 - val_loss: 0.0092 - val_accuracy: 1.0000
model_path2 = r'G:\obs_studio\SAP_BTP\Malaria_own\v4_1_pred_malaria_det.h5'
cnn_model.save(model_path2)
# summarize history for accuracy
plt.plot(history.history['accuracy'])
plt.plot(history.history['val_accuracy'])
plt.title('model accuracy')
plt.ylabel('accuracy')
plt.xlabel('epoch')
plt.legend(['train', 'test'], loc='upper left')
plt.show()
# summarize history for loss
plt.plot(history.history['loss'])
plt.plot(history.history['val_loss'])
plt.title('model loss')
plt.ylabel('loss')
plt.xlabel('epoch')
plt.legend(['train', 'test'], loc='upper left')
plt.show()


history.history
{'loss': [0.9746513366699219,
  0.8084588646888733,
  0.7713501453399658,
  0.7702071666717529,
  0.7333425283432007,
  0.7295799851417542,
  0.7164625525474548,
  0.6821575164794922,
  0.6468187570571899,
  0.5868264436721802,
  0.582179605960846,
  0.48279884457588196,
  0.5473689436912537,
  0.6120632290840149,
  0.5004772543907166,
  0.4998938739299774,
  0.5006744861602783,
  0.478620707988739,
  0.44358646869659424,
  0.45959270000457764,
  0.46154531836509705,
  0.4684447646141052,
  0.47305828332901,
  0.45324578881263733,
  0.4447508156299591,
  0.4117831885814667,
  0.42879539728164673,
  0.42139166593551636,
  0.43468302488327026,
  0.4330967664718628,
  0.44238075613975525,
  0.4522184729576111,
  0.44265875220298767,
  0.44650083780288696,
  0.4209548830986023,
  0.42257216572761536,
  0.4371495842933655,
  0.4258836507797241,
  0.43532994389533997,
  0.4508030116558075,
  0.4151797294616699,
  0.39491236209869385,
  0.3694853186607361,
  0.38555559515953064,
  0.38874828815460205,
  0.4313368499279022,
  0.3872542083263397,
  0.3448565602302551,
  0.3656797409057617,
  0.36602306365966797,
  0.3523193597793579,
  0.3296813368797302,
  0.3421018719673157,
  0.33198168873786926,
  0.3046921491622925,
  0.34251683950424194,
  0.3077889680862427,
  0.27460819482803345,
  0.28267496824264526,
  0.32164493203163147,
  0.2737411558628082,
  0.2972120940685272,
  0.27117785811424255,
  0.2622252106666565,
  0.25353187322616577,
  0.2441103607416153,
  0.24272260069847107,
  0.27317002415657043,
  0.27922093868255615,
  0.25433382391929626,
  0.2263334095478058,
  0.2700260579586029,
  0.24870143830776215,
  0.22278979420661926,
  0.25278374552726746,
  0.21432437002658844,
  0.20557785034179688,
  0.21560817956924438,
  0.2201513648033142,
  0.19873060286045074,
  0.19275130331516266,
  0.22085580229759216,
  0.21352586150169373,
  0.2027670294046402,
  0.20208270847797394,
  0.23923470079898834,
  0.222903311252594,
  0.21527215838432312,
  0.22200649976730347,
  0.25015896558761597,
  0.23063017427921295,
  0.1947839856147766,
  0.16901904344558716,
  0.199139803647995,
  0.19656458497047424,
  0.21241267025470734,
  0.23982247710227966,
  0.18411149084568024,
  0.1685730516910553,
  0.19675929844379425,
  0.18473757803440094,
  0.18969541788101196,
  0.1853785216808319,
  0.1748380959033966,
  0.1505277305841446,
  0.1789475530385971,
  0.19019675254821777,
  0.16399525105953217,
  0.14685004949569702,
  0.17420785129070282,
  0.18721339106559753,
  0.14286229014396667,
  0.19659723341464996,
  0.17534245550632477,
  0.1588853895664215,
  0.20165881514549255,
  0.1686505228281021,
  0.11799539625644684,
  0.18772612512111664,
  0.18910335004329681,
  0.1838328093290329,
  0.1271781176328659,
  0.14249154925346375,
  0.11758396029472351,
  0.17858006060123444,
  0.14964944124221802,
  0.12770411372184753,
  0.13029830157756805,
  0.12406843155622482,
  0.13118495047092438,
  0.167817622423172,
  0.13317357003688812,
  0.10752393305301666,
  0.13281476497650146,
  0.15945832431316376,
  0.13654209673404694,
  0.1669188290834427,
  0.13039427995681763,
  0.15367668867111206,
  0.18387559056282043,
  0.1197718009352684,
  0.16830118000507355,
  0.16464148461818695,
  0.13851942121982574,
  0.20218110084533691,
  0.1509777456521988,
  0.1394721418619156,
  0.10896807163953781,
  0.12299477308988571,
  0.14070568978786469,
  0.12918762862682343,
  0.11052990704774857,
  0.12376640737056732,
  0.12084190547466278,
  0.12144231796264648,
  0.13238967955112457,
  0.10723212361335754,
  0.11377818137407303,
  0.13609950244426727,
  0.1608910709619522,
  0.1193942204117775,
  0.14088761806488037,
  0.09394960105419159,
  0.1557716578245163,
  0.09433558583259583,
  0.13624438643455505,
  0.11948546022176743,
  0.11299057304859161,
  0.10212536156177521,
  0.10585737973451614,
  0.1306937038898468,
  0.13762019574642181,
  0.13123896718025208,
  0.12559866905212402,
  0.13800832629203796,
  0.12032303214073181,
  0.12384334206581116,
  0.10320078581571579,
  0.11032307147979736,
  0.10415888577699661,
  0.11652950942516327,
  0.11919116973876953,
  0.12444819509983063,
  0.13205204904079437,
  0.09477116167545319,
  0.08225180208683014,
  0.11739733815193176,
  0.0997927337884903,
  0.1014494001865387,
  0.09908803552389145,
  0.12409856915473938,
  0.1249387115240097,
  0.1019044816493988,
  0.10590040683746338,
  0.10075555741786957,
  0.08631455153226852,
  0.09785032272338867,
  0.1466287523508072,
  0.10610809922218323,
  0.07244421541690826,
  0.0886315181851387,
  0.10779663175344467,
  0.1123962551355362,
  0.09361502528190613,
  0.12159940600395203,
  0.12719787657260895,
  0.10795113444328308,
  0.11798759549856186,
  0.11101411283016205,
  0.11015664041042328,
  0.13735529780387878,
  0.0914064273238182,
  0.07206954061985016,
  0.11131497472524643,
  0.08862832933664322,
  0.10450374335050583,
  0.1043105274438858,
  0.07408837974071503,
  0.1010795384645462,
  0.11215174943208694,
  0.06648334860801697,
  0.0810689926147461,
  0.0814657211303711,
  0.08479450643062592,
  0.0713762417435646,
  0.07162903249263763,
  0.09801118075847626,
  0.10493441671133041,
  0.11659301817417145,
  0.13405944406986237,
  0.09043934941291809,
  0.06029004231095314,
  0.11516688764095306,
  0.10119041800498962,
  0.08136539161205292,
  0.09885405004024506,
  0.08915925025939941,
  0.11266060918569565,
  0.09506312012672424,
  0.06962855905294418,
  0.08892141282558441,
  0.11537905782461166,
  0.12718673050403595,
  0.1359337717294693,
  0.10725647956132889,
  0.07900603860616684,
  0.09371247887611389,
  0.09166128933429718,
  0.08888545632362366,
  0.09631217271089554,
  0.09129135310649872,
  0.10524042695760727,
  0.09067949652671814,
  0.09089086949825287,
  0.14644406735897064,
  0.10305047035217285,
  0.10393524914979935,
  0.10993818193674088,
  0.05804840475320816,
  0.07557716965675354,
  0.07167209684848785,
  0.087420254945755,
  0.06954950839281082,
  0.08247850835323334,
  0.07041177153587341,
  0.07191624492406845,
  0.08686515688896179,
  0.06610703468322754,
  0.10003085434436798,
  0.1005742996931076,
  0.11541267484426498,
  0.10259214788675308,
  0.0871354341506958,
  0.0672711580991745,
  0.08082588016986847,
  0.07476186007261276,
  0.07761530578136444,
  0.08424614369869232,
  0.08954162150621414,
  0.07000456750392914,
  0.07171659916639328,
  0.06556259095668793,
  0.09646541625261307,
  0.07281094789505005,
  0.09452615678310394,
  0.10136756300926208,
  0.07209224998950958,
  0.08160717785358429,
  0.07987144589424133,
  0.0762781947851181,
  0.05737807974219322,
  0.08851698786020279,
  0.09019008278846741,
  0.0910181924700737,
  0.09406815469264984,
  0.08469932526350021,
  0.08411722630262375,
  0.11539546400308609,
  0.11607364565134048,
  0.11026100814342499,
  0.07036130875349045,
  0.0630134791135788,
  0.04069159924983978,
  0.0688251405954361,
  0.10019181668758392,
  0.056261397898197174,
  0.06727893650531769,
  0.07817339897155762,
  0.06875348836183548,
  0.06056942418217659,
  0.053394418209791183,
  0.06882795691490173,
  0.05250001698732376,
  0.08688195794820786,
  0.06780261546373367,
  0.10073304176330566,
  0.08657722175121307,
  0.08525146543979645,
  0.08246961981058121,
  0.06443694233894348,
  0.12221887707710266,
  0.11249741166830063,
  0.04730252921581268,
  0.08184035867452621,
  0.04768218472599983,
  0.13846689462661743,
  0.07708024233579636,
  0.09007661044597626,
  0.09248086810112,
  0.10656984150409698,
  0.10655459761619568,
  0.09480690211057663,
  0.06032136455178261,
  0.0809098407626152,
  0.06638911366462708,
  0.1201624721288681,
  0.058286845684051514,
  0.08611953258514404,
  0.06457328796386719,
  0.11401783674955368,
  0.09803533554077148,
  0.12120351195335388,
  0.07547516375780106,
  0.08455847203731537,
  0.07696926593780518,
  0.07029401510953903,
  0.053449444472789764,
  0.06564836204051971,
  0.06422992050647736,
  0.08365868777036667,
  0.11699329316616058,
  0.08883008360862732,
  0.09234515577554703,
  0.0820336863398552,
  0.09315626323223114,
  0.06725162267684937,
  0.07851679623126984,
  0.07257821410894394,
  0.05085674673318863,
  0.06106581538915634,
  0.07420923560857773,
  0.054171349853277206,
  0.07161694020032883,
  0.07566604018211365,
  0.07533207535743713,
  0.07963813841342926,
  0.07772349566221237,
  0.07353463768959045,
  0.04551053047180176,
  0.09036636352539062,
  0.06348483264446259,
  0.07902149856090546,
  0.058991558849811554,
  0.07186999917030334,
  0.06711339205503464,
  0.06163405999541283,
  0.05442756041884422,
  0.08005417138338089,
  0.05260557681322098,
  0.06376040726900101,
  0.07762428373098373,
  0.07254525274038315,
  0.049666013568639755,
  0.07294899970293045,
  0.04967949539422989,
  0.12983238697052002,
  0.07978630065917969,
  0.05654937028884888,
  0.0675438791513443,
  0.06342963129281998,
  0.05231219157576561,
  0.08090346306562424,
  0.04206882417201996,
  0.0586286336183548,
  0.06527981907129288,
  0.0382121317088604,
  0.061075665056705475,
  0.08877421170473099,
  0.07525498420000076,
  0.08863397687673569,
  0.043320994824171066,
  0.08573667705059052,
  0.07997812330722809,
  0.08213723450899124,
  0.058882277458906174,
  0.07654369622468948,
  0.09805873781442642,
  0.05345991998910904,
  0.07444404065608978,
  0.08575255423784256,
  0.06540387123823166,
  0.043984584510326385,
  0.0518156960606575,
  0.039706118404865265,
  0.05842279642820358,
  0.06122172251343727,
  0.055561281740665436,
  0.08076094090938568,
  0.05841450393199921,
  0.09027405828237534,
  0.11138500273227692,
  0.06864981353282928,
  0.07166299223899841,
  0.09109069406986237,
  0.09163122624158859,
  0.05496613308787346,
  0.0626889020204544,
  0.05320434272289276,
  0.05116051807999611,
  0.07563529163599014,
  0.09855573624372482,
  0.0697733536362648,
  0.04977574571967125,
  0.05660497769713402,
  0.05864165350794792,
  0.07018040120601654,
  0.044509418308734894,
  0.04689810797572136,
  0.0696459636092186,
  0.05061453953385353,
  0.09462288022041321,
  0.04585697129368782,
  0.04076378047466278,
  0.05113694816827774,
  0.05219079554080963,
  0.049011655151844025,
  0.03355654701590538,
  0.0584789477288723,
  0.08117517828941345,
  0.062457773834466934,
  0.05675366893410683,
  0.054012782871723175,
  0.06342156231403351,
  0.07101209461688995,
  0.0725732073187828,
  0.05132368952035904,
  0.05631366744637489,
  0.08036831766366959,
  0.042548153549432755,
  0.08856160938739777,
  0.07035664469003677,
  0.06684042513370514,
  0.06553708016872406,
  0.07161850482225418,
  0.07869209349155426,
  0.0923883244395256,
  0.07250775396823883,
  0.047252874821424484,
  0.09408337622880936,
  0.10111229866743088,
  0.08699958026409149,
  0.04731837287545204,
  0.05740746110677719,
  0.10644254088401794,
  0.06553690135478973,
  0.09625347703695297,
  0.0600249245762825,
  0.09023446589708328,
  0.05953091382980347,
  0.0627933144569397,
  0.058880504220724106,
  0.05611332133412361,
  0.058984722942113876,
  0.11353465169668198,
  0.07198960334062576,
  0.06716406345367432,
  0.05160169303417206,
  0.07251670956611633,
  0.05060359463095665,
  0.05870560556650162,
  0.07415545731782913,
  0.03951161727309227,
  0.0402040034532547,
  0.03883067145943642,
  0.06944544613361359,
  0.05482769384980202,
  0.03255914896726608,
  0.052500780671834946,
  0.06770110875368118,
  0.06221150979399681],
 'accuracy': [0.45432692766189575,
  0.536057710647583,
  0.536057710647583,
  0.5240384340286255,
  0.5528846383094788,
  0.5480769276618958,
  0.5625,
  0.5745192170143127,
  0.6225961446762085,
  0.692307710647583,
  0.6875,
  0.7524038553237915,
  0.7355769276618958,
  0.6778846383094788,
  0.7524038553237915,
  0.7644230723381042,
  0.7524038553237915,
  0.7475961446762085,
  0.7980769276618958,
  0.7644230723381042,
  0.7403846383094788,
  0.7572115659713745,
  0.7644230723381042,
  0.7644230723381042,
  0.7596153616905212,
  0.7908653616905212,
  0.7740384340286255,
  0.8028846383094788,
  0.78125,
  0.8052884340286255,
  0.7740384340286255,
  0.7596153616905212,
  0.7884615659713745,
  0.7908653616905212,
  0.8004807829856873,
  0.7668269276618958,
  0.7908653616905212,
  0.7908653616905212,
  0.7620192170143127,
  0.7716346383094788,
  0.7908653616905212,
  0.807692289352417,
  0.8269230723381042,
  0.8052884340286255,
  0.8052884340286255,
  0.8100961446762085,
  0.8413461446762085,
  0.8557692170143127,
  0.8149038553237915,
  0.8317307829856873,
  0.8269230723381042,
  0.8725961446762085,
  0.8581730723381042,
  0.8605769276618958,
  0.8653846383094788,
  0.8557692170143127,
  0.879807710647583,
  0.879807710647583,
  0.8774038553237915,
  0.8557692170143127,
  0.8918269276618958,
  0.879807710647583,
  0.8774038553237915,
  0.901442289352417,
  0.8942307829856873,
  0.9134615659713745,
  0.8942307829856873,
  0.911057710647583,
  0.8870192170143127,
  0.8990384340286255,
  0.9086538553237915,
  0.8870192170143127,
  0.9086538553237915,
  0.90625,
  0.8918269276618958,
  0.901442289352417,
  0.9182692170143127,
  0.9182692170143127,
  0.9134615659713745,
  0.9158653616905212,
  0.9254807829856873,
  0.9134615659713745,
  0.9134615659713745,
  0.9182692170143127,
  0.9230769276618958,
  0.8990384340286255,
  0.9086538553237915,
  0.9206730723381042,
  0.9158653616905212,
  0.901442289352417,
  0.9182692170143127,
  0.9206730723381042,
  0.9302884340286255,
  0.9302884340286255,
  0.9254807829856873,
  0.90625,
  0.9158653616905212,
  0.9278846383094788,
  0.9302884340286255,
  0.9230769276618958,
  0.9254807829856873,
  0.9350961446762085,
  0.9350961446762085,
  0.9350961446762085,
  0.9471153616905212,
  0.9206730723381042,
  0.9206730723381042,
  0.9254807829856873,
  0.9519230723381042,
  0.932692289352417,
  0.9254807829856873,
  0.9447115659713745,
  0.932692289352417,
  0.932692289352417,
  0.9302884340286255,
  0.9182692170143127,
  0.9350961446762085,
  0.9615384340286255,
  0.9254807829856873,
  0.932692289352417,
  0.9302884340286255,
  0.9495192170143127,
  0.942307710647583,
  0.9495192170143127,
  0.9399038553237915,
  0.9399038553237915,
  0.9399038553237915,
  0.9543269276618958,
  0.9495192170143127,
  0.9567307829856873,
  0.9399038553237915,
  0.9399038553237915,
  0.9495192170143127,
  0.9471153616905212,
  0.9375,
  0.9447115659713745,
  0.9375,
  0.9471153616905212,
  0.9471153616905212,
  0.932692289352417,
  0.9519230723381042,
  0.9350961446762085,
  0.9302884340286255,
  0.9543269276618958,
  0.9158653616905212,
  0.9302884340286255,
  0.9447115659713745,
  0.9495192170143127,
  0.9519230723381042,
  0.9591346383094788,
  0.942307710647583,
  0.9543269276618958,
  0.9543269276618958,
  0.9615384340286255,
  0.9519230723381042,
  0.9375,
  0.9519230723381042,
  0.9495192170143127,
  0.9471153616905212,
  0.9375,
  0.9519230723381042,
  0.9471153616905212,
  0.9663461446762085,
  0.942307710647583,
  0.9663461446762085,
  0.9471153616905212,
  0.9591346383094788,
  0.9663461446762085,
  0.9567307829856873,
  0.9543269276618958,
  0.9471153616905212,
  0.9495192170143127,
  0.9495192170143127,
  0.9543269276618958,
  0.9471153616905212,
  0.9615384340286255,
  0.9399038553237915,
  0.9615384340286255,
  0.9567307829856873,
  0.9711538553237915,
  0.9471153616905212,
  0.9543269276618958,
  0.9519230723381042,
  0.9519230723381042,
  0.96875,
  0.9759615659713745,
  0.963942289352417,
  0.9591346383094788,
  0.9495192170143127,
  0.963942289352417,
  0.9543269276618958,
  0.9519230723381042,
  0.9663461446762085,
  0.9591346383094788,
  0.9567307829856873,
  0.9591346383094788,
  0.963942289352417,
  0.9567307829856873,
  0.9615384340286255,
  0.96875,
  0.963942289352417,
  0.9591346383094788,
  0.9543269276618958,
  0.9663461446762085,
  0.9543269276618958,
  0.9567307829856873,
  0.9591346383094788,
  0.9567307829856873,
  0.9519230723381042,
  0.9519230723381042,
  0.942307710647583,
  0.963942289352417,
  0.973557710647583,
  0.9591346383094788,
  0.9567307829856873,
  0.9663461446762085,
  0.963942289352417,
  0.9783653616905212,
  0.9591346383094788,
  0.9591346383094788,
  0.9807692170143127,
  0.9783653616905212,
  0.9663461446762085,
  0.9711538553237915,
  0.9759615659713745,
  0.973557710647583,
  0.9663461446762085,
  0.963942289352417,
  0.9375,
  0.9567307829856873,
  0.9591346383094788,
  0.9807692170143127,
  0.9591346383094788,
  0.9663461446762085,
  0.973557710647583,
  0.973557710647583,
  0.963942289352417,
  0.9591346383094788,
  0.9615384340286255,
  0.9759615659713745,
  0.9663461446762085,
  0.963942289352417,
  0.9615384340286255,
  0.9447115659713745,
  0.9591346383094788,
  0.9663461446762085,
  0.9663461446762085,
  0.9591346383094788,
  0.963942289352417,
  0.963942289352417,
  0.963942289352417,
  0.9519230723381042,
  0.9615384340286255,
  0.9567307829856873,
  0.9350961446762085,
  0.9615384340286255,
  0.96875,
  0.9495192170143127,
  0.9831730723381042,
  0.9711538553237915,
  0.9759615659713745,
  0.9543269276618958,
  0.96875,
  0.96875,
  0.973557710647583,
  0.9711538553237915,
  0.963942289352417,
  0.9831730723381042,
  0.9543269276618958,
  0.9615384340286255,
  0.9567307829856873,
  0.963942289352417,
  0.9591346383094788,
  0.9759615659713745,
  0.9663461446762085,
  0.9663461446762085,
  0.9615384340286255,
  0.963942289352417,
  0.9591346383094788,
  0.9663461446762085,
  0.9711538553237915,
  0.9663461446762085,
  0.9615384340286255,
  0.9663461446762085,
  0.9663461446762085,
  0.963942289352417,
  0.973557710647583,
  0.96875,
  0.9663461446762085,
  0.9711538553237915,
  0.973557710647583,
  0.9663461446762085,
  0.973557710647583,
  0.9663461446762085,
  0.96875,
  0.9663461446762085,
  0.9711538553237915,
  0.9567307829856873,
  0.9447115659713745,
  0.9663461446762085,
  0.9711538553237915,
  0.9759615659713745,
  0.9903846383094788,
  0.9711538553237915,
  0.9711538553237915,
  0.9807692170143127,
  0.9783653616905212,
  0.973557710647583,
  0.9759615659713745,
  0.9831730723381042,
  0.9807692170143127,
  0.96875,
  0.9759615659713745,
  0.9591346383094788,
  0.9783653616905212,
  0.9663461446762085,
  0.9591346383094788,
  0.9711538553237915,
  0.973557710647583,
  0.9783653616905212,
  0.9615384340286255,
  0.963942289352417,
  0.9831730723381042,
  0.973557710647583,
  0.9855769276618958,
  0.9519230723381042,
  0.973557710647583,
  0.973557710647583,
  0.9711538553237915,
  0.963942289352417,
  0.9615384340286255,
  0.9615384340286255,
  0.9807692170143127,
  0.963942289352417,
  0.9783653616905212,
  0.963942289352417,
  0.9783653616905212,
  0.96875,
  0.973557710647583,
  0.9663461446762085,
  0.9519230723381042,
  0.9567307829856873,
  0.9663461446762085,
  0.963942289352417,
  0.96875,
  0.9663461446762085,
  0.9783653616905212,
  0.96875,
  0.9663461446762085,
  0.9543269276618958,
  0.9567307829856873,
  0.963942289352417,
  0.9615384340286255,
  0.973557710647583,
  0.9711538553237915,
  0.9759615659713745,
  0.963942289352417,
  0.9759615659713745,
  0.9903846383094788,
  0.9783653616905212,
  0.9711538553237915,
  0.9879807829856873,
  0.9711538553237915,
  0.9759615659713745,
  0.96875,
  0.96875,
  0.973557710647583,
  0.9759615659713745,
  0.9807692170143127,
  0.9759615659713745,
  0.9807692170143127,
  0.9783653616905212,
  0.9831730723381042,
  0.9711538553237915,
  0.973557710647583,
  0.9831730723381042,
  0.9831730723381042,
  0.963942289352417,
  0.9855769276618958,
  0.9807692170143127,
  0.9663461446762085,
  0.9759615659713745,
  0.9807692170143127,
  0.973557710647583,
  0.9831730723381042,
  0.9615384340286255,
  0.96875,
  0.9783653616905212,
  0.96875,
  0.9759615659713745,
  0.9855769276618958,
  0.9711538553237915,
  0.9903846383094788,
  0.9807692170143127,
  0.96875,
  0.9855769276618958,
  0.9783653616905212,
  0.963942289352417,
  0.9711538553237915,
  0.9543269276618958,
  0.9783653616905212,
  0.963942289352417,
  0.96875,
  0.9711538553237915,
  0.9783653616905212,
  0.96875,
  0.9663461446762085,
  0.9807692170143127,
  0.96875,
  0.9591346383094788,
  0.9759615659713745,
  0.9831730723381042,
  0.973557710647583,
  0.995192289352417,
  0.9807692170143127,
  0.9759615659713745,
  0.9783653616905212,
  0.9663461446762085,
  0.9831730723381042,
  0.9591346383094788,
  0.9615384340286255,
  0.9831730723381042,
  0.9663461446762085,
  0.9711538553237915,
  0.9615384340286255,
  0.9807692170143127,
  0.9759615659713745,
  0.973557710647583,
  0.9831730723381042,
  0.9711538553237915,
  0.9711538553237915,
  0.973557710647583,
  0.9831730723381042,
  0.9807692170143127,
  0.9759615659713745,
  0.9711538553237915,
  0.9831730723381042,
  0.9807692170143127,
  0.973557710647583,
  0.9783653616905212,
  0.9591346383094788,
  0.9807692170143127,
  0.9783653616905212,
  0.9831730723381042,
  0.9807692170143127,
  0.973557710647583,
  0.9903846383094788,
  0.9759615659713745,
  0.9759615659713745,
  0.9831730723381042,
  0.9855769276618958,
  0.9807692170143127,
  0.9615384340286255,
  0.9711538553237915,
  0.9759615659713745,
  0.9831730723381042,
  0.9855769276618958,
  0.973557710647583,
  0.9855769276618958,
  0.9663461446762085,
  0.973557710647583,
  0.9711538553237915,
  0.9807692170143127,
  0.9663461446762085,
  0.9711538553237915,
  0.9711538553237915,
  0.963942289352417,
  0.9807692170143127,
  0.963942289352417,
  0.963942289352417,
  0.96875,
  0.9855769276618958,
  0.9783653616905212,
  0.9567307829856873,
  0.9807692170143127,
  0.973557710647583,
  0.9711538553237915,
  0.96875,
  0.973557710647583,
  0.973557710647583,
  0.9807692170143127,
  0.9783653616905212,
  0.973557710647583,
  0.9447115659713745,
  0.973557710647583,
  0.9783653616905212,
  0.9807692170143127,
  0.96875,
  0.9783653616905212,
  0.9783653616905212,
  0.9783653616905212,
  0.9927884340286255,
  0.9855769276618958,
  0.9831730723381042,
  0.96875,
  0.9807692170143127,
  0.9855769276618958,
  0.973557710647583,
  0.9711538553237915,
  0.9831730723381042],
 'val_loss': [0.7717583179473877,
  0.7113422155380249,
  0.7053888440132141,
  0.6992313265800476,
  0.6973828673362732,
  0.7111911177635193,
  0.7125928401947021,
  0.718666136264801,
  0.8001024723052979,
  0.7542229294776917,
  0.7780709862709045,
  1.0685310363769531,
  0.7233774662017822,
  0.803088903427124,
  0.6946476697921753,
  0.7076622843742371,
  0.7476075887680054,
  0.7488385438919067,
  0.7617155313491821,
  0.7410955429077148,
  1.0393445491790771,
  0.8170285224914551,
  0.7399634122848511,
  0.9001810550689697,
  0.7747663259506226,
  0.9809600114822388,
  0.8624236583709717,
  0.7903449535369873,
  0.6581432819366455,
  0.9159702658653259,
  1.0153449773788452,
  0.9382697343826294,
  0.6558153629302979,
  0.7057503461837769,
  0.8957482576370239,
  0.7422951459884644,
  0.7265698909759521,
  0.6409253478050232,
  0.6147250533103943,
  0.6620029807090759,
  0.6969810724258423,
  0.720348060131073,
  0.7494580149650574,
  0.5735179781913757,
  0.5624806880950928,
  0.5808283090591431,
  0.5559343695640564,
  0.7702096700668335,
  0.6164808869361877,
  0.611015260219574,
  0.4948091506958008,
  0.43636730313301086,
  0.5648330450057983,
  0.46977269649505615,
  0.693403422832489,
  0.7580406665802002,
  0.5733201503753662,
  0.6798210740089417,
  0.677821934223175,
  0.5389748811721802,
  0.45319664478302,
  0.35206305980682373,
  0.4463844299316406,
  0.3450929522514343,
  0.40177470445632935,
  0.6110496520996094,
  0.2727441191673279,
  0.44661739468574524,
  0.19077806174755096,
  0.27251139283180237,
  0.5032291412353516,
  0.3230056166648865,
  0.4571462869644165,
  0.325987845659256,
  0.16394734382629395,
  0.2822211980819702,
  0.44772303104400635,
  0.21499933302402496,
  0.26286521553993225,
  0.2479805201292038,
  0.2417164146900177,
  0.198006272315979,
  0.3002099394798279,
  0.28822028636932373,
  0.22316855192184448,
  0.3642900884151459,
  0.24813216924667358,
  0.14521524310112,
  0.33663317561149597,
  0.15861286222934723,
  0.12885282933712006,
  0.1728917509317398,
  0.17224827408790588,
  0.13717295229434967,
  0.18246009945869446,
  0.3064129650592804,
  0.10889201611280441,
  0.16890837252140045,
  0.11996330320835114,
  0.17560213804244995,
  0.14804260432720184,
  0.23384305834770203,
  0.12164820730686188,
  0.17916934192180634,
  0.1616896241903305,
  0.1162312850356102,
  0.16828274726867676,
  0.11891910433769226,
  0.18113070726394653,
  0.11858651041984558,
  0.2988891303539276,
  0.1728011965751648,
  0.09128328412771225,
  0.11717527359724045,
  0.1273646205663681,
  0.15911179780960083,
  0.1449371725320816,
  0.0845271497964859,
  0.2465219795703888,
  0.08818069100379944,
  0.19763009250164032,
  0.16531746089458466,
  0.08169712126255035,
  0.14301426708698273,
  0.07209338247776031,
  0.06856098026037216,
  0.06448518484830856,
  0.10638449341058731,
  0.06602109223604202,
  0.07682600617408752,
  0.06328991055488586,
  0.08625177294015884,
  0.053302500396966934,
  0.037403300404548645,
  0.0663360059261322,
  0.10488584637641907,
  0.05931635573506355,
  0.05942155793309212,
  0.10211412608623505,
  0.0654405727982521,
  0.12823687493801117,
  0.07618993520736694,
  0.0557236522436142,
  0.055345796048641205,
  0.10096621513366699,
  0.056471068412065506,
  0.051339078694581985,
  0.08208635449409485,
  0.04993303865194321,
  0.0364685021340847,
  0.08580747991800308,
  0.04367293044924736,
  0.03633441403508186,
  0.03396991640329361,
  0.04265613853931427,
  0.03502553328871727,
  0.04477718845009804,
  0.0668826475739479,
  0.03386900946497917,
  0.04777664691209793,
  0.032270174473524094,
  0.03691627085208893,
  0.10459253191947937,
  0.04284081235527992,
  0.04258114472031593,
  0.04883363097906113,
  0.09509274363517761,
  0.03487236052751541,
  0.0455290786921978,
  0.03688246011734009,
  0.03319046273827553,
  0.046271152794361115,
  0.029149072244763374,
  0.04277803376317024,
  0.02937113493680954,
  0.042150452733039856,
  0.03696506842970848,
  0.024467047303915024,
  0.04263213276863098,
  0.024297663941979408,
  0.03425537422299385,
  0.04128267243504524,
  0.045046836137771606,
  0.025656048208475113,
  0.027942977845668793,
  0.03714635223150253,
  0.05012955889105797,
  0.036394666880369186,
  0.02683810144662857,
  0.030045725405216217,
  0.024405959993600845,
  0.03001411072909832,
  0.032038088887929916,
  0.02868499606847763,
  0.03243650496006012,
  0.017211657017469406,
  0.020477622747421265,
  0.030963102355599403,
  0.03548908978700638,
  0.019641436636447906,
  0.02166874334216118,
  0.02222461625933647,
  0.01800164394080639,
  0.039173468947410583,
  0.02787884697318077,
  0.016725439578294754,
  0.021527104079723358,
  0.03581683710217476,
  0.03152129054069519,
  0.023202212527394295,
  0.026057373732328415,
  0.020439302548766136,
  0.01756729744374752,
  0.030388781800866127,
  0.030455999076366425,
  0.0524863637983799,
  0.052202947437763214,
  0.023046845570206642,
  0.02405383624136448,
  0.05040232837200165,
  0.023219212889671326,
  0.015843546018004417,
  0.01999812386929989,
  0.013778630644083023,
  0.030870262533426285,
  0.01467454805970192,
  0.019909190014004707,
  0.016618438065052032,
  0.020592736080288887,
  0.024938609451055527,
  0.02728334255516529,
  0.021106570959091187,
  0.04209326207637787,
  0.016679033637046814,
  0.014768564142286777,
  0.01747603341937065,
  0.022183578461408615,
  0.01690506562590599,
  0.014283403754234314,
  0.03569330647587776,
  0.055156197398900986,
  0.010213320143520832,
  0.0600745864212513,
  0.008855839259922504,
  0.011165501549839973,
  0.008570419624447823,
  0.022191191092133522,
  0.013976906426250935,
  0.02011732943356037,
  0.02023921348154545,
  0.017863672226667404,
  0.011813861317932606,
  0.016667336225509644,
  0.07472045719623566,
  0.0330180749297142,
  0.039943184703588486,
  0.0243191160261631,
  0.019706426188349724,
  0.04636320471763611,
  0.019033297896385193,
  0.02109459973871708,
  0.018029555678367615,
  0.020677264779806137,
  0.026710329577326775,
  0.018413085490465164,
  0.013404405675828457,
  0.028773754835128784,
  0.01784437708556652,
  0.014054124243557453,
  0.01833103410899639,
  0.026446105912327766,
  0.0596918910741806,
  0.017184272408485413,
  0.01654454693198204,
  0.016586817800998688,
  0.05234036594629288,
  0.014868315309286118,
  0.012900076806545258,
  0.010816948488354683,
  0.020383218303322792,
  0.013546832837164402,
  0.00814796518534422,
  0.017112459987401962,
  0.011768650263547897,
  0.012470358051359653,
  0.008683436550199986,
  0.02345905639231205,
  0.018780771642923355,
  0.02193986065685749,
  0.01703532226383686,
  0.008543532341718674,
  0.00984453409910202,
  0.023875100538134575,
  0.014053751714527607,
  0.022370275110006332,
  0.00764573784545064,
  0.0195862278342247,
  0.012453134171664715,
  0.011963476426899433,
  0.04996410757303238,
  0.011421139352023602,
  0.010966389440000057,
  0.009243403561413288,
  0.009342599660158157,
  0.010907051153481007,
  0.024216940626502037,
  0.022035028785467148,
  0.010685820132493973,
  0.021389491856098175,
  0.004327664151787758,
  0.00891785230487585,
  0.010708029381930828,
  0.010853452607989311,
  0.008080556057393551,
  0.005312737543135881,
  0.0206049382686615,
  0.03813617676496506,
  0.028612039983272552,
  0.008267833851277828,
  0.03106657974421978,
  0.027775119990110397,
  0.007974844425916672,
  0.0095134936273098,
  0.017049718648195267,
  0.006726707331836224,
  0.008566428907215595,
  0.007942830212414265,
  0.01327022910118103,
  0.02802176959812641,
  0.018771760165691376,
  0.01837228238582611,
  0.010449418798089027,
  0.006370598915964365,
  0.009676812216639519,
  0.049241963773965836,
  0.03423812985420227,
  0.02341189794242382,
  0.01490558497607708,
  0.010139098390936852,
  0.019463427364826202,
  0.008643504232168198,
  0.004504462704062462,
  0.024378575384616852,
  0.01718958467245102,
  0.017147131264209747,
  0.014247152954339981,
  0.004835735075175762,
  0.012646658346056938,
  0.00882392656058073,
  0.004964223597198725,
  0.04019865766167641,
  0.011579648591578007,
  0.006159177049994469,
  0.02509344182908535,
  0.01305063720792532,
  0.019844982773065567,
  0.0044972654432058334,
  0.010318194516003132,
  0.005016145296394825,
  0.009667493402957916,
  0.007279464043676853,
  0.008512014523148537,
  0.01570320874452591,
  0.03957443684339523,
  0.009958159178495407,
  0.008893168531358242,
  0.014877766370773315,
  0.012948904186487198,
  0.0018565644277259707,
  0.021806808188557625,
  0.005699233617633581,
  0.007509930059313774,
  0.00933163519948721,
  0.01674702949821949,
  0.004032992757856846,
  0.0023143577855080366,
  0.007136922795325518,
  0.01891053467988968,
  0.035438865423202515,
  0.026565968990325928,
  0.015438874252140522,
  0.007354219909757376,
  0.003544266102835536,
  0.0119862612336874,
  0.00699437502771616,
  0.01244750339537859,
  0.010801008902490139,
  0.007924413308501244,
  0.013735898770391941,
  0.02341024950146675,
  0.007162338122725487,
  0.0107260812073946,
  0.009107811376452446,
  0.02886383794248104,
  0.004914956633001566,
  0.005546318367123604,
  0.0027349544689059258,
  0.007806132081896067,
  0.01532287709414959,
  0.0074113477021455765,
  0.003996985033154488,
  0.006773156113922596,
  0.005589163396507502,
  0.011504552327096462,
  0.0036930229980498552,
  0.0513325035572052,
  0.013621375896036625,
  0.010270574130117893,
  0.007294217124581337,
  0.006941040046513081,
  0.00824185460805893,
  0.007867356762290001,
  0.009195201098918915,
  0.00883503444492817,
  0.012501087039709091,
  0.003874807618558407,
  0.002860737731680274,
  0.0096233319491148,
  0.025307627394795418,
  0.007965386845171452,
  0.054857026785612106,
  0.009363528341054916,
  0.004822025075554848,
  0.010831780731678009,
  0.014583844691514969,
  0.021167006343603134,
  0.010298548266291618,
  0.003911981359124184,
  0.0067264181561768055,
  0.021488865837454796,
  0.0090167922899127,
  0.009794004261493683,
  0.009665043093264103,
  0.006479321047663689,
  0.004652037750929594,
  0.009568965993821621,
  0.003983016591519117,
  0.001584791811183095,
  0.007483072578907013,
  0.008958389982581139,
  0.0075754099525511265,
  0.015469059348106384,
  0.010703223757445812,
  0.00913036148995161,
  0.0035499881487339735,
  0.004384355619549751,
  0.0044605927541852,
  0.004457081668078899,
  0.029442541301250458,
  0.0061319563537836075,
  0.008230946026742458,
  0.004954425618052483,
  0.00811627134680748,
  0.0050494191236793995,
  0.011324180290102959,
  0.003837676951661706,
  0.0075798481702804565,
  0.006389636546373367,
  0.0029593321960419416,
  0.024027906358242035,
  0.013310703448951244,
  0.015777772292494774,
  0.02868630550801754,
  0.015566585585474968,
  0.026888297870755196,
  0.009544502012431622,
  0.007873592898249626,
  0.008471568115055561,
  0.013482204638421535,
  0.009276244789361954,
  0.007454566657543182,
  0.0070680296048521996,
  0.026586804538965225,
  0.014789110980927944,
  0.018594875931739807,
  0.007549488916993141,
  0.009221335873007774,
  0.016518840566277504,
  0.006736996583640575,
  0.01120351068675518,
  0.009201154112815857,
  0.015199561603367329,
  0.012525449506938457,
  0.022863250225782394,
  0.011639491654932499,
  0.007333517074584961,
  0.0068049803376197815,
  0.013216331601142883,
  0.008838824927806854,
  0.006479345262050629,
  0.006003967020660639,
  0.0055650267750024796,
  0.00619574636220932,
  0.01669214479625225,
  0.018117133527994156,
  0.005581269506365061,
  0.005131470039486885,
  0.005268973298370838,
  0.005568731110543013,
  0.009194050915539265],
 'val_accuracy': [0.5,
  0.5,
  0.5,
  0.5,
  0.5694444179534912,
  0.5,
  0.4722222089767456,
  0.4444444477558136,
  0.5,
  0.5555555820465088,
  0.5416666865348816,
  0.5,
  0.5972222089767456,
  0.5277777910232544,
  0.5972222089767456,
  0.5694444179534912,
  0.5972222089767456,
  0.5833333134651184,
  0.6111111044883728,
  0.6111111044883728,
  0.5277777910232544,
  0.5694444179534912,
  0.625,
  0.5277777910232544,
  0.6527777910232544,
  0.5277777910232544,
  0.5833333134651184,
  0.5972222089767456,
  0.6527777910232544,
  0.5416666865348816,
  0.5277777910232544,
  0.5277777910232544,
  0.6805555820465088,
  0.6805555820465088,
  0.5555555820465088,
  0.6805555820465088,
  0.6944444179534912,
  0.7222222089767456,
  0.7083333134651184,
  0.7083333134651184,
  0.6944444179534912,
  0.7083333134651184,
  0.7083333134651184,
  0.7083333134651184,
  0.7777777910232544,
  0.7777777910232544,
  0.8055555820465088,
  0.6944444179534912,
  0.75,
  0.75,
  0.8194444179534912,
  0.8472222089767456,
  0.7777777910232544,
  0.8194444179534912,
  0.7638888955116272,
  0.7083333134651184,
  0.7916666865348816,
  0.75,
  0.7638888955116272,
  0.8333333134651184,
  0.875,
  0.875,
  0.875,
  0.8888888955116272,
  0.875,
  0.8194444179534912,
  0.875,
  0.875,
  0.9583333134651184,
  0.8888888955116272,
  0.8472222089767456,
  0.875,
  0.8611111044883728,
  0.875,
  0.9583333134651184,
  0.875,
  0.875,
  0.9027777910232544,
  0.8888888955116272,
  0.8888888955116272,
  0.8888888955116272,
  0.9305555820465088,
  0.8888888955116272,
  0.8888888955116272,
  0.9027777910232544,
  0.8888888955116272,
  0.9027777910232544,
  0.9305555820465088,
  0.875,
  0.9583333134651184,
  0.9583333134651184,
  0.9166666865348816,
  0.9027777910232544,
  0.9444444179534912,
  0.8888888955116272,
  0.8888888955116272,
  0.9722222089767456,
  0.9027777910232544,
  0.9444444179534912,
  0.9027777910232544,
  0.9305555820465088,
  0.8888888955116272,
  0.9166666865348816,
  0.9166666865348816,
  0.9166666865348816,
  0.9305555820465088,
  0.9027777910232544,
  0.9444444179534912,
  0.9166666865348816,
  0.9305555820465088,
  0.8888888955116272,
  0.9027777910232544,
  0.9861111044883728,
  0.9583333134651184,
  0.9444444179534912,
  0.9444444179534912,
  0.9166666865348816,
  0.9722222089767456,
  0.9027777910232544,
  0.9722222089767456,
  0.8888888955116272,
  0.9027777910232544,
  0.9722222089767456,
  0.9166666865348816,
  0.9861111044883728,
  0.9861111044883728,
  0.9861111044883728,
  0.9305555820465088,
  0.9861111044883728,
  0.9722222089767456,
  0.9722222089767456,
  0.9583333134651184,
  0.9722222089767456,
  1.0,
  0.9861111044883728,
  0.9583333134651184,
  0.9861111044883728,
  0.9861111044883728,
  0.9444444179534912,
  0.9861111044883728,
  0.9166666865348816,
  0.9861111044883728,
  0.9861111044883728,
  0.9722222089767456,
  0.9722222089767456,
  1.0,
  0.9861111044883728,
  0.9583333134651184,
  0.9861111044883728,
  0.9861111044883728,
  0.9722222089767456,
  0.9861111044883728,
  1.0,
  1.0,
  1.0,
  1.0,
  0.9861111044883728,
  0.9722222089767456,
  1.0,
  0.9861111044883728,
  1.0,
  1.0,
  0.9583333134651184,
  0.9861111044883728,
  0.9861111044883728,
  0.9861111044883728,
  0.9444444179534912,
  1.0,
  0.9861111044883728,
  0.9861111044883728,
  0.9861111044883728,
  1.0,
  1.0,
  0.9861111044883728,
  1.0,
  0.9861111044883728,
  1.0,
  1.0,
  0.9861111044883728,
  1.0,
  1.0,
  0.9861111044883728,
  0.9861111044883728,
  1.0,
  1.0,
  0.9861111044883728,
  0.9722222089767456,
  0.9861111044883728,
  0.9861111044883728,
  0.9861111044883728,
  1.0,
  1.0,
  0.9861111044883728,
  1.0,
  0.9861111044883728,
  1.0,
  1.0,
  0.9861111044883728,
  1.0,
  1.0,
  1.0,
  1.0,
  1.0,
  1.0,
  1.0,
  1.0,
  0.9861111044883728,
  0.9861111044883728,
  1.0,
  0.9861111044883728,
  1.0,
  1.0,
  1.0,
  0.9861111044883728,
  0.9861111044883728,
  0.9861111044883728,
  0.9861111044883728,
  1.0,
  1.0,
  1.0,
  1.0,
  1.0,
  0.9861111044883728,
  1.0,
  0.9861111044883728,
  1.0,
  0.9861111044883728,
  1.0,
  1.0,
  0.9861111044883728,
  1.0,
  1.0,
  1.0,
  1.0,
  1.0,
  1.0,
  0.9861111044883728,
  1.0,
  1.0,
  0.9861111044883728,
  0.9722222089767456,
  1.0,
  0.9861111044883728,
  1.0,
  1.0,
  1.0,
  1.0,
  1.0,
  1.0,
  1.0,
  1.0,
  1.0,
  1.0,
  0.9722222089767456,
  1.0,
  1.0,
  1.0,
  1.0,
  0.9861111044883728,
  1.0,
  1.0,
  1.0,
  1.0,
  1.0,
  1.0,
  1.0,
  1.0,
  1.0,
  1.0,
  1.0,
  0.9861111044883728,
  1.0,
  1.0,
  0.9861111044883728,
  1.0,
  1.0,
  1.0,
  1.0,
  1.0,
  1.0,
  1.0,
  1.0,
  1.0,
  1.0,
  1.0,
  1.0,
  0.9861111044883728,
  1.0,
  0.9861111044883728,
  1.0,
  1.0,
  1.0,
  1.0,
  1.0,
  0.9861111044883728,
  1.0,
  1.0,
  1.0,
  1.0,
  0.9861111044883728,
  1.0,
  1.0,
  1.0,
  1.0,
  1.0,
  0.9861111044883728,
  0.9861111044883728,
  1.0,
  1.0,
  1.0,
  1.0,
  1.0,
  1.0,
  1.0,
  1.0,
  1.0,
  0.9861111044883728,
  1.0,
  1.0,
  0.9861111044883728,
  1.0,
  1.0,
  1.0,
  1.0,
  1.0,
  1.0,
  1.0,
  1.0,
  0.9861111044883728,
  1.0,
  1.0,
  1.0,
  1.0,
  1.0,
  0.9861111044883728,
  0.9861111044883728,
  0.9861111044883728,
  1.0,
  1.0,
  1.0,
  1.0,
  1.0,
  1.0,
  1.0,
  1.0,
  1.0,
  1.0,
  1.0,
  1.0,
  1.0,
  0.9861111044883728,
  1.0,
  1.0,
  0.9861111044883728,
  1.0,
  1.0,
  1.0,
  1.0,
  1.0,
  1.0,
  1.0,
  1.0,
  1.0,
  0.9861111044883728,
  1.0,
  1.0,
  1.0,
  1.0,
  1.0,
  1.0,
  1.0,
  1.0,
  1.0,
  1.0,
  1.0,
  1.0,
  1.0,
  1.0,
  0.9861111044883728,
  0.9861111044883728,
  0.9861111044883728,
  1.0,
  1.0,
  1.0,
  1.0,
  1.0,
  1.0,
  1.0,
  1.0,
  0.9861111044883728,
  1.0,
  1.0,
  1.0,
  1.0,
  1.0,
  1.0,
  1.0,
  1.0,
  1.0,
  1.0,
  1.0,
  1.0,
  1.0,
  1.0,
  1.0,
  0.9861111044883728,
  1.0,
  1.0,
  1.0,
  1.0,
  1.0,
  1.0,
  1.0,
  1.0,
  0.9861111044883728,
  1.0,
  1.0,
  1.0,
  1.0,
  1.0,
  0.9861111044883728,
  1.0,
  1.0,
  1.0,
  0.9861111044883728,
  1.0,
  1.0,
  1.0,
  1.0,
  0.9861111044883728,
  1.0,
  1.0,
  1.0,
  1.0,
  1.0,
  1.0,
  1.0,
  1.0,
  1.0,
  1.0,
  1.0,
  1.0,
  1.0,
  1.0,
  1.0,
  1.0,
  1.0,
  1.0,
  0.9861111044883728,
  1.0,
  1.0,
  1.0,
  1.0,
  1.0,
  1.0,
  1.0,
  1.0,
  1.0,
  1.0,
  0.9861111044883728,
  1.0,
  1.0,
  0.9861111044883728,
  0.9861111044883728,
  0.9861111044883728,
  1.0,
  1.0,
  1.0,
  1.0,
  1.0,
  1.0,
  1.0,
  0.9861111044883728,
  1.0,
  0.9861111044883728,
  1.0,
  1.0,
  1.0,
  1.0,
  1.0,
  1.0,
  0.9861111044883728,
  1.0,
  1.0,
  1.0,
  1.0,
  1.0,
  1.0,
  1.0,
  1.0,
  1.0,
  1.0,
  1.0,
  0.9861111044883728,
  1.0,
  1.0,
  1.0,
  1.0,
  1.0,
  1.0]}
 
